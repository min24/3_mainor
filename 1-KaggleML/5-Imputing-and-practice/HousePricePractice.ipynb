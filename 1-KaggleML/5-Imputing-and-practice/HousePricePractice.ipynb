{
  "nbformat": 4,
  "nbformat_minor": 0,
  "metadata": {
    "colab": {
      "name": "HousePricePractice.ipynb",
      "provenance": [],
      "collapsed_sections": []
    },
    "kernelspec": {
      "name": "python3",
      "display_name": "Python 3"
    }
  },
  "cells": [
    {
      "cell_type": "markdown",
      "metadata": {
        "id": "EO8hcuRmcVPk",
        "colab_type": "text"
      },
      "source": [
        "Сегодня у нас практическое занятие посвященное общей схеме анализа данных.\n",
        "Работаем с данными по стоимости недвижимости с соревнования https://www.kaggle.com/c/house-prices-advanced-regression-techniques\n"
      ]
    },
    {
      "cell_type": "code",
      "metadata": {
        "id": "_bvKa93uSy0e",
        "colab_type": "code",
        "colab": {}
      },
      "source": [
        "import pandas as pd"
      ],
      "execution_count": 0,
      "outputs": []
    },
    {
      "cell_type": "code",
      "metadata": {
        "id": "ZGwOmsxkXalI",
        "colab_type": "code",
        "colab": {}
      },
      "source": [
        "HouseData = pd.read_csv(\"https://raw.githubusercontent.com/AVSirotkin/data_for_classes/master/HousePrices/train.csv\")\n",
        "DataForPrediction = pd.read_csv(\"https://raw.githubusercontent.com/AVSirotkin/data_for_classes/master/HousePrices/test.csv\")"
      ],
      "execution_count": 0,
      "outputs": []
    },
    {
      "cell_type": "markdown",
      "metadata": {
        "id": "z0DpHQ4ygSPJ",
        "colab_type": "text"
      },
      "source": [
        "Проведите предварительный анализ. Поситрите на пропущенные данные. На данном этапе уберите все столбцы в которых пропущено не менее половины данных."
      ]
    },
    {
      "cell_type": "code",
      "metadata": {
        "id": "dZ2tY7eAXair",
        "colab_type": "code",
        "colab": {}
      },
      "source": [
        "HouseData.info()"
      ],
      "execution_count": 0,
      "outputs": []
    },
    {
      "cell_type": "code",
      "metadata": {
        "id": "b2jzm7hIhxcA",
        "colab_type": "code",
        "colab": {}
      },
      "source": [
        "#ваш код здесь"
      ],
      "execution_count": 0,
      "outputs": []
    },
    {
      "cell_type": "markdown",
      "metadata": {
        "id": "OwVW_tXbhE7e",
        "colab_type": "text"
      },
      "source": [
        "Из описания данных и из информации которая у нас есть решите какие данные действительно числовые, а какие на самом деле категориальные. Преобразуйте категориальные данные в тип object."
      ]
    },
    {
      "cell_type": "code",
      "metadata": {
        "id": "SJLSoZztXaeW",
        "colab_type": "code",
        "colab": {}
      },
      "source": [
        "#ваш код здесь"
      ],
      "execution_count": 0,
      "outputs": []
    },
    {
      "cell_type": "markdown",
      "metadata": {
        "id": "3ynwkoHvh2IX",
        "colab_type": "text"
      },
      "source": [
        "Так как в нашей задаче используется логарифмическая ошибка, то логарифмируйте цену."
      ]
    },
    {
      "cell_type": "code",
      "metadata": {
        "id": "Gzu3OjeChDya",
        "colab_type": "code",
        "colab": {}
      },
      "source": [
        ""
      ],
      "execution_count": 0,
      "outputs": []
    },
    {
      "cell_type": "markdown",
      "metadata": {
        "id": "PrR8j0vHieiU",
        "colab_type": "text"
      },
      "source": [
        "Попробуйте визуализировать данные. Предложите для всех полей графики, которые могли бы помочь понять есть ли связь между переменной и логарифмом цены. По результатам визуализации выбирете 10-15 полей, которые на ваш взгляд наиболее сильно связаны с ценой."
      ]
    },
    {
      "cell_type": "code",
      "metadata": {
        "id": "Fwv7UMzyidU9",
        "colab_type": "code",
        "colab": {}
      },
      "source": [
        "#ваш код здесь"
      ],
      "execution_count": 0,
      "outputs": []
    },
    {
      "cell_type": "code",
      "metadata": {
        "id": "15zVsUSWh1mB",
        "colab_type": "code",
        "colab": {}
      },
      "source": [
        ""
      ],
      "execution_count": 0,
      "outputs": []
    },
    {
      "cell_type": "markdown",
      "metadata": {
        "id": "_1i0WFssjdax",
        "colab_type": "text"
      },
      "source": [
        "Дальше работаем только с выбранными переменными. Оставьте только их."
      ]
    },
    {
      "cell_type": "code",
      "metadata": {
        "id": "i8e-wajRjqFp",
        "colab_type": "code",
        "colab": {}
      },
      "source": [
        "#ваш код здесь"
      ],
      "execution_count": 0,
      "outputs": []
    },
    {
      "cell_type": "markdown",
      "metadata": {
        "id": "NndEjhnbjrZV",
        "colab_type": "text"
      },
      "source": [
        "Разбейте данные на тестовую (25%) и обучающую (75%) выборку."
      ]
    },
    {
      "cell_type": "code",
      "metadata": {
        "id": "C9ZnsaWOkMRJ",
        "colab_type": "code",
        "colab": {}
      },
      "source": [
        "#ваш код здесь"
      ],
      "execution_count": 0,
      "outputs": []
    },
    {
      "cell_type": "markdown",
      "metadata": {
        "id": "qR0loaa0kNO5",
        "colab_type": "text"
      },
      "source": [
        "Попробуйте построить следующие модели:\n",
        "\n",
        "Ridge и Lasso регрессию, выбрав параметр регуляризации с помошью кросcвалидации.\n",
        "\n",
        "RandomForest, подобрав количество деревьев, их глубину, количество используемых фич в каждом дереве и минимальное число примеров в каждом листе с помощью кросс-валидации, например, используя greed_search() "
      ]
    },
    {
      "cell_type": "code",
      "metadata": {
        "id": "E9bnrsR6m6Th",
        "colab_type": "code",
        "colab": {}
      },
      "source": [
        ""
      ],
      "execution_count": 0,
      "outputs": []
    },
    {
      "cell_type": "markdown",
      "metadata": {
        "id": "epjfpE3tm7Qv",
        "colab_type": "text"
      },
      "source": [
        "Сравните 3 получившихся модели. Какая из них лучше?"
      ]
    },
    {
      "cell_type": "code",
      "metadata": {
        "id": "-olliBB5niE5",
        "colab_type": "code",
        "colab": {}
      },
      "source": [
        ""
      ],
      "execution_count": 0,
      "outputs": []
    },
    {
      "cell_type": "markdown",
      "metadata": {
        "id": "55h_LImDnvL4",
        "colab_type": "text"
      },
      "source": [
        "Разбейте тестовую выборку на две части валидация (60% от тестовой выборки) и финальный тест (40%).\n"
      ]
    },
    {
      "cell_type": "code",
      "metadata": {
        "id": "PKtPqqyGodpL",
        "colab_type": "code",
        "colab": {}
      },
      "source": [
        ""
      ],
      "execution_count": 0,
      "outputs": []
    },
    {
      "cell_type": "markdown",
      "metadata": {
        "id": "ivvY2_uYoepU",
        "colab_type": "text"
      },
      "source": [
        "Обучите на валидационной выборке линейную регрессию, используя в качестве пременных прогнозы всех трех ранее построенных моделей.\n",
        "\n",
        "Стала ли такая модель работать лучше, чем каждая по отдельности?"
      ]
    },
    {
      "cell_type": "code",
      "metadata": {
        "id": "0TUjIyxVoz9E",
        "colab_type": "code",
        "colab": {}
      },
      "source": [
        ""
      ],
      "execution_count": 0,
      "outputs": []
    },
    {
      "cell_type": "markdown",
      "metadata": {
        "id": "6Ch09KlDpFsO",
        "colab_type": "text"
      },
      "source": [
        "Поробуйте еще как-нибудь скомбинировать выходы трех моделей, например среднее геометрическое."
      ]
    },
    {
      "cell_type": "code",
      "metadata": {
        "id": "DzKummZBpS7Y",
        "colab_type": "code",
        "colab": {}
      },
      "source": [
        ""
      ],
      "execution_count": 0,
      "outputs": []
    },
    {
      "cell_type": "markdown",
      "metadata": {
        "id": "ime-6IgfpT4M",
        "colab_type": "text"
      },
      "source": [
        "Сравните все получившиеся модели на финальном тесте. Какая работает лучше?"
      ]
    },
    {
      "cell_type": "code",
      "metadata": {
        "id": "m4B1LdQaplzl",
        "colab_type": "code",
        "colab": {}
      },
      "source": [
        ""
      ],
      "execution_count": 0,
      "outputs": []
    },
    {
      "cell_type": "markdown",
      "metadata": {
        "id": "_vFBTse4pmpD",
        "colab_type": "text"
      },
      "source": [
        "В качестве бонуса можете использовать вашу лучшую модель для предсказания результатов на DataForPrediction. Получившиеся прогнозы можно загрузить на Kaggle и сравнить свои результаты с другими."
      ]
    },
    {
      "cell_type": "code",
      "metadata": {
        "id": "im2hDBlQp_Zt",
        "colab_type": "code",
        "colab": {}
      },
      "source": [
        ""
      ],
      "execution_count": 0,
      "outputs": []
    }
  ]
}