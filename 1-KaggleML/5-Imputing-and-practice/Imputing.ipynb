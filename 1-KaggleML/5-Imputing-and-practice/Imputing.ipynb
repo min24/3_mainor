{
  "nbformat": 4,
  "nbformat_minor": 0,
  "metadata": {
    "kernelspec": {
      "display_name": "Python 3",
      "language": "python",
      "name": "python3"
    },
    "language_info": {
      "codemirror_mode": {
        "name": "ipython",
        "version": 3
      },
      "file_extension": ".py",
      "mimetype": "text/x-python",
      "name": "python",
      "nbconvert_exporter": "python",
      "pygments_lexer": "ipython3",
      "version": "3.7.4"
    },
    "colab": {
      "name": "Imputing.ipynb",
      "provenance": [],
      "collapsed_sections": []
    }
  },
  "cells": [
    {
      "cell_type": "markdown",
      "metadata": {
        "id": "VplZZscPWodL",
        "colab_type": "text"
      },
      "source": [
        "Сегодня мы поговорим о восстановлении пропусков"
      ]
    },
    {
      "cell_type": "code",
      "metadata": {
        "id": "aFwA9T3cWodM",
        "colab_type": "code",
        "colab": {}
      },
      "source": [
        "import pandas as pd\n",
        "from matplotlib import pyplot as plt\n",
        "import seaborn as sns\n",
        "%matplotlib inline\n",
        "from pylab import rcParams\n",
        "rcParams['figure.figsize'] = 16, 10\n",
        "import numpy as np\n"
      ],
      "execution_count": 0,
      "outputs": []
    },
    {
      "cell_type": "code",
      "metadata": {
        "id": "7n6TwwyzWodR",
        "colab_type": "code",
        "colab": {}
      },
      "source": [
        "HouseDataOriginal = pd.read_csv(\"https://raw.githubusercontent.com/AVSirotkin/data_for_classes/master/HousePrices/train.csv\")\n",
        "DataForPrediction = pd.read_csv(\"https://raw.githubusercontent.com/AVSirotkin/data_for_classes/master/HousePrices/test.csv\")\n",
        "HouseData = pd.read_csv(\"https://raw.githubusercontent.com/AVSirotkin/data_for_classes/master/HousePrices/train.csv\")"
      ],
      "execution_count": 0,
      "outputs": []
    },
    {
      "cell_type": "code",
      "metadata": {
        "id": "4ELI37L7WodW",
        "colab_type": "code",
        "colab": {}
      },
      "source": [
        "HouseData.isna().sum()[HouseData.isna().sum()>0]"
      ],
      "execution_count": 0,
      "outputs": []
    },
    {
      "cell_type": "code",
      "metadata": {
        "id": "f6WcMm-VWodb",
        "colab_type": "code",
        "colab": {}
      },
      "source": [
        "HouseData[HouseData.MasVnrType.isna()]"
      ],
      "execution_count": 0,
      "outputs": []
    },
    {
      "cell_type": "code",
      "metadata": {
        "id": "ytCss0c8Wodf",
        "colab_type": "code",
        "colab": {}
      },
      "source": [
        "HouseData.MasVnrType.value_counts()"
      ],
      "execution_count": 0,
      "outputs": []
    },
    {
      "cell_type": "code",
      "metadata": {
        "id": "gmg9a7mZWodk",
        "colab_type": "code",
        "colab": {}
      },
      "source": [
        "HouseData.MasVnrArea.value_counts()"
      ],
      "execution_count": 0,
      "outputs": []
    },
    {
      "cell_type": "code",
      "metadata": {
        "id": "uLRv7kQTWodo",
        "colab_type": "code",
        "colab": {}
      },
      "source": [
        "HouseData.MasVnrArea.hist()"
      ],
      "execution_count": 0,
      "outputs": []
    },
    {
      "cell_type": "code",
      "metadata": {
        "id": "wg7bwB2lWods",
        "colab_type": "code",
        "colab": {}
      },
      "source": [
        "HouseData.MasVnrArea.fillna(0, inplace = True)\n",
        "HouseData.MasVnrType.fillna(\"None\", inplace = True)"
      ],
      "execution_count": 0,
      "outputs": []
    },
    {
      "cell_type": "code",
      "metadata": {
        "id": "y4gMFeTUWodv",
        "colab_type": "code",
        "colab": {}
      },
      "source": [
        "from sklearn.impute import SimpleImputer"
      ],
      "execution_count": 0,
      "outputs": []
    },
    {
      "cell_type": "code",
      "metadata": {
        "id": "EaqghVkiWody",
        "colab_type": "code",
        "colab": {}
      },
      "source": [
        "HouseData.BsmtQual.value_counts()"
      ],
      "execution_count": 0,
      "outputs": []
    },
    {
      "cell_type": "code",
      "metadata": {
        "id": "aV_y0nEVWod1",
        "colab_type": "code",
        "colab": {}
      },
      "source": [
        "HouseData.BsmtCond.value_counts()"
      ],
      "execution_count": 0,
      "outputs": []
    },
    {
      "cell_type": "markdown",
      "metadata": {
        "id": "kkSIZpfvWod6",
        "colab_type": "text"
      },
      "source": [
        "* BsmtQual: Height of the basement\n",
        "* BsmtCond: General condition of the basement\n",
        "* BsmtExposure: Walkout or garden level basement walls\n",
        "* BsmtFinType1: Quality of basement finished area\n",
        "* BsmtFinSF1: Type 1 finished square feet\n",
        "* BsmtFinType2: Quality of second finished area (if present)"
      ]
    },
    {
      "cell_type": "code",
      "metadata": {
        "id": "bMA8W6aeWod7",
        "colab_type": "code",
        "colab": {}
      },
      "source": [
        "HouseData[[\"BsmtQual\", \"BsmtCond\", \"BsmtExposure\", \"BsmtFinType1\", \"BsmtFinType2\"]].describe()"
      ],
      "execution_count": 0,
      "outputs": []
    },
    {
      "cell_type": "code",
      "metadata": {
        "id": "FBsKr0hiWoeA",
        "colab_type": "code",
        "colab": {}
      },
      "source": [
        "HouseData.BsmtFinType1.value_counts()"
      ],
      "execution_count": 0,
      "outputs": []
    },
    {
      "cell_type": "code",
      "metadata": {
        "id": "xHlbBdUDWoeE",
        "colab_type": "code",
        "colab": {}
      },
      "source": [
        "imp = SimpleImputer(missing_values=np.nan, strategy='most_frequent', copy=False)\n",
        "imp.fit(HouseData[[\"BsmtQual\", \"BsmtCond\", \"BsmtExposure\", \"BsmtFinType1\", \"BsmtFinType2\"]])"
      ],
      "execution_count": 0,
      "outputs": []
    },
    {
      "cell_type": "markdown",
      "metadata": {
        "id": "wlmi-0wtWoeJ",
        "colab_type": "text"
      },
      "source": [
        "* If “mean”, then replace missing values using the mean along each column. Can only be used with numeric data.\n",
        "* If “median”, then replace missing values using the median along each column. Can only be used with numeric data.\n",
        "* If “most_frequent”, then replace missing using the most frequent value along each column. Can be used with strings or numeric data.\n",
        "* If “constant”, then replace missing values with fill_value. Can be used with strings or numeric data."
      ]
    },
    {
      "cell_type": "code",
      "metadata": {
        "id": "nR2d-x8YWoeK",
        "colab_type": "code",
        "colab": {}
      },
      "source": [
        "HouseData[[\"BsmtQual\", \"BsmtCond\", \"BsmtExposure\", \"BsmtFinType1\", \"BsmtFinType2\"]] = imp.transform(HouseData[[\"BsmtQual\", \"BsmtCond\", \"BsmtExposure\", \"BsmtFinType1\", \"BsmtFinType2\"]])"
      ],
      "execution_count": 0,
      "outputs": []
    },
    {
      "cell_type": "code",
      "metadata": {
        "id": "S6mF_GsxWoeO",
        "colab_type": "code",
        "colab": {}
      },
      "source": [
        "HouseData.BsmtFinType1.value_counts()"
      ],
      "execution_count": 0,
      "outputs": []
    },
    {
      "cell_type": "code",
      "metadata": {
        "id": "34wyt5STWoeS",
        "colab_type": "code",
        "colab": {}
      },
      "source": [
        "HouseData.isna().sum()[HouseData.isna().sum()>0]"
      ],
      "execution_count": 0,
      "outputs": []
    },
    {
      "cell_type": "code",
      "metadata": {
        "id": "u3qRAe9uhuIF",
        "colab_type": "code",
        "colab": {}
      },
      "source": [
        "HouseDataOriginal.isna().sum()[HouseDataOriginal.isna().sum()>0]"
      ],
      "execution_count": 0,
      "outputs": []
    },
    {
      "cell_type": "code",
      "metadata": {
        "id": "e-4R7_tJWoeW",
        "colab_type": "code",
        "colab": {}
      },
      "source": [
        "HouseData[\"GarageType\"].value_counts()"
      ],
      "execution_count": 0,
      "outputs": []
    },
    {
      "cell_type": "code",
      "metadata": {
        "id": "KioiIusBWoea",
        "colab_type": "code",
        "colab": {}
      },
      "source": [
        "HouseData[\"GarageYrBlt\"].hist()       "
      ],
      "execution_count": 0,
      "outputs": []
    },
    {
      "cell_type": "code",
      "metadata": {
        "id": "jp0LfE8eWoee",
        "colab_type": "code",
        "colab": {}
      },
      "source": [
        "sns.scatterplot(\"YearBuilt\", \"GarageYrBlt\", data = HouseData)"
      ],
      "execution_count": 0,
      "outputs": []
    },
    {
      "cell_type": "code",
      "metadata": {
        "id": "xuJtRH3kWoem",
        "colab_type": "code",
        "colab": {}
      },
      "source": [
        "sns.scatterplot(\"YearBuilt\", \"GarageYrBlt\", data = HouseData, hue = \"GarageType\" )"
      ],
      "execution_count": 0,
      "outputs": []
    },
    {
      "cell_type": "code",
      "metadata": {
        "id": "ZQZDS11dWoet",
        "colab_type": "code",
        "colab": {}
      },
      "source": [
        "HouseData[\"GarageType\"].value_counts()"
      ],
      "execution_count": 0,
      "outputs": []
    },
    {
      "cell_type": "code",
      "metadata": {
        "id": "WynlL2n0Woex",
        "colab_type": "code",
        "colab": {}
      },
      "source": [
        "HouseData[\"GarageFinish\"].value_counts()"
      ],
      "execution_count": 0,
      "outputs": []
    },
    {
      "cell_type": "code",
      "metadata": {
        "id": "X8-dBE3nWoe0",
        "colab_type": "code",
        "colab": {}
      },
      "source": [
        "HouseData[\"GarageQual\"].value_counts()"
      ],
      "execution_count": 0,
      "outputs": []
    },
    {
      "cell_type": "code",
      "metadata": {
        "id": "1OYCtMM0Woe4",
        "colab_type": "code",
        "colab": {}
      },
      "source": [
        "HouseData[\"GarageCond\"].value_counts()"
      ],
      "execution_count": 0,
      "outputs": []
    },
    {
      "cell_type": "code",
      "metadata": {
        "id": "IRinBz5nWoe8",
        "colab_type": "code",
        "colab": {}
      },
      "source": [
        "impG = SimpleImputer(missing_values=np.nan, strategy='most_frequent', copy=False)\n",
        "impG.fit(HouseData[[\"GarageType\", \"GarageFinish\", \"GarageQual\", \"GarageCond\"]])\n",
        "HouseData[[\"GarageType\", \"GarageFinish\", \"GarageQual\", \"GarageCond\"]] = impG.transform(HouseData[[\"GarageType\", \"GarageFinish\", \"GarageQual\", \"GarageCond\"]])"
      ],
      "execution_count": 0,
      "outputs": []
    },
    {
      "cell_type": "code",
      "metadata": {
        "id": "IF0sjTFEWoe-",
        "colab_type": "code",
        "colab": {}
      },
      "source": [
        "HouseData[\"GarageYrBlt\"] = HouseData[\"YearBuilt\"]   "
      ],
      "execution_count": 0,
      "outputs": []
    },
    {
      "cell_type": "code",
      "metadata": {
        "id": "DA2dD_RMWofA",
        "colab_type": "code",
        "colab": {}
      },
      "source": [
        "HouseData.isna().sum()[HouseData.isna().sum()>0]"
      ],
      "execution_count": 0,
      "outputs": []
    },
    {
      "cell_type": "code",
      "metadata": {
        "id": "2snFS_z2WofC",
        "colab_type": "code",
        "colab": {}
      },
      "source": [
        "HouseData[\"LotFrontage\"].hist()"
      ],
      "execution_count": 0,
      "outputs": []
    },
    {
      "cell_type": "code",
      "metadata": {
        "id": "bL6v3JP4WofF",
        "colab_type": "code",
        "colab": {}
      },
      "source": [
        "sns.scatterplot(HouseData[\"LotFrontage\"], HouseData[\"LotArea\"], hue = HouseData[\"Neighborhood\"])"
      ],
      "execution_count": 0,
      "outputs": []
    },
    {
      "cell_type": "code",
      "metadata": {
        "id": "2OwVuKHeWofJ",
        "colab_type": "code",
        "colab": {}
      },
      "source": [
        "HouseData[\"Neighborhood\"].value_counts()"
      ],
      "execution_count": 0,
      "outputs": []
    },
    {
      "cell_type": "markdown",
      "metadata": {
        "id": "roOewJNdYHMa",
        "colab_type": "text"
      },
      "source": [
        "Постепенно появляются более продвинутые варианты. "
      ]
    },
    {
      "cell_type": "code",
      "metadata": {
        "id": "BkbmMUINWofS",
        "colab_type": "code",
        "colab": {}
      },
      "source": [
        "HouseData['LotFrontage'] = HouseData.groupby('Neighborhood')['LotFrontage'].transform(lambda x: x.fillna(x.median()))"
      ],
      "execution_count": 0,
      "outputs": []
    },
    {
      "cell_type": "code",
      "metadata": {
        "id": "riBcC-Y-Zn-r",
        "colab_type": "code",
        "colab": {}
      },
      "source": [
        "HouseData.isna().sum()[HouseData.isna().sum()>0]"
      ],
      "execution_count": 0,
      "outputs": []
    },
    {
      "cell_type": "code",
      "metadata": {
        "id": "heNOPd_8Zs__",
        "colab_type": "code",
        "colab": {}
      },
      "source": [
        "HouseData[\"FireplaceQu\"].value_counts()"
      ],
      "execution_count": 0,
      "outputs": []
    },
    {
      "cell_type": "code",
      "metadata": {
        "id": "nADB5Ir8Z5AD",
        "colab_type": "code",
        "colab": {}
      },
      "source": [
        "sns.violinplot(x=\"FireplaceQu\", y=\"SalePrice\", data=HouseData);"
      ],
      "execution_count": 0,
      "outputs": []
    },
    {
      "cell_type": "code",
      "metadata": {
        "id": "WVIh_aPEasnP",
        "colab_type": "code",
        "colab": {}
      },
      "source": [
        "sns.violinplot(x=HouseData[\"FireplaceQu\"], y=np.log(HouseData[\"SalePrice\"]))"
      ],
      "execution_count": 0,
      "outputs": []
    },
    {
      "cell_type": "code",
      "metadata": {
        "id": "qiRQK6OlbEAK",
        "colab_type": "code",
        "colab": {}
      },
      "source": [
        "sns.countplot(x='OverallQual', hue='FireplaceQu', data=HouseData);"
      ],
      "execution_count": 0,
      "outputs": []
    },
    {
      "cell_type": "code",
      "metadata": {
        "id": "C8aiYMjPcB7y",
        "colab_type": "code",
        "colab": {}
      },
      "source": [
        "HouseData.Fireplaces[HouseData.FireplaceQu.isna()].value_counts()"
      ],
      "execution_count": 0,
      "outputs": []
    },
    {
      "cell_type": "code",
      "metadata": {
        "id": "FgGdh0wCcQNU",
        "colab_type": "code",
        "colab": {}
      },
      "source": [
        "HouseData.FireplaceQu.fillna(\"None\", inplace=True)"
      ],
      "execution_count": 0,
      "outputs": []
    },
    {
      "cell_type": "code",
      "metadata": {
        "id": "JrFJJBbVWofO",
        "colab_type": "code",
        "colab": {}
      },
      "source": [
        "from sklearn.experimental import enable_iterative_imputer\n",
        "from sklearn.impute import IterativeImputer\n"
      ],
      "execution_count": 0,
      "outputs": []
    },
    {
      "cell_type": "code",
      "metadata": {
        "id": "-j8ep-kZuYfi",
        "colab_type": "code",
        "colab": {}
      },
      "source": [
        "df =  pd.DataFrame({\"x1\":[1 , 2, 3, np.nan, 5], \"x2\": [2, 4, np.nan, 8, 10]})"
      ],
      "execution_count": 0,
      "outputs": []
    },
    {
      "cell_type": "code",
      "metadata": {
        "id": "FDOq8wIIuYpJ",
        "colab_type": "code",
        "colab": {}
      },
      "source": [
        "df"
      ],
      "execution_count": 0,
      "outputs": []
    },
    {
      "cell_type": "code",
      "metadata": {
        "id": "ve968lIBuYu_",
        "colab_type": "code",
        "colab": {}
      },
      "source": [
        "it = IterativeImputer()"
      ],
      "execution_count": 0,
      "outputs": []
    },
    {
      "cell_type": "code",
      "metadata": {
        "id": "G-vEb3qIuYta",
        "colab_type": "code",
        "colab": {}
      },
      "source": [
        "it.fit(df)"
      ],
      "execution_count": 0,
      "outputs": []
    },
    {
      "cell_type": "code",
      "metadata": {
        "id": "3xnNJ3tYvZwj",
        "colab_type": "code",
        "colab": {}
      },
      "source": [
        "it.transform(df)"
      ],
      "execution_count": 0,
      "outputs": []
    },
    {
      "cell_type": "code",
      "metadata": {
        "id": "1he2YMf4vaup",
        "colab_type": "code",
        "colab": {}
      },
      "source": [
        "df2 =  pd.DataFrame({\"x1\":[1 , 2, 3, np.nan, 5], \"x2\": [1, 4, np.nan, 16, 25]})"
      ],
      "execution_count": 0,
      "outputs": []
    },
    {
      "cell_type": "code",
      "metadata": {
        "id": "dY7twnBdvayT",
        "colab_type": "code",
        "colab": {}
      },
      "source": [
        "it.fit_transform(df2)"
      ],
      "execution_count": 0,
      "outputs": []
    },
    {
      "cell_type": "code",
      "metadata": {
        "id": "r0pwqEMvKZ00",
        "colab_type": "code",
        "colab": {}
      },
      "source": [
        "!pip install --force sklearn"
      ],
      "execution_count": 0,
      "outputs": []
    },
    {
      "cell_type": "code",
      "metadata": {
        "id": "zkZciGbPfUHC",
        "colab_type": "code",
        "colab": {}
      },
      "source": [
        "from sklearn.impute import KNNImputer"
      ],
      "execution_count": 0,
      "outputs": []
    },
    {
      "cell_type": "code",
      "metadata": {
        "id": "qTlmNcv9fwC4",
        "colab_type": "code",
        "colab": {}
      },
      "source": [
        "KNN_imp = KNNImputer(n_neighbors = 3)\n",
        "KNN_imp.fit_transform(df2)"
      ],
      "execution_count": 0,
      "outputs": []
    },
    {
      "cell_type": "markdown",
      "metadata": {
        "id": "4Da6lQSGc_eP",
        "colab_type": "text"
      },
      "source": [
        "Немного об альтернативах. Мы можем обучить произвольную модель (наприммер дерево) и использовать ее для пронозов пропущеных значени.\n",
        "\n",
        "Восстановите несколькими способами LotFrontage и сравните результаты. Для контроля можно удалить несколько значений самостоятельно и восстановить их."
      ]
    },
    {
      "cell_type": "code",
      "metadata": {
        "id": "a9o17P4llGvq",
        "colab_type": "code",
        "colab": {}
      },
      "source": [
        ""
      ],
      "execution_count": 0,
      "outputs": []
    }
  ]
}