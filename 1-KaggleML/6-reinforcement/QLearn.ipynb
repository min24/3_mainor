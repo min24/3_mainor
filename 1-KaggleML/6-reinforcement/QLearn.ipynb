{
  "nbformat": 4,
  "nbformat_minor": 0,
  "metadata": {
    "colab": {
      "name": "QLearn.ipynb",
      "provenance": [],
      "collapsed_sections": []
    },
    "kernelspec": {
      "name": "python3",
      "display_name": "Python 3"
    }
  },
  "cells": [
    {
      "cell_type": "code",
      "metadata": {
        "id": "pKa9XZul3Wn2",
        "colab_type": "code",
        "colab": {}
      },
      "source": [
        "from pylab import rcParams\n",
        "rcParams['figure.figsize'] = 16, 10\n",
        "import numpy as np"
      ],
      "execution_count": 0,
      "outputs": []
    },
    {
      "cell_type": "code",
      "metadata": {
        "id": "iEE1ov463rt3",
        "colab_type": "code",
        "colab": {}
      },
      "source": [
        "EmptyBoard = '.'*9"
      ],
      "execution_count": 0,
      "outputs": []
    },
    {
      "cell_type": "code",
      "metadata": {
        "id": "mpdt028n3r9P",
        "colab_type": "code",
        "colab": {}
      },
      "source": [
        "def MakeTurn(sign, position, board):\n",
        "  if board[position] != \".\":\n",
        "    return((board, sign + \" wrong move\"))\n",
        "  else:\n",
        "    board = board[:position] + sign + board[position+1:]\n",
        "    if board[0]+board[1]+board[2] == sign*3:\n",
        "      return ((board,sign+\" win\"))\n",
        "    if board[3]+board[4]+board[5] == sign*3:\n",
        "      return ((board,sign+\" win\"))\n",
        "    if board[6]+board[7]+board[8] == sign*3:\n",
        "      return ((board,sign+\" win\"))\n",
        "    if board[0]+board[3]+board[6] == sign*3:\n",
        "      return ((board,sign+\" win\"))\n",
        "    if board[1]+board[4]+board[7] == sign*3:\n",
        "      return ((board,sign+\" win\"))\n",
        "    if board[2]+board[5]+board[8] == sign*3:\n",
        "      return ((board,sign+\" win\"))\n",
        "    if board[0]+board[4]+board[8] == sign*3:\n",
        "      return ((board,sign+\" win\"))\n",
        "    if board[2]+board[4]+board[6] == sign*3:\n",
        "      return ((board,sign+\" win\"))\n",
        "    \n",
        "    if not (\".\" in board):\n",
        "      return (board,\"draw\") \n",
        "    return ((board,\"Ok\"))\n",
        "\n",
        "def PrintBoard(board):\n",
        "  print(board[:3]+\"\\n\"+board[3:6]+\"\\n\"+board[6:]+\"\\n\")"
      ],
      "execution_count": 0,
      "outputs": []
    },
    {
      "cell_type": "code",
      "metadata": {
        "id": "NzYlhB0F8u9u",
        "colab_type": "code",
        "outputId": "a394f47d-4419-40b2-aba5-a7cb105728cc",
        "colab": {
          "base_uri": "https://localhost:8080/",
          "height": 51
        }
      },
      "source": [
        "%%time\n",
        "board, status = MakeTurn(\"X\", 8, EmptyBoard)"
      ],
      "execution_count": 4,
      "outputs": [
        {
          "output_type": "stream",
          "text": [
            "CPU times: user 6 µs, sys: 2 µs, total: 8 µs\n",
            "Wall time: 11 µs\n"
          ],
          "name": "stdout"
        }
      ]
    },
    {
      "cell_type": "code",
      "metadata": {
        "id": "aqw1-ib29X44",
        "colab_type": "code",
        "outputId": "6bd3684b-5f2b-4164-d18b-7a871b692ae0",
        "colab": {
          "base_uri": "https://localhost:8080/",
          "height": 85
        }
      },
      "source": [
        "PrintBoard(board)"
      ],
      "execution_count": 5,
      "outputs": [
        {
          "output_type": "stream",
          "text": [
            "...\n",
            "...\n",
            "..X\n",
            "\n"
          ],
          "name": "stdout"
        }
      ]
    },
    {
      "cell_type": "code",
      "metadata": {
        "id": "572ztCts925X",
        "colab_type": "code",
        "colab": {}
      },
      "source": [
        "def PlayGame(XStrat, OStrat):\n",
        "  board_story = [\".\"*9]\n",
        "  move_story = []\n",
        "  board = \".\"*9\n",
        "  status = \"\"\n",
        "  for i in range(5):\n",
        "    Xmove = XStrat(board)\n",
        "    board, status = MakeTurn(\"X\", Xmove, board)\n",
        "    board_story.append(board)\n",
        "    move_story.append(Xmove)\n",
        "    if status != \"Ok\":\n",
        "      return (status, board_story, move_story)\n",
        "    Omove = OStrat(board)\n",
        "    board, status = MakeTurn(\"O\", Omove, board)\n",
        "    board_story.append(board)\n",
        "    move_story.append(Omove)\n",
        "    if status != \"Ok\":\n",
        "      return (status, board_story, move_story)\n"
      ],
      "execution_count": 0,
      "outputs": []
    },
    {
      "cell_type": "code",
      "metadata": {
        "id": "oZVs2XfdCcRx",
        "colab_type": "code",
        "colab": {}
      },
      "source": [
        "import random\n",
        "def RandomMove(board):\n",
        "  return random.choice([pos for pos, char in enumerate(board) if char == \".\"])\n"
      ],
      "execution_count": 0,
      "outputs": []
    },
    {
      "cell_type": "code",
      "metadata": {
        "id": "L63iyXoLEVsT",
        "colab_type": "code",
        "outputId": "1e71dadb-fc4d-4417-9ea2-26be77fea0f6",
        "colab": {
          "base_uri": "https://localhost:8080/",
          "height": 187
        }
      },
      "source": [
        "PlayGame(RandomMove, RandomMove)"
      ],
      "execution_count": 8,
      "outputs": [
        {
          "output_type": "execute_result",
          "data": {
            "text/plain": [
              "('X win',\n",
              " ['.........',\n",
              "  '.....X...',\n",
              "  '.....XO..',\n",
              "  'X....XO..',\n",
              "  'XO...XO..',\n",
              "  'XO...XO.X',\n",
              "  'XO..OXO.X',\n",
              "  'XOX.OXO.X'],\n",
              " [5, 6, 0, 1, 8, 4, 2])"
            ]
          },
          "metadata": {
            "tags": []
          },
          "execution_count": 8
        }
      ]
    },
    {
      "cell_type": "code",
      "metadata": {
        "id": "efTe_-j09UUs",
        "colab_type": "code",
        "outputId": "65ba6b40-d253-4f5a-8ceb-7f4ab1ddfc0d",
        "colab": {
          "base_uri": "https://localhost:8080/",
          "height": 85
        }
      },
      "source": [
        "PrintBoard('OOXXXOXOX')"
      ],
      "execution_count": 9,
      "outputs": [
        {
          "output_type": "stream",
          "text": [
            "OOX\n",
            "XXO\n",
            "XOX\n",
            "\n"
          ],
          "name": "stdout"
        }
      ]
    },
    {
      "cell_type": "code",
      "metadata": {
        "id": "U0QeU5MLEZvd",
        "colab_type": "code",
        "outputId": "dd2560c4-ff61-4fb5-c7f1-cb5611e7fc83",
        "colab": {
          "base_uri": "https://localhost:8080/",
          "height": 102
        }
      },
      "source": [
        "%%time\n",
        "Xwins = 0\n",
        "Owins = 0\n",
        "Draws = 0\n",
        "for i in range(10000):\n",
        "  status, story, moves = PlayGame(RandomMove, RandomMove)\n",
        "  if status == \"X win\":\n",
        "    Xwins += 1\n",
        "  if status == \"O win\":\n",
        "    Owins += 1\n",
        "  if status == \"draw\":\n",
        "    Draws += 1\n",
        "print(\"X: \"+str(Xwins) )\n",
        "print(\"O: \"+str(Owins) )\n",
        "print(\"D: \"+str(Draws) )"
      ],
      "execution_count": 10,
      "outputs": [
        {
          "output_type": "stream",
          "text": [
            "X: 5823\n",
            "O: 2955\n",
            "D: 1222\n",
            "CPU times: user 319 ms, sys: 800 µs, total: 320 ms\n",
            "Wall time: 321 ms\n"
          ],
          "name": "stdout"
        }
      ]
    },
    {
      "cell_type": "code",
      "metadata": {
        "id": "DQKI1aW6-Ego",
        "colab_type": "code",
        "outputId": "f32f7052-a800-46ff-812c-6e3df8644d79",
        "colab": {
          "base_uri": "https://localhost:8080/",
          "height": 34
        }
      },
      "source": [
        "3**9"
      ],
      "execution_count": 11,
      "outputs": [
        {
          "output_type": "execute_result",
          "data": {
            "text/plain": [
              "19683"
            ]
          },
          "metadata": {
            "tags": []
          },
          "execution_count": 11
        }
      ]
    },
    {
      "cell_type": "code",
      "metadata": {
        "id": "xsoTE1VzG5-Z",
        "colab_type": "code",
        "colab": {}
      },
      "source": [
        "import numpy as np\n",
        "\n",
        "class QStrategy:\n",
        "  def __init__(self, lr, epsilon):\n",
        "    self.lr = lr\n",
        "    self.epsilon = epsilon\n",
        "    self.Q = {}\n",
        "\n",
        "  def SetQValue(self, board, move, value):\n",
        "    if not (board in self.Q):\n",
        "      self.Q[board] = [0]*9\n",
        "      for i in range(9):\n",
        "        if board[i] != '.':\n",
        "          self.Q[board][i] = -10 \n",
        "    self.Q[board][move] = value\n",
        "  \n",
        "  def GreedyBestMove(self, board):\n",
        "    if not (board in self.Q):\n",
        "      self.Q[board] = [0]*9\n",
        "      for i in range(9):\n",
        "        if board[i] != '.':\n",
        "          self.Q[board][i] = -10 \n",
        "\n",
        "    ind = np.argmax(self.Q[board])\n",
        "    return ind\n",
        "\n",
        "  def UpdateQ(self, board, move, new_board):\n",
        "    if not (board in self.Q):\n",
        "      self.Q[board] = [0]*9\n",
        "    self.Q[board][move] = self.Q[board][move] + self.lr*(max(self.Q[new_board]) - self.Q[board][move])\n",
        "\n",
        "  def ExplorativeBestMove(self, board):\n",
        "    if not (board in self.Q):\n",
        "      self.Q[board] = [0]*9\n",
        "      for i in range(9):\n",
        "        if board[i] != '.':\n",
        "          self.Q[board][i] = -10 \n",
        "    if random.random() < self.epsilon:\n",
        "      return RandomMove(board)\n",
        "    ind = np.argmax(self.Q[board])\n",
        "    return ind\n",
        "\n",
        "    \n",
        "\n"
      ],
      "execution_count": 0,
      "outputs": []
    },
    {
      "cell_type": "code",
      "metadata": {
        "id": "wr01r6QFILL6",
        "colab_type": "code",
        "colab": {}
      },
      "source": [
        "MyStrat = QStrategy(lr = 0.2, epsilon = 0.2)"
      ],
      "execution_count": 0,
      "outputs": []
    },
    {
      "cell_type": "code",
      "metadata": {
        "id": "WYj77B52cLH-",
        "colab_type": "code",
        "outputId": "fd8cb595-4f35-43ca-ce18-6fdf4e6791c1",
        "colab": {
          "base_uri": "https://localhost:8080/",
          "height": 221
        }
      },
      "source": [
        "PlayGame(RandomMove, MyStrat.GreedyBestMove)"
      ],
      "execution_count": 14,
      "outputs": [
        {
          "output_type": "execute_result",
          "data": {
            "text/plain": [
              "('X win',\n",
              " ['.........',\n",
              "  '.X.......',\n",
              "  'OX.......',\n",
              "  'OX....X..',\n",
              "  'OXO...X..',\n",
              "  'OXOX..X..',\n",
              "  'OXOXO.X..',\n",
              "  'OXOXO.X.X',\n",
              "  'OXOXOOX.X',\n",
              "  'OXOXOOXXX'],\n",
              " [1, 0, 6, 2, 3, 4, 8, 5, 7])"
            ]
          },
          "metadata": {
            "tags": []
          },
          "execution_count": 14
        }
      ]
    },
    {
      "cell_type": "code",
      "metadata": {
        "id": "hs7wg7DWmTmj",
        "colab_type": "code",
        "colab": {}
      },
      "source": [
        "def Evaluate(XStrat, OStrat, GameNumber = 10000):\n",
        "  Xwins = 0\n",
        "  Owins = 0\n",
        "  Draws = 0\n",
        "  for i in range(GameNumber):\n",
        "    status, story, moves = PlayGame(XStrat, OStrat)\n",
        "    if status == \"X win\":\n",
        "      Xwins += 1\n",
        "    if status == \"O win\":\n",
        "      Owins += 1\n",
        "    if status == \"draw\":\n",
        "      Draws += 1\n",
        "  print(\"X: \"+str(Xwins) )\n",
        "  print(\"O: \"+str(Owins) )\n",
        "  print(\"D: \"+str(Draws) )\n",
        "  return (Xwins + 0.5 * Draws)/GameNumber\n"
      ],
      "execution_count": 0,
      "outputs": []
    },
    {
      "cell_type": "code",
      "metadata": {
        "id": "dbWmp2kUurFQ",
        "colab_type": "code",
        "outputId": "202faf94-8a80-4935-bb34-ea23b450b409",
        "colab": {
          "base_uri": "https://localhost:8080/",
          "height": 119
        }
      },
      "source": [
        "%%time\n",
        "Evaluate(RandomMove, MyStrat.GreedyBestMove, 10000)\n"
      ],
      "execution_count": 16,
      "outputs": [
        {
          "output_type": "stream",
          "text": [
            "X: 5205\n",
            "O: 4392\n",
            "D: 403\n",
            "CPU times: user 496 ms, sys: 6.64 ms, total: 503 ms\n",
            "Wall time: 498 ms\n"
          ],
          "name": "stdout"
        },
        {
          "output_type": "execute_result",
          "data": {
            "text/plain": [
              "0.54065"
            ]
          },
          "metadata": {
            "tags": []
          },
          "execution_count": 16
        }
      ]
    },
    {
      "cell_type": "code",
      "metadata": {
        "id": "gk16R5Bcp4Dr",
        "colab_type": "code",
        "colab": {}
      },
      "source": [
        "#MyStrat.Q"
      ],
      "execution_count": 0,
      "outputs": []
    },
    {
      "cell_type": "code",
      "metadata": {
        "id": "6BMsJxSUqjQ8",
        "colab_type": "code",
        "outputId": "2cead4cd-6a81-460f-9cca-7cd65f802cdc",
        "colab": {
          "base_uri": "https://localhost:8080/",
          "height": 1000
        }
      },
      "source": [
        "MaxEpoches = 20\n",
        "score1 = [Evaluate(RandomMove, MyStrat.GreedyBestMove, 1000)]\n",
        "time_line = [0]\n",
        "for epoche in range(MaxEpoches):\n",
        "  for i in range(1000):\n",
        "    result, story, moves = PlayGame(RandomMove, MyStrat.GreedyBestMove)\n",
        "    if result == \"O wrong move\":\n",
        "    #  MyStrat.SetQValue(story[-2], moves[-1], -10)\n",
        "      print(\"Something goes wrong\")\n",
        "    if result == \"X win\":\n",
        "      MyStrat.SetQValue(story[-3], moves[-2], -1)\n",
        "    if result == \"O win\":\n",
        "      MyStrat.SetQValue(story[-2], moves[-1], +1)\n",
        "    if result == \"draw\":\n",
        "      MyStrat.SetQValue(story[-3], moves[-2], 0)\n",
        "    for i in range(7, 2, -2):\n",
        "      if i < len(moves)-1:\n",
        "        MyStrat.UpdateQ(story[i-2], moves[i-2], story[i])\n",
        "  score1.append(Evaluate(RandomMove, MyStrat.GreedyBestMove, 1000))\n",
        "  time_line.append(1000*(epoche+1))"
      ],
      "execution_count": 17,
      "outputs": [
        {
          "output_type": "stream",
          "text": [
            "X: 532\n",
            "O: 429\n",
            "D: 39\n",
            "X: 191\n",
            "O: 658\n",
            "D: 151\n",
            "X: 171\n",
            "O: 661\n",
            "D: 168\n",
            "X: 145\n",
            "O: 607\n",
            "D: 248\n",
            "X: 109\n",
            "O: 640\n",
            "D: 251\n",
            "X: 114\n",
            "O: 607\n",
            "D: 279\n",
            "X: 84\n",
            "O: 629\n",
            "D: 287\n",
            "X: 54\n",
            "O: 666\n",
            "D: 280\n",
            "X: 26\n",
            "O: 708\n",
            "D: 266\n",
            "X: 16\n",
            "O: 723\n",
            "D: 261\n",
            "X: 2\n",
            "O: 711\n",
            "D: 287\n",
            "X: 2\n",
            "O: 713\n",
            "D: 285\n",
            "X: 6\n",
            "O: 675\n",
            "D: 319\n",
            "X: 1\n",
            "O: 716\n",
            "D: 283\n",
            "X: 0\n",
            "O: 710\n",
            "D: 290\n",
            "X: 0\n",
            "O: 685\n",
            "D: 315\n",
            "X: 0\n",
            "O: 729\n",
            "D: 271\n",
            "X: 0\n",
            "O: 704\n",
            "D: 296\n",
            "X: 0\n",
            "O: 692\n",
            "D: 308\n",
            "X: 0\n",
            "O: 709\n",
            "D: 291\n",
            "X: 0\n",
            "O: 713\n",
            "D: 287\n"
          ],
          "name": "stdout"
        }
      ]
    },
    {
      "cell_type": "code",
      "metadata": {
        "id": "Z8LOhlrJrSsd",
        "colab_type": "code",
        "outputId": "8ee8f8b3-7198-4213-faa2-0abdf5cff30a",
        "colab": {
          "base_uri": "https://localhost:8080/",
          "height": 609
        }
      },
      "source": [
        "import matplotlib.pyplot as plt\n",
        "fig = plt.figure()\n",
        "plt.plot(time_line, score1, color='blue')\n",
        "plt.legend(['Score1'], loc='upper right')\n"
      ],
      "execution_count": 18,
      "outputs": [
        {
          "output_type": "execute_result",
          "data": {
            "text/plain": [
              "<matplotlib.legend.Legend at 0x7f436fba9ef0>"
            ]
          },
          "metadata": {
            "tags": []
          },
          "execution_count": 18
        },
        {
          "output_type": "display_data",
          "data": {
            "image/png": "[encoded data removed]",
            "text/plain": [
              "<Figure size 1152x720 with 1 Axes>"
            ]
          },
          "metadata": {
            "tags": []
          }
        }
      ]
    },
    {
      "cell_type": "code",
      "metadata": {
        "id": "zHAfRgkprVrr",
        "colab_type": "code",
        "outputId": "855bce71-e2e8-49b1-9fbc-b7563cddcf49",
        "colab": {
          "base_uri": "https://localhost:8080/",
          "height": 1000
        }
      },
      "source": [
        "Strat2 = QStrategy(0.2, 0.2)\n",
        "\n",
        "MaxEpoches = 20\n",
        "score2 = [Evaluate(RandomMove, Strat2.ExplorativeBestMove, 1000)]\n",
        "score3 = [Evaluate(RandomMove, Strat2.GreedyBestMove, 1000)]\n",
        "time_line_2 = [0]\n",
        "for epoche in range(MaxEpoches):\n",
        "  for i in range(1000):\n",
        "    result, story, moves = PlayGame(RandomMove, Strat2.ExplorativeBestMove)\n",
        "    if result == \"O wrong move\":\n",
        "    #  MyStrat.SetQValue(story[-2], moves[-1], -10)\n",
        "      print(\"Something goes wrong\")\n",
        "    if result == \"X win\":\n",
        "      Strat2.SetQValue(story[-3], moves[-2], -1)\n",
        "    if result == \"O win\":\n",
        "      Strat2.SetQValue(story[-2], moves[-1], +1)\n",
        "    if result == \"draw\":\n",
        "      Strat2.SetQValue(story[-3], moves[-2], 0)\n",
        "    for i in range(7, 2, -2):\n",
        "      if i < len(moves)-1:\n",
        "        Strat2.UpdateQ(story[i-2], moves[i-2], story[i])\n",
        "  score2.append(Evaluate(RandomMove, Strat2.ExplorativeBestMove, 1000))\n",
        "  score3.append(Evaluate(RandomMove, Strat2.GreedyBestMove, 1000))\n",
        "  time_line_2.append(1000*(epoche+1))"
      ],
      "execution_count": 19,
      "outputs": [
        {
          "output_type": "stream",
          "text": [
            "X: 534\n",
            "O: 391\n",
            "D: 75\n",
            "X: 491\n",
            "O: 455\n",
            "D: 54\n",
            "X: 327\n",
            "O: 528\n",
            "D: 145\n",
            "X: 183\n",
            "O: 644\n",
            "D: 173\n",
            "X: 278\n",
            "O: 556\n",
            "D: 166\n",
            "X: 146\n",
            "O: 686\n",
            "D: 168\n",
            "X: 241\n",
            "O: 601\n",
            "D: 158\n",
            "X: 124\n",
            "O: 715\n",
            "D: 161\n",
            "X: 191\n",
            "O: 636\n",
            "D: 173\n",
            "X: 68\n",
            "O: 776\n",
            "D: 156\n",
            "X: 194\n",
            "O: 634\n",
            "D: 172\n",
            "X: 29\n",
            "O: 799\n",
            "D: 172\n",
            "X: 174\n",
            "O: 633\n",
            "D: 193\n",
            "X: 53\n",
            "O: 772\n",
            "D: 175\n",
            "X: 160\n",
            "O: 690\n",
            "D: 150\n",
            "X: 53\n",
            "O: 796\n",
            "D: 151\n",
            "X: 205\n",
            "O: 649\n",
            "D: 146\n",
            "X: 101\n",
            "O: 750\n",
            "D: 149\n",
            "X: 181\n",
            "O: 669\n",
            "D: 150\n",
            "X: 57\n",
            "O: 807\n",
            "D: 136\n",
            "X: 148\n",
            "O: 695\n",
            "D: 157\n",
            "X: 14\n",
            "O: 836\n",
            "D: 150\n",
            "X: 130\n",
            "O: 692\n",
            "D: 178\n",
            "X: 12\n",
            "O: 816\n",
            "D: 172\n",
            "X: 154\n",
            "O: 680\n",
            "D: 166\n",
            "X: 32\n",
            "O: 824\n",
            "D: 144\n",
            "X: 133\n",
            "O: 715\n",
            "D: 152\n",
            "X: 22\n",
            "O: 843\n",
            "D: 135\n",
            "X: 169\n",
            "O: 676\n",
            "D: 155\n",
            "X: 37\n",
            "O: 784\n",
            "D: 179\n",
            "X: 108\n",
            "O: 748\n",
            "D: 144\n",
            "X: 14\n",
            "O: 846\n",
            "D: 140\n",
            "X: 103\n",
            "O: 729\n",
            "D: 168\n",
            "X: 2\n",
            "O: 850\n",
            "D: 148\n",
            "X: 119\n",
            "O: 743\n",
            "D: 138\n",
            "X: 11\n",
            "O: 867\n",
            "D: 122\n",
            "X: 119\n",
            "O: 748\n",
            "D: 133\n",
            "X: 2\n",
            "O: 874\n",
            "D: 124\n",
            "X: 103\n",
            "O: 721\n",
            "D: 176\n",
            "X: 0\n",
            "O: 876\n",
            "D: 124\n",
            "X: 95\n",
            "O: 741\n",
            "D: 164\n",
            "X: 2\n",
            "O: 873\n",
            "D: 125\n"
          ],
          "name": "stdout"
        }
      ]
    },
    {
      "cell_type": "code",
      "metadata": {
        "id": "Z4KzcCBLxjSH",
        "colab_type": "code",
        "outputId": "b1e6799a-8c58-486f-c132-a01bb2127f2d",
        "colab": {
          "base_uri": "https://localhost:8080/",
          "height": 609
        }
      },
      "source": [
        "fig = plt.figure()\n",
        "plt.plot(time_line, score1, color='blue')\n",
        "plt.plot(time_line_2, score2, color='green')\n",
        "plt.plot(time_line_2, score3, color='red')\n",
        "plt.legend(['Score1', \"Score2\", \"Score3\"], loc='upper right')"
      ],
      "execution_count": 20,
      "outputs": [
        {
          "output_type": "execute_result",
          "data": {
            "text/plain": [
              "<matplotlib.legend.Legend at 0x7f436f5fd4e0>"
            ]
          },
          "metadata": {
            "tags": []
          },
          "execution_count": 20
        },
        {
          "output_type": "display_data",
          "data": {
            "image/png": "[encoded data removed]",
            "text/plain": [
              "<Figure size 1152x720 with 1 Axes>"
            ]
          },
          "metadata": {
            "tags": []
          }
        }
      ]
    },
    {
      "cell_type": "code",
      "metadata": {
        "id": "zwLTvMkQ5ODW",
        "colab_type": "code",
        "outputId": "d043d2d3-e589-43fe-e8aa-a9263055b263",
        "colab": {
          "base_uri": "https://localhost:8080/",
          "height": 1000
        }
      },
      "source": [
        "Strat3 = QStrategy(0.2, 0.2)\n",
        "\n",
        "MaxEpoches = 20\n",
        "score4 = [Evaluate(RandomMove, Strat3.GreedyBestMove, 1000)]\n",
        "time_line_4 = [0]\n",
        "for epoche in range(MaxEpoches):\n",
        "  for i in range(1000):\n",
        "    result, story, moves = PlayGame(RandomMove, Strat3.ExplorativeBestMove)\n",
        "    if result == \"O wrong move\":\n",
        "    #  MyStrat.SetQValue(story[-2], moves[-1], -10)\n",
        "      print(\"Something goes wrong\")\n",
        "    if result == \"X win\":\n",
        "      Strat3.SetQValue(story[-3], moves[-2], -1)\n",
        "    if result == \"O win\":\n",
        "      Strat3.SetQValue(story[-2], moves[-1], +1)\n",
        "    if result == \"draw\":\n",
        "      Strat3.SetQValue(story[-3], moves[-2], 0)\n",
        "    for i in range(1, len(moves), 2):\n",
        "      if i + 2 < len(moves):\n",
        "        Strat3.UpdateQ(story[i], moves[i], story[i+2])\n",
        "  score4.append(Evaluate(RandomMove, Strat3.GreedyBestMove, 1000))\n",
        "  time_line_4.append(1000*(epoche+1))"
      ],
      "execution_count": 21,
      "outputs": [
        {
          "output_type": "stream",
          "text": [
            "X: 503\n",
            "O: 448\n",
            "D: 49\n",
            "X: 175\n",
            "O: 675\n",
            "D: 150\n",
            "X: 81\n",
            "O: 746\n",
            "D: 173\n",
            "X: 60\n",
            "O: 783\n",
            "D: 157\n",
            "X: 40\n",
            "O: 821\n",
            "D: 139\n",
            "X: 22\n",
            "O: 840\n",
            "D: 138\n",
            "X: 33\n",
            "O: 856\n",
            "D: 111\n",
            "X: 35\n",
            "O: 836\n",
            "D: 129\n",
            "X: 37\n",
            "O: 820\n",
            "D: 143\n",
            "X: 22\n",
            "O: 841\n",
            "D: 137\n",
            "X: 19\n",
            "O: 851\n",
            "D: 130\n",
            "X: 21\n",
            "O: 864\n",
            "D: 115\n",
            "X: 17\n",
            "O: 848\n",
            "D: 135\n",
            "X: 15\n",
            "O: 873\n",
            "D: 112\n",
            "X: 8\n",
            "O: 861\n",
            "D: 131\n",
            "X: 47\n",
            "O: 867\n",
            "D: 86\n",
            "X: 7\n",
            "O: 876\n",
            "D: 117\n",
            "X: 22\n",
            "O: 886\n",
            "D: 92\n",
            "X: 10\n",
            "O: 888\n",
            "D: 102\n",
            "X: 5\n",
            "O: 890\n",
            "D: 105\n",
            "X: 9\n",
            "O: 874\n",
            "D: 117\n"
          ],
          "name": "stdout"
        }
      ]
    },
    {
      "cell_type": "code",
      "metadata": {
        "id": "PUhwGuIM7hOn",
        "colab_type": "code",
        "outputId": "ac1dddd2-743f-4a08-b6f7-e5d3e3a5a416",
        "colab": {
          "base_uri": "https://localhost:8080/",
          "height": 1000
        }
      },
      "source": [
        "Strat4 = QStrategy(0.2, 0.2)\n",
        "\n",
        "MaxEpoches = 20\n",
        "score5 = [Evaluate(RandomMove, Strat4.GreedyBestMove, 1000)]\n",
        "time_line_5 = [0]\n",
        "for epoche in range(MaxEpoches):\n",
        "  for i in range(1000):\n",
        "    result, story, moves = PlayGame(RandomMove, Strat4.ExplorativeBestMove)\n",
        "    for i in range(1, len(moves), 2):\n",
        "      if i + 2 < len(moves):\n",
        "        Strat4.UpdateQ(story[i], moves[i], story[i+2])\n",
        "    if result == \"O wrong move\":\n",
        "    #  MyStrat.SetQValue(story[-2], moves[-1], -10)\n",
        "      print(\"Something goes wrong\")\n",
        "    if result == \"X win\":\n",
        "      Strat4.SetQValue(story[-3], moves[-2], -1)\n",
        "    if result == \"O win\":\n",
        "      Strat4.SetQValue(story[-2], moves[-1], +1)\n",
        "    if result == \"draw\":\n",
        "      Strat4.SetQValue(story[-3], moves[-2], 0)\n",
        "  score5.append(Evaluate(RandomMove, Strat4.GreedyBestMove, 1000))\n",
        "  time_line_5.append(1000*(epoche+1))"
      ],
      "execution_count": 22,
      "outputs": [
        {
          "output_type": "stream",
          "text": [
            "X: 514\n",
            "O: 452\n",
            "D: 34\n",
            "X: 180\n",
            "O: 655\n",
            "D: 165\n",
            "X: 136\n",
            "O: 712\n",
            "D: 152\n",
            "X: 100\n",
            "O: 731\n",
            "D: 169\n",
            "X: 72\n",
            "O: 798\n",
            "D: 130\n",
            "X: 77\n",
            "O: 809\n",
            "D: 114\n",
            "X: 62\n",
            "O: 816\n",
            "D: 122\n",
            "X: 56\n",
            "O: 814\n",
            "D: 130\n",
            "X: 52\n",
            "O: 821\n",
            "D: 127\n",
            "X: 48\n",
            "O: 855\n",
            "D: 97\n",
            "X: 36\n",
            "O: 835\n",
            "D: 129\n",
            "X: 40\n",
            "O: 861\n",
            "D: 99\n",
            "X: 32\n",
            "O: 843\n",
            "D: 125\n",
            "X: 29\n",
            "O: 867\n",
            "D: 104\n",
            "X: 23\n",
            "O: 864\n",
            "D: 113\n",
            "X: 27\n",
            "O: 854\n",
            "D: 119\n",
            "X: 22\n",
            "O: 870\n",
            "D: 108\n",
            "X: 19\n",
            "O: 858\n",
            "D: 123\n",
            "X: 28\n",
            "O: 868\n",
            "D: 104\n",
            "X: 20\n",
            "O: 871\n",
            "D: 109\n",
            "X: 12\n",
            "O: 899\n",
            "D: 89\n"
          ],
          "name": "stdout"
        }
      ]
    },
    {
      "cell_type": "code",
      "metadata": {
        "id": "eqJMGZkh5OBa",
        "colab_type": "code",
        "outputId": "744290e6-996a-4a53-8279-7699859c580e",
        "colab": {
          "base_uri": "https://localhost:8080/",
          "height": 609
        }
      },
      "source": [
        "fig = plt.figure()\n",
        "plt.plot(time_line, score1, color='blue')\n",
        "plt.plot(time_line_2, score2, color='green')\n",
        "plt.plot(time_line_2, score3, color='red')\n",
        "plt.plot(time_line_4, score4, color='purple')\n",
        "plt.plot(time_line_5, score5, color='black')\n",
        "plt.legend(['Score1', \"Score2\", \"Score3\"], loc='upper right')"
      ],
      "execution_count": 23,
      "outputs": [
        {
          "output_type": "execute_result",
          "data": {
            "text/plain": [
              "<matplotlib.legend.Legend at 0x7f436f4d0a90>"
            ]
          },
          "metadata": {
            "tags": []
          },
          "execution_count": 23
        },
        {
          "output_type": "display_data",
          "data": {
            "image/png": "[encoded data removed]",
            "text/plain": [
              "<Figure size 1152x720 with 1 Axes>"
            ]
          },
          "metadata": {
            "tags": []
          }
        }
      ]
    },
    {
      "cell_type": "code",
      "metadata": {
        "id": "U4-jodlx5N_h",
        "colab_type": "code",
        "colab": {}
      },
      "source": [
        ""
      ],
      "execution_count": 0,
      "outputs": []
    },
    {
      "cell_type": "code",
      "metadata": {
        "id": "J-U1seoM5N72",
        "colab_type": "code",
        "colab": {}
      },
      "source": [
        ""
      ],
      "execution_count": 0,
      "outputs": []
    },
    {
      "cell_type": "code",
      "metadata": {
        "id": "2DpTRDnExmDC",
        "colab_type": "code",
        "colab": {}
      },
      "source": [
        "import torch\n",
        "import torch.nn as nn\n",
        "import torch.nn.functional as F\n",
        "import torch.optim as optim"
      ],
      "execution_count": 0,
      "outputs": []
    },
    {
      "cell_type": "code",
      "metadata": {
        "id": "P8a0cG1nxraJ",
        "colab_type": "code",
        "colab": {}
      },
      "source": [
        "class Simple_Net(nn.Module):\n",
        "    def __init__(self, l1_size = 50, l2_size = 50):\n",
        "        super(Simple_Net, self).__init__()\n",
        "        self.fc1 = nn.Linear(18, l1_size)\n",
        "        self.fc2 = nn.Linear(l1_size, l2_size)\n",
        "        self.fc3 = nn.Linear(l2_size, 9)\n",
        "        self.optimizer = optim.Adam(self.parameters(), lr=0.003)\n",
        "        self.gamma = 0.3\n",
        "        self.loss_function = nn.MSELoss()\n",
        "        self.epsilon = 0.2\n",
        "\n",
        "    def forward(self, x):\n",
        "        x = F.relu(self.fc1(x))\n",
        "        x = F.relu(self.fc2(x))\n",
        "        x = self.fc3(x)\n",
        "        return x\n",
        "\n",
        "    def BoardToTensor(self, board):\n",
        "      board_tensor = torch.zeros(18, dtype=torch.float)\n",
        "      for i in range(9):\n",
        "        if board[i] == \"X\":\n",
        "          board_tensor[i] = 1\n",
        "        elif board[i] == \"O\":\n",
        "          board_tensor[i+9] = 1\n",
        "      return board_tensor\n",
        "\n",
        "    def Move(self, board):\n",
        "      board_tensor = self.BoardToTensor(board)\n",
        "      output = self(board_tensor)\n",
        "      for i in range(9):\n",
        "        if board[i] != \".\":\n",
        "          output[i] = -1000\n",
        "      values, indices = output.max(0)\n",
        "      return indices.item()\n",
        "      \n",
        "    def SearchMove(self, board):\n",
        "      if random.random() < self.epsilon:\n",
        "        return RandomMove(board)\n",
        "      board_tensor = self.BoardToTensor(board)\n",
        "      output = self(board_tensor)\n",
        "      for i in range(9):\n",
        "        if board[i] != \".\":\n",
        "          output[i] = -10\n",
        "      values, indices = output.max(0)\n",
        "      return indices.item()\n",
        "\n",
        "    def SetQValue(self, board, move, value):\n",
        "      board_tensor = self.BoardToTensor(board)\n",
        "      with torch.no_grad():\n",
        "        target = self(board_tensor)\n",
        "        target[move] = value\n",
        "      self.train()\n",
        "      self.optimizer.zero_grad()\n",
        "      output = self(board_tensor)\n",
        " #     print(target, output)\n",
        "      loss = self.loss_function(output, target)\n",
        "      loss.backward()\n",
        "      self.optimizer.step()\n",
        "\n",
        "    def UpdateQ(self, board, move, next_board, print_info = False):\n",
        "      self.eval()\n",
        "      output_next = self(self.BoardToTensor(next_board))\n",
        "      output = self(self.BoardToTensor(board))\n",
        "      best, index = output_next.max(0)\n",
        "      value = min(1, (output[move] + self.gamma*(best.item()-output[move])).item())\n",
        "      \n",
        "      if print_info:\n",
        "        print(move, output_next, best.item(), output, value)\n",
        "      self.SetQValue(board, move, value)\n",
        "\n"
      ],
      "execution_count": 0,
      "outputs": []
    },
    {
      "cell_type": "code",
      "metadata": {
        "id": "PXBDn0NJ_bvG",
        "colab_type": "code",
        "colab": {}
      },
      "source": [
        "StratNet = Simple_Net(30, 20)"
      ],
      "execution_count": 0,
      "outputs": []
    },
    {
      "cell_type": "code",
      "metadata": {
        "id": "OwdH2u3TxxOh",
        "colab_type": "code",
        "outputId": "a9d50413-edd7-4a10-e506-a4013fe36de8",
        "colab": {
          "base_uri": "https://localhost:8080/",
          "height": 578
        }
      },
      "source": [
        "\n",
        "MaxEpoches = 10\n",
        "scoreNet = [Evaluate(RandomMove, StratNet.Move, 1000)]\n",
        "time_line_Net = [0]\n",
        "for epoche in range(MaxEpoches):\n",
        "  for i in range(1000):\n",
        "    result, story, moves = PlayGame(RandomMove, StratNet.SearchMove)\n",
        "    for i in range(1, len(moves), 2):\n",
        "      if i + 2 < len(moves):\n",
        "        StratNet.UpdateQ(story[i], moves[i], story[i+2])\n",
        "    \n",
        "    if result == \"O wrong move\":\n",
        "    #  MyStrat.SetQValue(story[-2], moves[-1], -10)\n",
        "      print(\"Something goes wrong\")\n",
        "    if result == \"X win\":\n",
        "      StratNet.SetQValue(story[-3], moves[-2], -1)\n",
        "    if result == \"O win\":\n",
        "      StratNet.SetQValue(story[-2], moves[-1], +1)\n",
        "    if result == \"draw\":\n",
        "      StratNet.SetQValue(story[-3], moves[-2], 0)\n",
        "  scoreNet.append(Evaluate(RandomMove, StratNet.Move, 1000))\n",
        "  time_line_Net.append(1000*(epoche+1))\n"
      ],
      "execution_count": 35,
      "outputs": [
        {
          "output_type": "stream",
          "text": [
            "X: 461\n",
            "O: 206\n",
            "D: 333\n",
            "X: 212\n",
            "O: 708\n",
            "D: 80\n",
            "X: 161\n",
            "O: 793\n",
            "D: 46\n",
            "X: 193\n",
            "O: 772\n",
            "D: 35\n",
            "X: 144\n",
            "O: 799\n",
            "D: 57\n",
            "X: 150\n",
            "O: 806\n",
            "D: 44\n",
            "X: 218\n",
            "O: 717\n",
            "D: 65\n",
            "X: 169\n",
            "O: 759\n",
            "D: 72\n",
            "X: 160\n",
            "O: 780\n",
            "D: 60\n",
            "X: 180\n",
            "O: 798\n",
            "D: 22\n",
            "X: 194\n",
            "O: 751\n",
            "D: 55\n"
          ],
          "name": "stdout"
        }
      ]
    },
    {
      "cell_type": "code",
      "metadata": {
        "id": "FQ4U8uO4k7NG",
        "colab_type": "code",
        "colab": {
          "base_uri": "https://localhost:8080/",
          "height": 136
        },
        "outputId": "fb9bf755-d0a1-411f-f89b-e2acbd69d65c"
      },
      "source": [
        "for r in range(1000):\n",
        "  random.seed(r)\n",
        "  result, story, moves = PlayGame(RandomMove, StratNet.Move)\n",
        "  for i in range(1, len(moves), 2):\n",
        "    if i + 2 < len(moves):\n",
        "      StratNet.UpdateQ(story[i], moves[i], story[i+2], True)\n",
        "\n",
        "  if result == \"O wrong move\":\n",
        "  #  MyStrat.SetQValue(story[-2], moves[-1], -10)\n",
        "    print(\"Something goes wrong\")\n",
        "  if result == \"X win\":\n",
        "    StratNet.SetQValue(story[-3], moves[-2], -1)\n",
        "    print(r)\n",
        "    break\n",
        "  if result == \"O win\":\n",
        "    StratNet.SetQValue(story[-2], moves[-1], +1)\n",
        "  if result == \"draw\":\n",
        "    StratNet.SetQValue(story[-3], moves[-2], 0)\n"
      ],
      "execution_count": 32,
      "outputs": [
        {
          "output_type": "stream",
          "text": [
            "5 tensor([-0.2767, -0.2979, -0.1372,  0.4208,  0.2811,  0.5842, -0.4189, -0.4968,\n",
            "        -0.6341], grad_fn=<AddBackward0>) 0.5841617584228516 tensor([ 0.7193,  0.8896,  0.1391,  0.5765,  0.4044,  1.2015, -0.2612,  0.6456,\n",
            "         0.3381], grad_fn=<AddBackward0>) 1\n",
            "3 tensor([-0.2816, -0.3063, -0.1530,  0.3194,  0.2232,  0.4773, -0.4101, -0.4705,\n",
            "        -0.5977], grad_fn=<AddBackward0>) 0.4772815406322479 tensor([-0.2768, -0.2980, -0.1374,  0.4194,  0.2803,  0.5821, -0.4188, -0.4964,\n",
            "        -0.6335], grad_fn=<AddBackward0>) 0.43673092126846313\n",
            "0\n"
          ],
          "name": "stdout"
        }
      ]
    },
    {
      "cell_type": "code",
      "metadata": {
        "id": "ynAO_KX5obgd",
        "colab_type": "code",
        "colab": {
          "base_uri": "https://localhost:8080/",
          "height": 561
        },
        "outputId": "b80138a3-0b56-48a9-b676-85a8a564545f"
      },
      "source": [
        "for b in story:\n",
        "  PrintBoard(b)"
      ],
      "execution_count": 33,
      "outputs": [
        {
          "output_type": "stream",
          "text": [
            "...\n",
            "...\n",
            "...\n",
            "\n",
            "...\n",
            "...\n",
            "X..\n",
            "\n",
            "...\n",
            "..O\n",
            "X..\n",
            "\n",
            "...\n",
            "..O\n",
            "X.X\n",
            "\n",
            "...\n",
            "O.O\n",
            "X.X\n",
            "\n",
            "...\n",
            "OXO\n",
            "X.X\n",
            "\n",
            "..O\n",
            "OXO\n",
            "X.X\n",
            "\n",
            "X.O\n",
            "OXO\n",
            "X.X\n",
            "\n"
          ],
          "name": "stdout"
        }
      ]
    },
    {
      "cell_type": "code",
      "metadata": {
        "id": "1mWAbqZpobd9",
        "colab_type": "code",
        "colab": {}
      },
      "source": [
        ""
      ],
      "execution_count": 0,
      "outputs": []
    },
    {
      "cell_type": "code",
      "metadata": {
        "id": "LQAVN3j8obah",
        "colab_type": "code",
        "colab": {}
      },
      "source": [
        ""
      ],
      "execution_count": 0,
      "outputs": []
    },
    {
      "cell_type": "code",
      "metadata": {
        "id": "j47Rgp_cl6WF",
        "colab_type": "code",
        "colab": {}
      },
      "source": [
        "random.seed(1)\n",
        "result, story, moves = PlayGame(RandomMove, StratNet.SearchMove)\n",
        "for i in range(1, len(moves), 2):\n",
        "  if i + 2 < len(moves):\n",
        "    StratNet.UpdateQ(story[i], moves[i], story[i+2], True)\n",
        "\n",
        "if result == \"O wrong move\":\n",
        "#  MyStrat.SetQValue(story[-2], moves[-1], -10)\n",
        "  print(\"Something goes wrong\")\n",
        "if result == \"X win\":\n",
        "  StratNet.SetQValue(story[-3], moves[-2], -1)\n",
        "if result == \"O win\":\n",
        "  StratNet.SetQValue(story[-2], moves[-1], +1)\n",
        "if result == \"draw\":\n",
        "  StratNet.SetQValue(story[-3], moves[-2], 0)"
      ],
      "execution_count": 0,
      "outputs": []
    },
    {
      "cell_type": "code",
      "metadata": {
        "id": "sxOgYOVVl6Ta",
        "colab_type": "code",
        "colab": {}
      },
      "source": [
        ""
      ],
      "execution_count": 0,
      "outputs": []
    },
    {
      "cell_type": "code",
      "metadata": {
        "id": "avk2S6-BSHZA",
        "colab_type": "code",
        "outputId": "08123c57-2dcf-4352-c358-7be20da17493",
        "colab": {
          "base_uri": "https://localhost:8080/",
          "height": 425
        }
      },
      "source": [
        "\n",
        "MaxEpoches = 10\n",
        "#scoreNet = [Evaluate(RandomMove, StratNet.Move, 1000)]\n",
        "#time_line_Net = [0]\n",
        "for epoche in range(20, MaxEpoches+20):\n",
        "  for i in range(1000):\n",
        "    result, story, moves = PlayGame(RandomMove, StratNet.SearchMove)\n",
        "    for i in range(1, len(moves), 2):\n",
        "      if i + 2 < len(moves):\n",
        "        StratNet.UpdateQ(story[i], moves[i], story[i+2])\n",
        "    \n",
        "    if result == \"O wrong move\":\n",
        "    #  MyStrat.SetQValue(story[-2], moves[-1], -10)\n",
        "      print(\"Something goes wrong\")\n",
        "    if result == \"X win\":\n",
        "      StratNet.SetQValue(story[-3], moves[-2], -1)\n",
        "    if result == \"O win\":\n",
        "      StratNet.SetQValue(story[-2], moves[-1], +1)\n",
        "    if result == \"draw\":\n",
        "      StratNet.SetQValue(story[-3], moves[-2], 0)\n",
        "  scoreNet.append(Evaluate(RandomMove, StratNet.Move, 1000))\n",
        "  time_line_Net.append(1000*(epoche+1))"
      ],
      "execution_count": 0,
      "outputs": [
        {
          "output_type": "stream",
          "text": [
            "X: 122\n",
            "O: 804\n",
            "D: 74\n"
          ],
          "name": "stdout"
        },
        {
          "output_type": "error",
          "ename": "KeyboardInterrupt",
          "evalue": "ignored",
          "traceback": [
            "\u001b[0;31m---------------------------------------------------------------------------\u001b[0m",
            "\u001b[0;31mKeyboardInterrupt\u001b[0m                         Traceback (most recent call last)",
            "\u001b[0;32m<ipython-input-98-fa92762cb3ef>\u001b[0m in \u001b[0;36m<module>\u001b[0;34m()\u001b[0m\n\u001b[1;32m      8\u001b[0m     \u001b[0;32mfor\u001b[0m \u001b[0mi\u001b[0m \u001b[0;32min\u001b[0m \u001b[0mrange\u001b[0m\u001b[0;34m(\u001b[0m\u001b[0;36m1\u001b[0m\u001b[0;34m,\u001b[0m \u001b[0mlen\u001b[0m\u001b[0;34m(\u001b[0m\u001b[0mmoves\u001b[0m\u001b[0;34m)\u001b[0m\u001b[0;34m,\u001b[0m \u001b[0;36m2\u001b[0m\u001b[0;34m)\u001b[0m\u001b[0;34m:\u001b[0m\u001b[0;34m\u001b[0m\u001b[0;34m\u001b[0m\u001b[0m\n\u001b[1;32m      9\u001b[0m       \u001b[0;32mif\u001b[0m \u001b[0mi\u001b[0m \u001b[0;34m+\u001b[0m \u001b[0;36m2\u001b[0m \u001b[0;34m<\u001b[0m \u001b[0mlen\u001b[0m\u001b[0;34m(\u001b[0m\u001b[0mmoves\u001b[0m\u001b[0;34m)\u001b[0m\u001b[0;34m:\u001b[0m\u001b[0;34m\u001b[0m\u001b[0;34m\u001b[0m\u001b[0m\n\u001b[0;32m---> 10\u001b[0;31m         \u001b[0mStratNet\u001b[0m\u001b[0;34m.\u001b[0m\u001b[0mUpdateQ\u001b[0m\u001b[0;34m(\u001b[0m\u001b[0mstory\u001b[0m\u001b[0;34m[\u001b[0m\u001b[0mi\u001b[0m\u001b[0;34m]\u001b[0m\u001b[0;34m,\u001b[0m \u001b[0mmoves\u001b[0m\u001b[0;34m[\u001b[0m\u001b[0mi\u001b[0m\u001b[0;34m]\u001b[0m\u001b[0;34m,\u001b[0m \u001b[0mstory\u001b[0m\u001b[0;34m[\u001b[0m\u001b[0mi\u001b[0m\u001b[0;34m+\u001b[0m\u001b[0;36m2\u001b[0m\u001b[0;34m]\u001b[0m\u001b[0;34m)\u001b[0m\u001b[0;34m\u001b[0m\u001b[0;34m\u001b[0m\u001b[0m\n\u001b[0m\u001b[1;32m     11\u001b[0m \u001b[0;34m\u001b[0m\u001b[0m\n\u001b[1;32m     12\u001b[0m     \u001b[0;32mif\u001b[0m \u001b[0mresult\u001b[0m \u001b[0;34m==\u001b[0m \u001b[0;34m\"O wrong move\"\u001b[0m\u001b[0;34m:\u001b[0m\u001b[0;34m\u001b[0m\u001b[0;34m\u001b[0m\u001b[0m\n",
            "\u001b[0;32m<ipython-input-32-e140f44ba755>\u001b[0m in \u001b[0;36mUpdateQ\u001b[0;34m(self, board, move, next_board)\u001b[0m\n\u001b[1;32m     58\u001b[0m \u001b[0;34m\u001b[0m\u001b[0m\n\u001b[1;32m     59\u001b[0m     \u001b[0;32mdef\u001b[0m \u001b[0mUpdateQ\u001b[0m\u001b[0;34m(\u001b[0m\u001b[0mself\u001b[0m\u001b[0;34m,\u001b[0m \u001b[0mboard\u001b[0m\u001b[0;34m,\u001b[0m \u001b[0mmove\u001b[0m\u001b[0;34m,\u001b[0m \u001b[0mnext_board\u001b[0m\u001b[0;34m)\u001b[0m\u001b[0;34m:\u001b[0m\u001b[0;34m\u001b[0m\u001b[0;34m\u001b[0m\u001b[0m\n\u001b[0;32m---> 60\u001b[0;31m       \u001b[0moutput_next\u001b[0m \u001b[0;34m=\u001b[0m \u001b[0mself\u001b[0m\u001b[0;34m(\u001b[0m\u001b[0mself\u001b[0m\u001b[0;34m.\u001b[0m\u001b[0mBoardToTensor\u001b[0m\u001b[0;34m(\u001b[0m\u001b[0mnext_board\u001b[0m\u001b[0;34m)\u001b[0m\u001b[0;34m)\u001b[0m\u001b[0;34m\u001b[0m\u001b[0;34m\u001b[0m\u001b[0m\n\u001b[0m\u001b[1;32m     61\u001b[0m       \u001b[0moutput\u001b[0m \u001b[0;34m=\u001b[0m \u001b[0mself\u001b[0m\u001b[0;34m(\u001b[0m\u001b[0mself\u001b[0m\u001b[0;34m.\u001b[0m\u001b[0mBoardToTensor\u001b[0m\u001b[0;34m(\u001b[0m\u001b[0mboard\u001b[0m\u001b[0;34m)\u001b[0m\u001b[0;34m)\u001b[0m\u001b[0;34m\u001b[0m\u001b[0;34m\u001b[0m\u001b[0m\n\u001b[1;32m     62\u001b[0m       \u001b[0mbest\u001b[0m\u001b[0;34m,\u001b[0m \u001b[0mindex\u001b[0m \u001b[0;34m=\u001b[0m \u001b[0moutput_next\u001b[0m\u001b[0;34m.\u001b[0m\u001b[0mmax\u001b[0m\u001b[0;34m(\u001b[0m\u001b[0;36m0\u001b[0m\u001b[0;34m)\u001b[0m\u001b[0;34m\u001b[0m\u001b[0;34m\u001b[0m\u001b[0m\n",
            "\u001b[0;32m/usr/local/lib/python3.6/dist-packages/torch/nn/modules/module.py\u001b[0m in \u001b[0;36m__call__\u001b[0;34m(self, *input, **kwargs)\u001b[0m\n\u001b[1;32m    539\u001b[0m             \u001b[0mresult\u001b[0m \u001b[0;34m=\u001b[0m \u001b[0mself\u001b[0m\u001b[0;34m.\u001b[0m\u001b[0m_slow_forward\u001b[0m\u001b[0;34m(\u001b[0m\u001b[0;34m*\u001b[0m\u001b[0minput\u001b[0m\u001b[0;34m,\u001b[0m \u001b[0;34m**\u001b[0m\u001b[0mkwargs\u001b[0m\u001b[0;34m)\u001b[0m\u001b[0;34m\u001b[0m\u001b[0;34m\u001b[0m\u001b[0m\n\u001b[1;32m    540\u001b[0m         \u001b[0;32melse\u001b[0m\u001b[0;34m:\u001b[0m\u001b[0;34m\u001b[0m\u001b[0;34m\u001b[0m\u001b[0m\n\u001b[0;32m--> 541\u001b[0;31m             \u001b[0mresult\u001b[0m \u001b[0;34m=\u001b[0m \u001b[0mself\u001b[0m\u001b[0;34m.\u001b[0m\u001b[0mforward\u001b[0m\u001b[0;34m(\u001b[0m\u001b[0;34m*\u001b[0m\u001b[0minput\u001b[0m\u001b[0;34m,\u001b[0m \u001b[0;34m**\u001b[0m\u001b[0mkwargs\u001b[0m\u001b[0;34m)\u001b[0m\u001b[0;34m\u001b[0m\u001b[0;34m\u001b[0m\u001b[0m\n\u001b[0m\u001b[1;32m    542\u001b[0m         \u001b[0;32mfor\u001b[0m \u001b[0mhook\u001b[0m \u001b[0;32min\u001b[0m \u001b[0mself\u001b[0m\u001b[0;34m.\u001b[0m\u001b[0m_forward_hooks\u001b[0m\u001b[0;34m.\u001b[0m\u001b[0mvalues\u001b[0m\u001b[0;34m(\u001b[0m\u001b[0;34m)\u001b[0m\u001b[0;34m:\u001b[0m\u001b[0;34m\u001b[0m\u001b[0;34m\u001b[0m\u001b[0m\n\u001b[1;32m    543\u001b[0m             \u001b[0mhook_result\u001b[0m \u001b[0;34m=\u001b[0m \u001b[0mhook\u001b[0m\u001b[0;34m(\u001b[0m\u001b[0mself\u001b[0m\u001b[0;34m,\u001b[0m \u001b[0minput\u001b[0m\u001b[0;34m,\u001b[0m \u001b[0mresult\u001b[0m\u001b[0;34m)\u001b[0m\u001b[0;34m\u001b[0m\u001b[0;34m\u001b[0m\u001b[0m\n",
            "\u001b[0;32m<ipython-input-32-e140f44ba755>\u001b[0m in \u001b[0;36mforward\u001b[0;34m(self, x)\u001b[0m\n\u001b[1;32m     11\u001b[0m \u001b[0;34m\u001b[0m\u001b[0m\n\u001b[1;32m     12\u001b[0m     \u001b[0;32mdef\u001b[0m \u001b[0mforward\u001b[0m\u001b[0;34m(\u001b[0m\u001b[0mself\u001b[0m\u001b[0;34m,\u001b[0m \u001b[0mx\u001b[0m\u001b[0;34m)\u001b[0m\u001b[0;34m:\u001b[0m\u001b[0;34m\u001b[0m\u001b[0;34m\u001b[0m\u001b[0m\n\u001b[0;32m---> 13\u001b[0;31m         \u001b[0mx\u001b[0m \u001b[0;34m=\u001b[0m \u001b[0mF\u001b[0m\u001b[0;34m.\u001b[0m\u001b[0mrelu\u001b[0m\u001b[0;34m(\u001b[0m\u001b[0mself\u001b[0m\u001b[0;34m.\u001b[0m\u001b[0mfc1\u001b[0m\u001b[0;34m(\u001b[0m\u001b[0mx\u001b[0m\u001b[0;34m)\u001b[0m\u001b[0;34m)\u001b[0m\u001b[0;34m\u001b[0m\u001b[0;34m\u001b[0m\u001b[0m\n\u001b[0m\u001b[1;32m     14\u001b[0m         \u001b[0mx\u001b[0m \u001b[0;34m=\u001b[0m \u001b[0mF\u001b[0m\u001b[0;34m.\u001b[0m\u001b[0mrelu\u001b[0m\u001b[0;34m(\u001b[0m\u001b[0mself\u001b[0m\u001b[0;34m.\u001b[0m\u001b[0mfc2\u001b[0m\u001b[0;34m(\u001b[0m\u001b[0mx\u001b[0m\u001b[0;34m)\u001b[0m\u001b[0;34m)\u001b[0m\u001b[0;34m\u001b[0m\u001b[0;34m\u001b[0m\u001b[0m\n\u001b[1;32m     15\u001b[0m         \u001b[0mx\u001b[0m \u001b[0;34m=\u001b[0m \u001b[0mself\u001b[0m\u001b[0;34m.\u001b[0m\u001b[0mfc3\u001b[0m\u001b[0;34m(\u001b[0m\u001b[0mx\u001b[0m\u001b[0;34m)\u001b[0m\u001b[0;34m\u001b[0m\u001b[0;34m\u001b[0m\u001b[0m\n",
            "\u001b[0;32m/usr/local/lib/python3.6/dist-packages/torch/nn/functional.py\u001b[0m in \u001b[0;36mrelu\u001b[0;34m(input, inplace)\u001b[0m\n\u001b[1;32m    912\u001b[0m         \u001b[0mresult\u001b[0m \u001b[0;34m=\u001b[0m \u001b[0mtorch\u001b[0m\u001b[0;34m.\u001b[0m\u001b[0mrelu_\u001b[0m\u001b[0;34m(\u001b[0m\u001b[0minput\u001b[0m\u001b[0;34m)\u001b[0m\u001b[0;34m\u001b[0m\u001b[0;34m\u001b[0m\u001b[0m\n\u001b[1;32m    913\u001b[0m     \u001b[0;32melse\u001b[0m\u001b[0;34m:\u001b[0m\u001b[0;34m\u001b[0m\u001b[0;34m\u001b[0m\u001b[0m\n\u001b[0;32m--> 914\u001b[0;31m         \u001b[0mresult\u001b[0m \u001b[0;34m=\u001b[0m \u001b[0mtorch\u001b[0m\u001b[0;34m.\u001b[0m\u001b[0mrelu\u001b[0m\u001b[0;34m(\u001b[0m\u001b[0minput\u001b[0m\u001b[0;34m)\u001b[0m\u001b[0;34m\u001b[0m\u001b[0;34m\u001b[0m\u001b[0m\n\u001b[0m\u001b[1;32m    915\u001b[0m     \u001b[0;32mreturn\u001b[0m \u001b[0mresult\u001b[0m\u001b[0;34m\u001b[0m\u001b[0;34m\u001b[0m\u001b[0m\n\u001b[1;32m    916\u001b[0m \u001b[0;34m\u001b[0m\u001b[0m\n",
            "\u001b[0;31mKeyboardInterrupt\u001b[0m: "
          ]
        }
      ]
    },
    {
      "cell_type": "code",
      "metadata": {
        "id": "stl8MIUyl4iD",
        "colab_type": "code",
        "colab": {}
      },
      "source": [
        ""
      ],
      "execution_count": 0,
      "outputs": []
    },
    {
      "cell_type": "code",
      "metadata": {
        "id": "pSvHbRr611Uk",
        "colab_type": "code",
        "colab": {
          "base_uri": "https://localhost:8080/",
          "height": 85
        },
        "outputId": "4c47f681-4f55-42e6-ad2f-45d3749aed8c"
      },
      "source": [
        "Evaluate(RandomMove, StratNet.Move, 10000)"
      ],
      "execution_count": 34,
      "outputs": [
        {
          "output_type": "stream",
          "text": [
            "X: 2585\n",
            "O: 7146\n",
            "D: 269\n"
          ],
          "name": "stdout"
        },
        {
          "output_type": "execute_result",
          "data": {
            "text/plain": [
              "0.27195"
            ]
          },
          "metadata": {
            "tags": []
          },
          "execution_count": 34
        }
      ]
    },
    {
      "cell_type": "code",
      "metadata": {
        "id": "2mHumXbiey9V",
        "colab_type": "code",
        "outputId": "8da7665d-3ff2-4bad-abeb-36bab56fc738",
        "colab": {
          "base_uri": "https://localhost:8080/",
          "height": 609
        }
      },
      "source": [
        "fig = plt.figure()\n",
        "plt.plot(time_line_5, score5, color='black')\n",
        "plt.plot(time_line_Net, scoreNet, color='red')\n",
        "plt.legend(['Score1', \"Score2\", \"Score3\"], loc='upper right')"
      ],
      "execution_count": 0,
      "outputs": [
        {
          "output_type": "execute_result",
          "data": {
            "text/plain": [
              "<matplotlib.legend.Legend at 0x7f6ecaf31860>"
            ]
          },
          "metadata": {
            "tags": []
          },
          "execution_count": 37
        },
        {
          "output_type": "display_data",
          "data": {
            "image/png": "[encoded data removed]",
            "text/plain": [
              "<Figure size 1152x720 with 1 Axes>"
            ]
          },
          "metadata": {
            "tags": []
          }
        }
      ]
    },
    {
      "cell_type": "code",
      "metadata": {
        "id": "dqlD9B6PROFM",
        "colab_type": "code",
        "outputId": "4175c706-5cd0-4378-eeba-2dabcf83c39f",
        "colab": {
          "base_uri": "https://localhost:8080/",
          "height": 1000
        }
      },
      "source": [
        "X_StratNet = Simple_Net(30, 20)\n",
        "MaxEpoches = 20\n",
        "scoreNetX = [Evaluate(X_StratNet.Move, StratNet.Move, 1000)]\n",
        "time_line_Net_X = [0]\n",
        "for epoche in range(MaxEpoches):\n",
        "  for i in range(1000):\n",
        "    result, story, moves = PlayGame(X_StratNet.SearchMove, StratNet.Move)\n",
        "    for i in range(0, len(moves), 2):\n",
        "      if i + 2 < len(moves):\n",
        "        X_StratNet.UpdateQ(story[i], moves[i], story[i+2])\n",
        "    \n",
        "    if result == \"O wrong move\":\n",
        "    #  MyStrat.SetQValue(story[-2], moves[-1], -100)\n",
        "      print(\"Something goes wrong\")\n",
        "    if result == \"X win\":\n",
        "      X_StratNet.SetQValue(story[-2], moves[-1], +1)\n",
        "    if result == \"O win\":\n",
        "      X_StratNet.SetQValue(story[-3], moves[-2], -1)\n",
        "    if result == \"draw\":\n",
        "      X_StratNet.SetQValue(story[-2], moves[-1], 0)\n",
        "  scoreNetX.append(Evaluate(X_StratNet.Move, StratNet.Move, 1000))\n",
        "  time_line_Net_X.append(1000*(epoche+1))\n"
      ],
      "execution_count": 35,
      "outputs": [
        {
          "output_type": "stream",
          "text": [
            "X: 0\n",
            "O: 1000\n",
            "D: 0\n",
            "X: 1000\n",
            "O: 0\n",
            "D: 0\n",
            "X: 1000\n",
            "O: 0\n",
            "D: 0\n",
            "X: 1000\n",
            "O: 0\n",
            "D: 0\n",
            "X: 1000\n",
            "O: 0\n",
            "D: 0\n",
            "X: 1000\n",
            "O: 0\n",
            "D: 0\n",
            "X: 1000\n",
            "O: 0\n",
            "D: 0\n",
            "X: 1000\n",
            "O: 0\n",
            "D: 0\n",
            "X: 1000\n",
            "O: 0\n",
            "D: 0\n",
            "X: 1000\n",
            "O: 0\n",
            "D: 0\n",
            "X: 1000\n",
            "O: 0\n",
            "D: 0\n",
            "X: 1000\n",
            "O: 0\n",
            "D: 0\n",
            "X: 1000\n",
            "O: 0\n",
            "D: 0\n",
            "X: 1000\n",
            "O: 0\n",
            "D: 0\n",
            "X: 1000\n",
            "O: 0\n",
            "D: 0\n",
            "X: 1000\n",
            "O: 0\n",
            "D: 0\n",
            "X: 1000\n",
            "O: 0\n",
            "D: 0\n",
            "X: 1000\n",
            "O: 0\n",
            "D: 0\n",
            "X: 1000\n",
            "O: 0\n",
            "D: 0\n",
            "X: 1000\n",
            "O: 0\n",
            "D: 0\n",
            "X: 1000\n",
            "O: 0\n",
            "D: 0\n"
          ],
          "name": "stdout"
        }
      ]
    },
    {
      "cell_type": "code",
      "metadata": {
        "id": "HBiHeTc2TLMc",
        "colab_type": "code",
        "outputId": "33e1f212-95a0-4d57-c760-24ef536181d4",
        "colab": {
          "base_uri": "https://localhost:8080/",
          "height": 85
        }
      },
      "source": [
        "Evaluate(X_StratNet.Move, RandomMove, 1000)"
      ],
      "execution_count": 0,
      "outputs": [
        {
          "output_type": "stream",
          "text": [
            "X: 633\n",
            "O: 126\n",
            "D: 241\n"
          ],
          "name": "stdout"
        },
        {
          "output_type": "execute_result",
          "data": {
            "text/plain": [
              "0.7535"
            ]
          },
          "metadata": {
            "tags": []
          },
          "execution_count": 77
        }
      ]
    },
    {
      "cell_type": "code",
      "metadata": {
        "id": "2A5D7w2nTLSG",
        "colab_type": "code",
        "outputId": "e85ffbaa-a8cb-473e-b40d-f48ab2c615b5",
        "colab": {
          "base_uri": "https://localhost:8080/",
          "height": 1000
        }
      },
      "source": [
        "X_StratNet = Simple_Net(30, 20)\n",
        "MaxEpoches = 10\n",
        "scoreNetXR = [Evaluate(X_StratNet.Move, RandomMove, 100)]\n",
        "time_line_Net_XR = [0]\n",
        "for epoche in range(MaxEpoches):\n",
        "  for i in range(10):\n",
        "    result, story, moves = PlayGame(X_StratNet.Move, RandomMove)\n",
        "    for i in range(0, len(moves), 2):\n",
        "      if i + 2 < len(moves):\n",
        "        X_StratNet.UpdateQ(story[i], moves[i], story[i+2])\n",
        "    \n",
        "    if result == \"O wrong move\":\n",
        "    #  MyStrat.SetQValue(story[-2], moves[-1], -100)\n",
        "      print(\"Something goes wrong\")\n",
        "    if result == \"X win\":\n",
        "      X_StratNet.SetQValue(story[-2], moves[-1], +1)\n",
        "    if result == \"O win\":\n",
        "      X_StratNet.SetQValue(story[-3], moves[-2], -1)\n",
        "    if result == \"draw\":\n",
        "      X_StratNet.SetQValue(story[-2], moves[-1], 0)\n",
        "  scoreNetXR.append(Evaluate(X_StratNet.Move, RandomMove, 100))\n",
        "  time_line_Net_XR.append(1000*(epoche+1))\n"
      ],
      "execution_count": 0,
      "outputs": [
        {
          "output_type": "stream",
          "text": [
            "X: 70\n",
            "O: 18\n",
            "D: 12\n",
            "2 tensor([ 0.0152, -0.0333,  0.1928,  0.0502,  0.0574,  0.0958, -0.3232, -0.0186,\n",
            "         0.0863], grad_fn=<AddBackward0>) 0.19279998540878296 tensor(0.1497, grad_fn=<SelectBackward>) 0.16260547935962677\n",
            "5 tensor([ 0.0350, -0.0088,  0.2191,  0.0636,  0.0291,  0.0948, -0.3236, -0.0428,\n",
            "         0.0508], grad_fn=<AddBackward0>) 0.21911603212356567 tensor(0.0934, grad_fn=<SelectBackward>) 0.13108932971954346\n",
            "3 tensor([ 6.0726e-02,  6.7406e-03,  2.2486e-01,  4.5207e-02,  1.2892e-04,\n",
            "         1.0588e-01, -3.0722e-01, -6.8943e-02,  4.2914e-02],\n",
            "       grad_fn=<AddBackward0>) 0.22486278414726257 tensor(0.0628, grad_fn=<SelectBackward>) 0.1114475280046463\n",
            "2 tensor([ 0.0094, -0.0445,  0.2135,  0.0441,  0.0577,  0.1311, -0.3040,  0.0062,\n",
            "         0.0378], grad_fn=<AddBackward0>) 0.21351629495620728 tensor(0.1684, grad_fn=<SelectBackward>) 0.18192158639431\n",
            "5 tensor([ 0.0255, -0.0048,  0.2208,  0.0641, -0.0034,  0.1343, -0.2883, -0.0478,\n",
            "         0.0029], grad_fn=<AddBackward0>) 0.22079429030418396 tensor(0.1363, grad_fn=<SelectBackward>) 0.16161474585533142\n",
            "3 tensor([-0.0061, -0.0334,  0.1890,  0.0797, -0.0131,  0.1259, -0.3067, -0.0322,\n",
            "         0.0494], grad_fn=<AddBackward0>) 0.18904262781143188 tensor(0.0682, grad_fn=<SelectBackward>) 0.10448519885540009\n",
            "2 tensor([-0.0130, -0.0225,  0.2001,  0.0845,  0.0726,  0.1559, -0.2994, -0.0106,\n",
            "         0.0505], grad_fn=<AddBackward0>) 0.20010137557983398 tensor(0.1715, grad_fn=<SelectBackward>) 0.18009428679943085\n",
            "5 tensor([-0.0064, -0.0245,  0.2163,  0.0849,  0.0521,  0.1518, -0.3105, -0.0074,\n",
            "         0.0393], grad_fn=<AddBackward0>) 0.21631258726119995 tensor(0.1590, grad_fn=<SelectBackward>) 0.17617560923099518\n",
            "3 tensor([-0.0159, -0.0279,  0.2060,  0.0888,  0.0426,  0.1494, -0.3145, -0.0032,\n",
            "         0.0428], grad_fn=<AddBackward0>) 0.20602795481681824 tensor(0.0882, grad_fn=<SelectBackward>) 0.12353809177875519\n",
            "2 tensor([-0.0251, -0.0313,  0.1990,  0.1074,  0.0758,  0.1624, -0.3164,  0.0047,\n",
            "         0.0724], grad_fn=<AddBackward0>) 0.19900727272033691 tensor(0.1752, grad_fn=<SelectBackward>) 0.18233446776866913\n",
            "5 tensor([-0.0425, -0.0371,  0.1819,  0.1160,  0.0663,  0.1636, -0.3215,  0.0035,\n",
            "         0.0856], grad_fn=<AddBackward0>) 0.18193599581718445 tensor(0.1658, grad_fn=<SelectBackward>) 0.1706458479166031\n",
            "5 tensor([-0.0156, -0.0130,  0.1968,  0.1232,  0.0095,  0.1798, -0.3247, -0.0274,\n",
            "         0.0574], grad_fn=<AddBackward0>) 0.19679951667785645 tensor(0.1810, grad_fn=<SelectBackward>) 0.18577051162719727\n",
            "2 tensor([-0.0225, -0.0224,  0.1828,  0.0930,  0.0645,  0.1927, -0.3407, -0.0184,\n",
            "         0.1255], grad_fn=<AddBackward0>) 0.1927376687526703 tensor(0.1973, grad_fn=<SelectBackward>) 0.1959640085697174\n",
            "5 tensor([-0.0467, -0.0371,  0.1838,  0.1155,  0.0616,  0.1862, -0.3114,  0.0058,\n",
            "         0.0744], grad_fn=<AddBackward0>) 0.18624980747699738 tensor(0.1869, grad_fn=<SelectBackward>) 0.18671688437461853\n",
            "2 tensor([-0.0370, -0.0239,  0.1934,  0.0912,  0.0865,  0.1832, -0.3136, -0.0166,\n",
            "         0.1063], grad_fn=<AddBackward0>) 0.1933513581752777 tensor(0.1837, grad_fn=<SelectBackward>) 0.18661653995513916\n",
            "3 tensor([-0.0162, -0.0227,  0.2295,  0.0629,  0.1003,  0.1829, -0.3063, -0.0103,\n",
            "         0.0864], grad_fn=<AddBackward0>) 0.22954444587230682 tensor(0.0885, grad_fn=<SelectBackward>) 0.13077855110168457\n",
            "0 tensor([-0.0384, -0.0231,  0.1914,  0.0922,  0.0738,  0.2021, -0.2996, -0.0115,\n",
            "         0.0790], grad_fn=<AddBackward0>) 0.20206430554389954 tensor(-0.0182, grad_fn=<SelectBackward>) 0.04787138104438782\n",
            "5 tensor([-0.0491, -0.0400,  0.1858,  0.1056,  0.0743,  0.1924, -0.3141,  0.0118,\n",
            "         0.0937], grad_fn=<AddBackward0>) 0.19241511821746826 tensor(0.1922, grad_fn=<SelectBackward>) 0.1922873705625534\n",
            "2 tensor([-0.0362, -0.0235,  0.1989,  0.1047,  0.0907,  0.1943, -0.3168, -0.0019,\n",
            "         0.1042], grad_fn=<AddBackward0>) 0.19890189170837402 tensor(0.1864, grad_fn=<SelectBackward>) 0.19016630947589874\n",
            "3 tensor([-0.0259, -0.0155,  0.1997,  0.0830,  0.0727,  0.1822, -0.2999, -0.0236,\n",
            "         0.1022], grad_fn=<AddBackward0>) 0.1996953785419464 tensor(0.1040, grad_fn=<SelectBackward>) 0.13271808624267578\n",
            "0 tensor([-0.0434, -0.0253,  0.1915,  0.0919,  0.0904,  0.2132, -0.3062,  0.0054,\n",
            "         0.0948], grad_fn=<AddBackward0>) 0.2131894826889038 tensor(-0.0263, grad_fn=<SelectBackward>) 0.04556546360254288\n",
            "5 tensor([-0.0285, -0.0199,  0.2014,  0.0987,  0.0564,  0.2023, -0.3291, -0.0061,\n",
            "         0.1058], grad_fn=<AddBackward0>) 0.20227423310279846 tensor(0.1951, grad_fn=<SelectBackward>) 0.1972249448299408\n",
            "2 tensor([-0.0306, -0.0269,  0.1906,  0.0823,  0.1017,  0.1987, -0.3349, -0.0059,\n",
            "         0.1668], grad_fn=<AddBackward0>) 0.19871194660663605 tensor(0.2020, grad_fn=<SelectBackward>) 0.20103424787521362\n",
            "5 tensor([-0.0397, -0.0228,  0.1943,  0.1033,  0.0667,  0.2115, -0.3150, -0.0004,\n",
            "         0.0967], grad_fn=<AddBackward0>) 0.21154680848121643 tensor(0.1965, grad_fn=<SelectBackward>) 0.20098888874053955\n",
            "2 tensor([-0.0336, -0.0323,  0.2099,  0.0861,  0.0969,  0.2014, -0.3201,  0.0125,\n",
            "         0.1178], grad_fn=<AddBackward0>) 0.20988240838050842 tensor(0.1944, grad_fn=<SelectBackward>) 0.19907385110855103\n",
            "5 tensor([-0.0471, -0.0421,  0.1964,  0.0961,  0.0912,  0.1993, -0.3205,  0.0206,\n",
            "         0.1241], grad_fn=<AddBackward0>) 0.19933883845806122 tensor(0.1982, grad_fn=<SelectBackward>) 0.19856663048267365\n",
            "2 tensor([-0.0363, -0.0442,  0.2264,  0.0843,  0.1370,  0.2012, -0.3382,  0.0384,\n",
            "         0.1430], grad_fn=<AddBackward0>) 0.22641140222549438 tensor(0.1974, grad_fn=<SelectBackward>) 0.206091046333313\n",
            "X: 85\n",
            "O: 10\n",
            "D: 5\n",
            "5 tensor([-0.0475, -0.0261,  0.2062,  0.1017,  0.0942,  0.2176, -0.3402,  0.0228,\n",
            "         0.1540], grad_fn=<AddBackward0>) 0.21762660145759583 tensor(0.1988, grad_fn=<SelectBackward>) 0.20444639027118683\n",
            "2 tensor([-0.0285, -0.0373,  0.2147,  0.0693,  0.1168,  0.1889, -0.3416,  0.0101,\n",
            "         0.1877], grad_fn=<AddBackward0>) 0.21470312774181366 tensor(0.2076, grad_fn=<SelectBackward>) 0.20974315702915192\n",
            "5 tensor([-0.0407, -0.0290,  0.2027,  0.0976,  0.0739,  0.2177, -0.3244,  0.0037,\n",
            "         0.1414], grad_fn=<AddBackward0>) 0.21773254871368408 tensor(0.2009, grad_fn=<SelectBackward>) 0.2059369534254074\n",
            "2 tensor([-0.0406, -0.0460,  0.1972,  0.0806,  0.1479,  0.2156, -0.3609,  0.0243,\n",
            "         0.2493], grad_fn=<AddBackward0>) 0.24934598803520203 tensor(0.2037, grad_fn=<SelectBackward>) 0.21739378571510315\n",
            "2 tensor([-0.0404, -0.0552,  0.2096,  0.0660,  0.1233,  0.1934, -0.3412,  0.0220,\n",
            "         0.2299], grad_fn=<AddBackward0>) 0.22994163632392883 tensor(0.2053, grad_fn=<SelectBackward>) 0.21270251274108887\n",
            "8 tensor([-0.0414, -0.0388,  0.2074,  0.0749,  0.1168,  0.2151, -0.3379,  0.0109,\n",
            "         0.2149], grad_fn=<AddBackward0>) 0.21512559056282043 tensor(0.2365, grad_fn=<SelectBackward>) 0.2300696223974228\n",
            "3 tensor([-0.0334, -0.0195,  0.2121,  0.0673,  0.1010,  0.2220, -0.3262, -0.0007,\n",
            "         0.1897], grad_fn=<AddBackward0>) 0.22200286388397217 tensor(0.0745, grad_fn=<SelectBackward>) 0.11874997615814209\n",
            "7 tensor([-0.0790, -0.0435,  0.1936,  0.1064,  0.0870,  0.2432, -0.3463,  0.0393,\n",
            "         0.2333], grad_fn=<AddBackward0>) 0.24315032362937927 tensor(0.0017, grad_fn=<SelectBackward>) 0.07411197572946548\n",
            "2 tensor([-0.0569, -0.0569,  0.2256,  0.1076,  0.1068,  0.2057, -0.3467,  0.0514,\n",
            "         0.2063], grad_fn=<AddBackward0>) 0.2256266474723816 tensor(0.2175, grad_fn=<SelectBackward>) 0.21990659832954407\n",
            "8 tensor([-0.0725, -0.0524,  0.2317,  0.1253,  0.1242,  0.2114, -0.3485,  0.0646,\n",
            "         0.1976], grad_fn=<AddBackward0>) 0.2317040115594864 tensor(0.2100, grad_fn=<SelectBackward>) 0.21652257442474365\n",
            "2 tensor([-0.0337, -0.0356,  0.2451,  0.0749,  0.1111,  0.1955, -0.3344,  0.0405,\n",
            "         0.2087], grad_fn=<AddBackward0>) 0.24506577849388123 tensor(0.2230, grad_fn=<SelectBackward>) 0.22960558533668518\n",
            "8 tensor([-0.0312, -0.0286,  0.2548,  0.0770,  0.1227,  0.2017, -0.3616,  0.0529,\n",
            "         0.2544], grad_fn=<AddBackward0>) 0.2547970414161682 tensor(0.2112, grad_fn=<SelectBackward>) 0.22430038452148438\n",
            "2 tensor([-0.0511, -0.0309,  0.2298,  0.0911,  0.1139,  0.2320, -0.3531,  0.0531,\n",
            "         0.2631], grad_fn=<AddBackward0>) 0.263114333152771 tensor(0.2281, grad_fn=<SelectBackward>) 0.23860786855220795\n",
            "8 tensor([-0.0770, -0.0230,  0.2303,  0.1141,  0.1358,  0.2626, -0.3648,  0.0883,\n",
            "         0.2785], grad_fn=<AddBackward0>) 0.27848348021507263 tensor(0.2664, grad_fn=<SelectBackward>) 0.270020455121994\n",
            "5 tensor([-0.0606, -0.0094,  0.2391,  0.1095,  0.0822,  0.2673, -0.3518,  0.0544,\n",
            "         0.2237], grad_fn=<AddBackward0>) 0.26731711626052856 tensor(0.2414, grad_fn=<SelectBackward>) 0.2492019236087799\n",
            "2 tensor([-0.0674, -0.0127,  0.2323,  0.1149,  0.1223,  0.2855, -0.3601,  0.0601,\n",
            "         0.2541], grad_fn=<AddBackward0>) 0.28550082445144653 tensor(0.2416, grad_fn=<SelectBackward>) 0.2547723948955536\n",
            "5 tensor([-0.0563,  0.0094,  0.2573,  0.1141,  0.0988,  0.2955, -0.3626,  0.0623,\n",
            "         0.2393], grad_fn=<AddBackward0>) 0.2955104410648346 tensor(0.2570, grad_fn=<SelectBackward>) 0.2685767710208893\n",
            "2 tensor([-0.0421, -0.0074,  0.2644,  0.1112,  0.1037,  0.2707, -0.3524,  0.0512,\n",
            "         0.2342], grad_fn=<AddBackward0>) 0.270656019449234 tensor(0.2615, grad_fn=<SelectBackward>) 0.2642582654953003\n",
            "3 tensor([-5.2657e-02,  6.3702e-06,  2.7596e-01,  1.1064e-01,  1.4867e-01,\n",
            "         2.8667e-01, -3.9244e-01,  8.5529e-02,  3.3537e-01],\n",
            "       grad_fn=<AddBackward0>) 0.3353732228279114 tensor(0.1121, grad_fn=<SelectBackward>) 0.1790989190340042\n",
            "5 tensor([-0.0500, -0.0054,  0.2702,  0.1143,  0.0738,  0.2870, -0.3597,  0.0662,\n",
            "         0.2316], grad_fn=<AddBackward0>) 0.2869742512702942 tensor(0.2740, grad_fn=<SelectBackward>) 0.27788808941841125\n",
            "2 tensor([-0.0573,  0.0185,  0.2934,  0.1152,  0.1317,  0.3067, -0.3902,  0.0897,\n",
            "         0.3018], grad_fn=<AddBackward0>) 0.3066509962081909 tensor(0.2733, grad_fn=<SelectBackward>) 0.28327181935310364\n",
            "5 tensor([-0.0729,  0.0469,  0.3094,  0.1385,  0.1382,  0.3429, -0.4050,  0.1062,\n",
            "         0.3117], grad_fn=<AddBackward0>) 0.3428671956062317 tensor(0.2861, grad_fn=<SelectBackward>) 0.30312806367874146\n",
            "8 tensor([-0.0691,  0.0887,  0.3224,  0.1473,  0.1657,  0.3870, -0.4378,  0.1140,\n",
            "         0.3605], grad_fn=<AddBackward0>) 0.38696953654289246 tensor(0.3212, grad_fn=<SelectBackward>) 0.34094804525375366\n",
            "X: 84\n",
            "O: 13\n",
            "D: 3\n",
            "5 tensor([-0.0587,  0.0080,  0.2963,  0.1185,  0.1152,  0.3086, -0.3665,  0.0831,\n",
            "         0.2670], grad_fn=<AddBackward0>) 0.30859920382499695 tensor(0.2964, grad_fn=<SelectBackward>) 0.3000788688659668\n",
            "2 tensor([-0.0577,  0.0190,  0.3091,  0.1339,  0.1578,  0.3308, -0.3895,  0.0852,\n",
            "         0.3108], grad_fn=<AddBackward0>) 0.33079594373703003 tensor(0.3030, grad_fn=<SelectBackward>) 0.31133055686950684\n",
            "4 tensor([-0.0512,  0.0205,  0.3138,  0.1219,  0.1460,  0.3158, -0.3824,  0.0700,\n",
            "         0.3002], grad_fn=<AddBackward0>) 0.31582972407341003 tensor(0.1632, grad_fn=<SelectBackward>) 0.20900164544582367\n",
            "5 tensor([-0.0485,  0.0402,  0.3522,  0.1358,  0.1595,  0.3361, -0.4218,  0.0909,\n",
            "         0.3450], grad_fn=<AddBackward0>) 0.3522323966026306 tensor(0.3076, grad_fn=<SelectBackward>) 0.3209659159183502\n",
            "8 tensor([-0.0606,  0.1068,  0.3759,  0.1670,  0.2171,  0.4018, -0.4583,  0.1073,\n",
            "         0.4248], grad_fn=<AddBackward0>) 0.42479389905929565 tensor(0.3521, grad_fn=<SelectBackward>) 0.3738945722579956\n",
            "4 tensor([-0.0976,  0.1046,  0.3843,  0.2077,  0.2416,  0.4157, -0.4831,  0.1188,\n",
            "         0.4226], grad_fn=<AddBackward0>) 0.42263323068618774 tensor(0.2233, grad_fn=<SelectBackward>) 0.2830932140350342\n",
            "5 tensor([-0.0606,  0.0328,  0.3477,  0.1656,  0.1287,  0.3502, -0.4130,  0.1087,\n",
            "         0.3255], grad_fn=<AddBackward0>) 0.35021546483039856 tensor(0.3190, grad_fn=<SelectBackward>) 0.3283446431159973\n",
            "2 tensor([-0.0813,  0.0238,  0.3518,  0.1891,  0.2305,  0.4007, -0.4572,  0.1498,\n",
            "         0.4560], grad_fn=<AddBackward0>) 0.45598989725112915 tensor(0.3528, grad_fn=<SelectBackward>) 0.38376766443252563\n",
            "5 tensor([-0.0641,  0.0414,  0.3647,  0.1902,  0.1415,  0.3649, -0.4291,  0.1213,\n",
            "         0.3501], grad_fn=<AddBackward0>) 0.3648589253425598 tensor(0.3280, grad_fn=<SelectBackward>) 0.3390854001045227\n",
            "2 tensor([-0.0932,  0.0527,  0.3842,  0.2249,  0.2650,  0.4321, -0.4905,  0.1778,\n",
            "         0.5139], grad_fn=<AddBackward0>) 0.513891875743866 tensor(0.3711, grad_fn=<SelectBackward>) 0.4139569401741028\n",
            "5 tensor([-0.0677,  0.0698,  0.4032,  0.2175,  0.2104,  0.4032, -0.4793,  0.1489,\n",
            "         0.4566], grad_fn=<AddBackward0>) 0.4565587043762207 tensor(0.3365, grad_fn=<SelectBackward>) 0.37253639101982117\n",
            "8 tensor([-0.0913,  0.1117,  0.4231,  0.2889,  0.2191,  0.4803, -0.5254,  0.1870,\n",
            "         0.4884], grad_fn=<AddBackward0>) 0.4884192645549774 tensor(0.4711, grad_fn=<SelectBackward>) 0.4762610197067261\n",
            "2 tensor([-0.0713,  0.0181,  0.3781,  0.2128,  0.2320,  0.3781, -0.4582,  0.1586,\n",
            "         0.4791], grad_fn=<AddBackward0>) 0.47912782430648804 tensor(0.3505, grad_fn=<SelectBackward>) 0.38908112049102783\n",
            "8 tensor([-0.0739,  0.1068,  0.4591,  0.2782,  0.2630,  0.4541, -0.5157,  0.2019,\n",
            "         0.4943], grad_fn=<AddBackward0>) 0.494306743144989 tensor(0.4905, grad_fn=<SelectBackward>) 0.49166861176490784\n",
            "2 tensor([-0.0725,  0.0402,  0.4111,  0.2057,  0.2094,  0.3751, -0.4182,  0.1354,\n",
            "         0.3828], grad_fn=<AddBackward0>) 0.41108739376068115 tensor(0.3740, grad_fn=<SelectBackward>) 0.3851484954357147\n",
            "5 tensor([-0.0766,  0.0592,  0.4585,  0.2649,  0.2563,  0.4182, -0.5061,  0.1890,\n",
            "         0.5159], grad_fn=<AddBackward0>) 0.5159235596656799 tensor(0.3810, grad_fn=<SelectBackward>) 0.4214579463005066\n",
            "3 tensor([-0.0718,  0.0831,  0.4731,  0.2438,  0.2330,  0.4076, -0.4983,  0.1779,\n",
            "         0.5051], grad_fn=<AddBackward0>) 0.5050898194313049 tensor(0.2720, grad_fn=<SelectBackward>) 0.34193968772888184\n",
            "2 tensor([-0.0962,  0.0468,  0.4668,  0.2551,  0.2987,  0.4676, -0.5022,  0.1879,\n",
            "         0.5710], grad_fn=<AddBackward0>) 0.5709875822067261 tensor(0.3999, grad_fn=<SelectBackward>) 0.45119190216064453\n",
            "8 tensor([-0.1520,  0.1257,  0.5466,  0.4318,  0.3625,  0.6145, -0.6013,  0.3006,\n",
            "         0.6139], grad_fn=<AddBackward0>) 0.6144635677337646 tensor(0.5812, grad_fn=<SelectBackward>) 0.5912008881568909\n",
            "4 tensor([-0.2077,  0.1353,  0.6410,  0.4949,  0.5322,  0.7100, -0.7029,  0.3562,\n",
            "         0.8372], grad_fn=<AddBackward0>) 0.8372474312782288 tensor(0.3787, grad_fn=<SelectBackward>) 0.5162816047668457\n",
            "1 tensor([-0.2374,  0.1688,  0.6947,  0.5367,  0.5662,  0.7716, -0.7378,  0.3907,\n",
            "         0.8803], grad_fn=<AddBackward0>) 0.8802523612976074 tensor(0.1395, grad_fn=<SelectBackward>) 0.36174923181533813\n",
            "2 tensor([-0.1040,  0.0736,  0.5056,  0.2703,  0.3538,  0.5042, -0.5130,  0.2005,\n",
            "         0.6206], grad_fn=<AddBackward0>) 0.6206175684928894 tensor(0.4251, grad_fn=<SelectBackward>) 0.4837380349636078\n",
            "8 tensor([-0.1658,  0.1632,  0.5880,  0.4350,  0.4302,  0.6544, -0.5890,  0.3038,\n",
            "         0.6586], grad_fn=<AddBackward0>) 0.6586052179336548 tensor(0.6153, grad_fn=<SelectBackward>) 0.6283164620399475\n",
            "4 tensor([-0.2234,  0.1643,  0.6206,  0.4635,  0.5051,  0.7049, -0.5989,  0.3152,\n",
            "         0.7285], grad_fn=<AddBackward0>) 0.7285172343254089 tensor(0.4305, grad_fn=<SelectBackward>) 0.5198863744735718\n",
            "7 tensor([-0.3267,  0.2267,  0.6919,  0.6017,  0.6397,  0.8862, -0.6931,  0.4117,\n",
            "         0.9277], grad_fn=<AddBackward0>) 0.9277322292327881 tensor(0.3064, grad_fn=<SelectBackward>) 0.4928106963634491\n",
            "2 tensor([-0.0983,  0.0893,  0.4976,  0.2509,  0.3650,  0.4994, -0.4577,  0.1958,\n",
            "         0.6018], grad_fn=<AddBackward0>) 0.6018468737602234 tensor(0.4330, grad_fn=<SelectBackward>) 0.4836483895778656\n",
            "8 tensor([-0.1649,  0.1986,  0.5875,  0.3882,  0.4968,  0.6923, -0.5411,  0.2937,\n",
            "         0.7288], grad_fn=<AddBackward0>) 0.7287975549697876 tensor(0.5971, grad_fn=<SelectBackward>) 0.6366121768951416\n",
            "4 tensor([-0.1859,  0.2058,  0.6193,  0.4327,  0.5426,  0.7116, -0.5442,  0.3175,\n",
            "         0.7214], grad_fn=<AddBackward0>) 0.7213507294654846 tensor(0.4933, grad_fn=<SelectBackward>) 0.5617085695266724\n",
            "7 tensor([-0.2243,  0.2377,  0.6776,  0.5462,  0.6137,  0.8267, -0.6215,  0.4259,\n",
            "         0.8654], grad_fn=<AddBackward0>) 0.865419864654541 tensor(0.3189, grad_fn=<SelectBackward>) 0.4828850030899048\n",
            "X: 86\n",
            "O: 6\n",
            "D: 8\n",
            "2 tensor([-0.0408,  0.1067,  0.4854,  0.2372,  0.2866,  0.4277, -0.3894,  0.1970,\n",
            "         0.4308], grad_fn=<AddBackward0>) 0.4854273200035095 tensor(0.4452, grad_fn=<SelectBackward>) 0.45726653933525085\n",
            "5 tensor([-0.0431,  0.1769,  0.5882,  0.3086,  0.4522,  0.5443, -0.5127,  0.2938,\n",
            "         0.7101], grad_fn=<AddBackward0>) 0.7101212739944458 tensor(0.4267, grad_fn=<SelectBackward>) 0.5117263197898865\n",
            "3 tensor([-0.0390,  0.1888,  0.5935,  0.3110,  0.4911,  0.5903, -0.5191,  0.2942,\n",
            "         0.7492], grad_fn=<AddBackward0>) 0.7491896748542786 tensor(0.3084, grad_fn=<SelectBackward>) 0.4406472146511078\n",
            "7 tensor([-0.0352,  0.2532,  0.6947,  0.4373,  0.6029,  0.6877, -0.6284,  0.4420,\n",
            "         0.9286], grad_fn=<AddBackward0>) 0.9285861253738403 tensor(0.3035, grad_fn=<SelectBackward>) 0.4910476803779602\n",
            "2 tensor([-0.0129,  0.1122,  0.5134,  0.2529,  0.3756,  0.4791, -0.4239,  0.2609,\n",
            "         0.5759], grad_fn=<AddBackward0>) 0.5758756995201111 tensor(0.4574, grad_fn=<SelectBackward>) 0.49297261238098145\n",
            "8 tensor([-0.0114,  0.2142,  0.6150,  0.3753,  0.4602,  0.6023, -0.5076,  0.3769,\n",
            "         0.6604], grad_fn=<AddBackward0>) 0.6604034900665283 tensor(0.5748, grad_fn=<SelectBackward>) 0.6004685163497925\n",
            "4 tensor([-0.0208,  0.2365,  0.6493,  0.4336,  0.5350,  0.6754, -0.5603,  0.4457,\n",
            "         0.7872], grad_fn=<AddBackward0>) 0.787196934223175 tensor(0.4604, grad_fn=<SelectBackward>) 0.5584319233894348\n",
            "3 tensor([ 0.0050,  0.2512,  0.6303,  0.4344,  0.4676,  0.6440, -0.5684,  0.4319,\n",
            "         0.7484], grad_fn=<AddBackward0>) 0.7484347224235535 tensor(0.4344, grad_fn=<SelectBackward>) 0.5286403298377991\n",
            "2 tensor([ 0.0155,  0.1245,  0.5121,  0.2461,  0.3105,  0.4391, -0.3811,  0.2555,\n",
            "         0.4445], grad_fn=<AddBackward0>) 0.5121103525161743 tensor(0.4696, grad_fn=<SelectBackward>) 0.48232653737068176\n",
            "5 tensor([ 0.0446,  0.1892,  0.6120,  0.3391,  0.4365,  0.5129, -0.5050,  0.3664,\n",
            "         0.6749], grad_fn=<AddBackward0>) 0.6748703718185425 tensor(0.4394, grad_fn=<SelectBackward>) 0.510028064250946\n",
            "2 tensor([ 0.0253,  0.1221,  0.5222,  0.2650,  0.3742,  0.4728, -0.4162,  0.2722,\n",
            "         0.5653], grad_fn=<AddBackward0>) 0.5652667880058289 tensor(0.4715, grad_fn=<SelectBackward>) 0.49960845708847046\n",
            "8 tensor([ 0.0380,  0.2378,  0.6189,  0.3975,  0.4631,  0.6067, -0.5140,  0.3802,\n",
            "         0.6718], grad_fn=<AddBackward0>) 0.6718217730522156 tensor(0.5583, grad_fn=<SelectBackward>) 0.5923850536346436\n",
            "3 tensor([ 0.0332,  0.2726,  0.5927,  0.3661,  0.4411,  0.6117, -0.4943,  0.3448,\n",
            "         0.6462], grad_fn=<AddBackward0>) 0.6462236642837524 tensor(0.3942, grad_fn=<SelectBackward>) 0.46980270743370056\n",
            "7 tensor([ 0.0278,  0.3144,  0.6703,  0.4477,  0.4871,  0.6746, -0.5719,  0.4170,\n",
            "         0.7757], grad_fn=<AddBackward0>) 0.7756664156913757 tensor(0.3387, grad_fn=<SelectBackward>) 0.4697885513305664\n",
            "2 tensor([ 0.0367,  0.1274,  0.5206,  0.2986,  0.3323,  0.4734, -0.4329,  0.2834,\n",
            "         0.5705], grad_fn=<AddBackward0>) 0.5704742670059204 tensor(0.4709, grad_fn=<SelectBackward>) 0.5007883906364441\n",
            "8 tensor([ 0.0440,  0.2148,  0.5963,  0.3984,  0.4122,  0.6095, -0.5011,  0.3503,\n",
            "         0.6491], grad_fn=<AddBackward0>) 0.6490874290466309 tensor(0.5677, grad_fn=<SelectBackward>) 0.5921028852462769\n",
            "2 tensor([ 0.0316,  0.0702,  0.4790,  0.2586,  0.2710,  0.4333, -0.3755,  0.2368,\n",
            "         0.4676], grad_fn=<AddBackward0>) 0.4789947271347046 tensor(0.4725, grad_fn=<SelectBackward>) 0.4744180142879486\n",
            "8 tensor([ 0.0591,  0.1425,  0.5823,  0.3569,  0.3759,  0.5437, -0.4612,  0.3275,\n",
            "         0.5914], grad_fn=<AddBackward0>) 0.5913761258125305 tensor(0.4665, grad_fn=<SelectBackward>) 0.5039952993392944\n",
            "2 tensor([ 0.0476,  0.0869,  0.5521,  0.2761,  0.3558,  0.4873, -0.4358,  0.2833,\n",
            "         0.6411], grad_fn=<AddBackward0>) 0.6410900354385376 tensor(0.4749, grad_fn=<SelectBackward>) 0.5247691869735718\n",
            "8 tensor([ 0.0511,  0.1586,  0.6177,  0.3807,  0.4249,  0.6136, -0.4960,  0.3542,\n",
            "         0.6969], grad_fn=<AddBackward0>) 0.6968635320663452 tensor(0.6430, grad_fn=<SelectBackward>) 0.6591264009475708\n",
            "4 tensor([ 0.0815,  0.1610,  0.5943,  0.3558,  0.3722,  0.5881, -0.4730,  0.3171,\n",
            "         0.6042], grad_fn=<AddBackward0>) 0.6041827201843262 tensor(0.4265, grad_fn=<SelectBackward>) 0.4797922670841217\n",
            "3 tensor([ 0.0464,  0.1535,  0.5864,  0.3741,  0.3700,  0.6068, -0.4956,  0.3377,\n",
            "         0.6856], grad_fn=<AddBackward0>) 0.68564772605896 tensor(0.3579, grad_fn=<SelectBackward>) 0.45622357726097107\n",
            "2 tensor([ 0.0367,  0.0840,  0.5181,  0.2912,  0.3000,  0.5166, -0.4174,  0.2588,\n",
            "         0.5617], grad_fn=<AddBackward0>) 0.5616989135742188 tensor(0.4837, grad_fn=<SelectBackward>) 0.5071306824684143\n",
            "8 tensor([ 0.0603,  0.1880,  0.6206,  0.4463,  0.4256,  0.7203, -0.5167,  0.3826,\n",
            "         0.6856], grad_fn=<AddBackward0>) 0.7202849984169006 tensor(0.5629, grad_fn=<SelectBackward>) 0.6101071238517761\n",
            "2 tensor([ 0.0428,  0.0741,  0.4957,  0.2625,  0.2505,  0.4837, -0.3682,  0.2317,\n",
            "         0.4362], grad_fn=<AddBackward0>) 0.49574393033981323 tensor(0.4892, grad_fn=<SelectBackward>) 0.49113306403160095\n",
            "5 tensor([ 0.0530,  0.1523,  0.6596,  0.3677,  0.4491,  0.6730, -0.5098,  0.3630,\n",
            "         0.7863], grad_fn=<AddBackward0>) 0.7862875461578369 tensor(0.4896, grad_fn=<SelectBackward>) 0.5786347389221191\n",
            "2 tensor([ 0.0392,  0.0700,  0.5323,  0.3062,  0.3108,  0.5601, -0.4235,  0.2682,\n",
            "         0.5820], grad_fn=<AddBackward0>) 0.5819946527481079 tensor(0.4944, grad_fn=<SelectBackward>) 0.5207056999206543\n",
            "8 tensor([ 0.0532,  0.1644,  0.6447,  0.4405,  0.4394,  0.7574, -0.5058,  0.3794,\n",
            "         0.6971], grad_fn=<AddBackward0>) 0.7574359178543091 tensor(0.5885, grad_fn=<SelectBackward>) 0.6391480565071106\n",
            "3 tensor([ 0.0425,  0.1752,  0.6860,  0.4943,  0.5447,  0.8467, -0.5753,  0.4533,\n",
            "         0.9116], grad_fn=<AddBackward0>) 0.9116344451904297 tensor(0.4447, grad_fn=<SelectBackward>) 0.584804117679596\n",
            "4 tensor([ 0.0786,  0.1722,  0.6344,  0.4687,  0.4656,  0.7934, -0.5614,  0.4005,\n",
            "         0.8177], grad_fn=<AddBackward0>) 0.8177329897880554 tensor(0.5527, grad_fn=<SelectBackward>) 0.6322404742240906\n",
            "X: 81\n",
            "O: 7\n",
            "D: 12\n",
            "2 tensor([ 0.0457,  0.0625,  0.5103,  0.2805,  0.2695,  0.5322, -0.3681,  0.2441,\n",
            "         0.4677], grad_fn=<AddBackward0>) 0.5321720242500305 tensor(0.5031, grad_fn=<SelectBackward>) 0.5118007659912109\n",
            "5 tensor([ 0.0477,  0.1413,  0.6402,  0.3786,  0.4442,  0.7213, -0.4721,  0.3550,\n",
            "         0.7571], grad_fn=<AddBackward0>) 0.7571274638175964 tensor(0.5338, grad_fn=<SelectBackward>) 0.6008307933807373\n",
            "2 tensor([ 0.0408,  0.0470,  0.5086,  0.2719,  0.2402,  0.5274, -0.3394,  0.2269,\n",
            "         0.4304], grad_fn=<AddBackward0>) 0.5273760557174683 tensor(0.5031, grad_fn=<SelectBackward>) 0.5104174613952637\n",
            "5 tensor([ 0.0573,  0.1068,  0.6178,  0.3936,  0.4161,  0.7112, -0.4546,  0.3518,\n",
            "         0.7370], grad_fn=<AddBackward0>) 0.7369914054870605 tensor(0.5301, grad_fn=<SelectBackward>) 0.5921366214752197\n",
            "3 tensor([ 0.0589,  0.0760,  0.6072,  0.3612,  0.3639,  0.6400, -0.4362,  0.3171,\n",
            "         0.6858], grad_fn=<AddBackward0>) 0.6857762336730957 tensor(0.3953, grad_fn=<SelectBackward>) 0.482464462518692\n",
            "2 tensor([ 0.0397,  0.0442,  0.5066,  0.2751,  0.2427,  0.5375, -0.3251,  0.2192,\n",
            "         0.4359], grad_fn=<AddBackward0>) 0.537529706954956 tensor(0.5031, grad_fn=<SelectBackward>) 0.5134365558624268\n",
            "5 tensor([ 0.0521,  0.0731,  0.6133,  0.3451,  0.4220,  0.6812, -0.4196,  0.2981,\n",
            "         0.7662], grad_fn=<AddBackward0>) 0.766211986541748 tensor(0.5372, grad_fn=<SelectBackward>) 0.6058884859085083\n",
            "4 tensor([ 0.0388,  0.0759,  0.6171,  0.3945,  0.4183,  0.6976, -0.4240,  0.2870,\n",
            "         0.7303], grad_fn=<AddBackward0>) 0.7303014993667603 tensor(0.4188, grad_fn=<SelectBackward>) 0.5122835040092468\n",
            "2 tensor([ 0.0371,  0.0494,  0.5423,  0.3586,  0.3624,  0.6564, -0.3789,  0.2593,\n",
            "         0.6510], grad_fn=<AddBackward0>) 0.656395673751831 tensor(0.5019, grad_fn=<SelectBackward>) 0.548263430595398\n",
            "5 tensor([ 0.0357,  0.1039,  0.6792,  0.4551,  0.5719,  0.8779, -0.4541,  0.3394,\n",
            "         0.9665], grad_fn=<AddBackward0>) 0.9665267467498779 tensor(0.6579, grad_fn=<SelectBackward>) 0.7505056858062744\n",
            "2 tensor([ 0.0368,  0.0489,  0.5455,  0.3722,  0.3684,  0.6674, -0.3708,  0.2412,\n",
            "         0.6535], grad_fn=<AddBackward0>) 0.6673558354377747 tensor(0.5101, grad_fn=<SelectBackward>) 0.5572845935821533\n",
            "5 tensor([ 0.0516,  0.0953,  0.6873,  0.4416,  0.5248,  0.8254, -0.4424,  0.2872,\n",
            "         0.9098], grad_fn=<AddBackward0>) 0.9098140597343445 tensor(0.6720, grad_fn=<SelectBackward>) 0.7433214783668518\n",
            "2 tensor([ 0.0482,  0.0331,  0.5893,  0.3552,  0.4144,  0.6599, -0.3733,  0.2252,\n",
            "         0.7369], grad_fn=<AddBackward0>) 0.7368598580360413 tensor(0.5228, grad_fn=<SelectBackward>) 0.5870175361633301\n",
            "8 tensor([ 0.0558,  0.1365,  0.6676,  0.5265,  0.5419,  0.8873, -0.4448,  0.3270,\n",
            "         0.8588], grad_fn=<AddBackward0>) 0.8872565627098083 tensor(0.7425, grad_fn=<SelectBackward>) 0.785927414894104\n",
            "2 tensor([ 0.0383,  0.0528,  0.5728,  0.3981,  0.3993,  0.7112, -0.3636,  0.2242,\n",
            "         0.6861], grad_fn=<AddBackward0>) 0.711247444152832 tensor(0.5403, grad_fn=<SelectBackward>) 0.591549813747406\n",
            "5 tensor([ 0.0556,  0.1039,  0.7729,  0.5028,  0.6820,  0.9821, -0.4512,  0.2952,\n",
            "         1.1033], grad_fn=<AddBackward0>) 1.1033003330230713 tensor(0.7205, grad_fn=<SelectBackward>) 0.8353219032287598\n",
            "2 tensor([ 0.0516,  0.0388,  0.6243,  0.3848,  0.4485,  0.7129, -0.3716,  0.2191,\n",
            "         0.7738], grad_fn=<AddBackward0>) 0.7738420963287354 tensor(0.5605, grad_fn=<SelectBackward>) 0.6244780421257019\n",
            "8 tensor([ 0.0698,  0.1310,  0.6643,  0.4618,  0.4574,  0.7994, -0.3920,  0.2592,\n",
            "         0.7207], grad_fn=<AddBackward0>) 0.7993972301483154 tensor(0.7756, grad_fn=<SelectBackward>) 0.7827208638191223\n",
            "2 tensor([ 0.0399,  0.0489,  0.5472,  0.3300,  0.3239,  0.6269, -0.3089,  0.1653,\n",
            "         0.5354], grad_fn=<AddBackward0>) 0.6268883943557739 tensor(0.5827, grad_fn=<SelectBackward>) 0.5959606766700745\n",
            "5 tensor([ 0.0383,  0.1290,  0.6998,  0.4584,  0.5387,  0.8828, -0.4049,  0.2500,\n",
            "         0.8898], grad_fn=<AddBackward0>) 0.8897895216941833 tensor(0.6347, grad_fn=<SelectBackward>) 0.7112060189247131\n",
            "2 tensor([ 0.0467,  0.0328,  0.6020,  0.3509,  0.3281,  0.6400, -0.3443,  0.1746,\n",
            "         0.6139], grad_fn=<AddBackward0>) 0.6400404572486877 tensor(0.6036, grad_fn=<SelectBackward>) 0.6145137548446655\n",
            "5 tensor([ 0.0368,  0.0762,  0.7131,  0.4698,  0.5190,  0.8986, -0.4048,  0.2343,\n",
            "         0.8910], grad_fn=<AddBackward0>) 0.8985834121704102 tensor(0.6482, grad_fn=<SelectBackward>) 0.7233278155326843\n",
            "X: 84\n",
            "O: 10\n",
            "D: 6\n",
            "2 tensor([ 0.0435,  0.0651,  0.5862,  0.3782,  0.2903,  0.6333, -0.3129,  0.1754,\n",
            "         0.4687], grad_fn=<AddBackward0>) 0.6332899928092957 tensor(0.6236, grad_fn=<SelectBackward>) 0.6265326738357544\n",
            "5 tensor([ 0.0339,  0.1092,  0.6391,  0.4224,  0.4158,  0.7873, -0.3672,  0.2100,\n",
            "         0.7136], grad_fn=<AddBackward0>) 0.7873429656028748 tensor(0.6393, grad_fn=<SelectBackward>) 0.6837351322174072\n",
            "2 tensor([ 0.0487,  0.0409,  0.6285,  0.3710,  0.4305,  0.7721, -0.3236,  0.1754,\n",
            "         0.6706], grad_fn=<AddBackward0>) 0.7720794677734375 tensor(0.6379, grad_fn=<SelectBackward>) 0.678150475025177\n",
            "8 tensor([ 0.0495,  0.1319,  0.7357,  0.5256,  0.5849,  1.0232, -0.3766,  0.2869,\n",
            "         0.7951], grad_fn=<AddBackward0>) 1.02321457862854 tensor(0.6718, grad_fn=<SelectBackward>) 0.7772143483161926\n",
            "4 tensor([ 0.0713,  0.1171,  0.6386,  0.4544,  0.5275,  0.9416, -0.3272,  0.2368,\n",
            "         0.6603], grad_fn=<AddBackward0>) 0.9415925145149231 tensor(0.5892, grad_fn=<SelectBackward>) 0.694948673248291\n",
            "2 tensor([ 0.0437,  0.0606,  0.6078,  0.3366,  0.3041,  0.6591, -0.3007,  0.1532,\n",
            "         0.4796], grad_fn=<AddBackward0>) 0.6591253280639648 tensor(0.6548, grad_fn=<SelectBackward>) 0.6560634970664978\n",
            "5 tensor([ 0.0353,  0.1031,  0.6963,  0.4239,  0.4527,  0.8531, -0.3630,  0.1862,\n",
            "         0.6978], grad_fn=<AddBackward0>) 0.8531454205513 tensor(0.6595, grad_fn=<SelectBackward>) 0.717616081237793\n",
            "4 tensor([ 0.0237,  0.1055,  0.7488,  0.4842,  0.4338,  0.8643, -0.3918,  0.2165,\n",
            "         0.6718], grad_fn=<AddBackward0>) 0.8643165826797485 tensor(0.4516, grad_fn=<SelectBackward>) 0.5754125714302063\n",
            "2 tensor([ 0.0522,  0.0471,  0.7433,  0.3516,  0.5531,  0.8762, -0.3587,  0.1659,\n",
            "         0.8644], grad_fn=<AddBackward0>) 0.8762038946151733 tensor(0.6679, grad_fn=<SelectBackward>) 0.7304239273071289\n",
            "5 tensor([ 0.0427,  0.1139,  0.8326,  0.3690,  0.6653,  1.0370, -0.3906,  0.1616,\n",
            "         1.0474], grad_fn=<AddBackward0>) 1.0474156141281128 tensor(0.8830, grad_fn=<SelectBackward>) 0.9323297739028931\n",
            "2 tensor([ 0.0517,  0.0498,  0.7689,  0.3545,  0.5774,  0.9006, -0.3580,  0.1517,\n",
            "         0.8773], grad_fn=<AddBackward0>) 0.900551438331604 tensor(0.6910, grad_fn=<SelectBackward>) 0.7538912296295166\n",
            "5 tensor([ 0.0426,  0.1132,  0.8524,  0.3618,  0.6830,  1.0554, -0.3865,  0.1414,\n",
            "         1.0530], grad_fn=<AddBackward0>) 1.0553579330444336 tensor(0.9084, grad_fn=<SelectBackward>) 0.9524573087692261\n",
            "2 tensor([ 0.0388,  0.0745,  0.6912,  0.3676,  0.4894,  0.8654, -0.3504,  0.1321,\n",
            "         0.7617], grad_fn=<AddBackward0>) 0.8653841614723206 tensor(0.7207, grad_fn=<SelectBackward>) 0.7640796303749084\n",
            "5 tensor([ 0.0284,  0.1257,  0.7951,  0.4574,  0.5389,  0.9575, -0.3705,  0.1592,\n",
            "         0.7387], grad_fn=<AddBackward0>) 0.9574887752532959 tensor(0.8737, grad_fn=<SelectBackward>) 0.8988044857978821\n",
            "4 tensor([ 0.0151,  0.1092,  0.7180,  0.4230,  0.4441,  0.8561, -0.3420,  0.1242,\n",
            "         0.6146], grad_fn=<AddBackward0>) 0.8560653924942017 tensor(0.5481, grad_fn=<SelectBackward>) 0.640489935874939\n",
            "2 tensor([ 0.0525,  0.0491,  0.7607,  0.3254,  0.4688,  0.8193, -0.3364,  0.1054,\n",
            "         0.7152], grad_fn=<AddBackward0>) 0.8192614316940308 tensor(0.7654, grad_fn=<SelectBackward>) 0.7815797328948975\n",
            "5 tensor([ 0.0324,  0.0733,  0.8551,  0.3873,  0.6650,  1.0762, -0.3777,  0.1160,\n",
            "         0.9960], grad_fn=<AddBackward0>) 1.0762144327163696 tensor(0.8281, grad_fn=<SelectBackward>) 0.9025290012359619\n",
            "2 tensor([ 0.0299,  0.0398,  0.6512,  0.2596,  0.4274,  0.7597, -0.2752,  0.0543,\n",
            "         0.5970], grad_fn=<AddBackward0>) 0.7596615552902222 tensor(0.8018, grad_fn=<SelectBackward>) 0.7891296148300171\n",
            "5 tensor([ 0.0476,  0.1195,  0.9289,  0.3811,  0.7496,  1.1361, -0.3818,  0.1122,\n",
            "         1.0600], grad_fn=<AddBackward0>) 1.1361017227172852 tensor(0.7660, grad_fn=<SelectBackward>) 0.8770309686660767\n",
            "2 tensor([ 0.0329,  0.0442,  0.6727,  0.2707,  0.4474,  0.7884, -0.2760,  0.0521,\n",
            "         0.6039], grad_fn=<AddBackward0>) 0.788448691368103 tensor(0.8291, grad_fn=<SelectBackward>) 0.816893458366394\n",
            "5 tensor([ 0.0416,  0.1437,  0.9569,  0.4018,  0.8110,  1.2349, -0.3774,  0.1026,\n",
            "         1.0830], grad_fn=<AddBackward0>) 1.2349437475204468 tensor(0.7971, grad_fn=<SelectBackward>) 0.9284405708312988\n",
            "2 tensor([ 0.0328,  0.0395,  0.7630,  0.3506,  0.5609,  0.9337, -0.3016,  0.0799,\n",
            "         0.7124], grad_fn=<AddBackward0>) 0.9336568117141724 tensor(0.8484, grad_fn=<SelectBackward>) 0.8739790320396423\n",
            "5 tensor([ 0.0395,  0.0916,  0.9463,  0.4402,  0.7466,  1.1976, -0.3816,  0.1112,\n",
            "         1.0082], grad_fn=<AddBackward0>) 1.1976398229599 tensor(0.9436, grad_fn=<SelectBackward>) 1.019826054573059\n",
            "X: 86\n",
            "O: 11\n",
            "D: 3\n",
            "2 tensor([ 0.0402,  0.0945,  0.9275,  0.4453,  0.7065,  1.1394, -0.3397,  0.1076,\n",
            "         0.8271], grad_fn=<AddBackward0>) 1.1393976211547852 tensor(0.8729, grad_fn=<SelectBackward>) 0.9528640508651733\n",
            "5 tensor([ 0.0658,  0.1455,  1.1392,  0.5097,  0.9353,  1.4268, -0.4064,  0.1242,\n",
            "         1.1286], grad_fn=<AddBackward0>) 1.4268128871917725 tensor(1.1530, grad_fn=<SelectBackward>) 1.2351149320602417\n",
            "2 tensor([ 0.0609,  0.0962,  1.0368,  0.4751,  0.7697,  1.1574, -0.3612,  0.1272,\n",
            "         0.8934], grad_fn=<AddBackward0>) 1.1573514938354492 tensor(0.9146, grad_fn=<SelectBackward>) 0.9874279499053955\n",
            "5 tensor([ 0.0725,  0.1422,  1.2135,  0.5441,  0.9657,  1.4480, -0.4223,  0.1507,\n",
            "         1.1382], grad_fn=<AddBackward0>) 1.4479538202285767 tensor(1.1705, grad_fn=<SelectBackward>) 1.2537363767623901\n",
            "2 tensor([ 0.0490,  0.0699,  0.8120,  0.3208,  0.5344,  0.9365, -0.2752,  0.0429,\n",
            "         0.5931], grad_fn=<AddBackward0>) 0.9365133047103882 tensor(0.9647, grad_fn=<SelectBackward>) 0.9562315344810486\n",
            "5 tensor([ 0.0549,  0.1747,  0.9744,  0.4685,  0.7467,  1.2767, -0.3796,  0.1125,\n",
            "         0.8853], grad_fn=<AddBackward0>) 1.276659369468689 tensor(0.9469, grad_fn=<SelectBackward>) 1.0458612442016602\n",
            "2 tensor([ 0.0648,  0.1437,  1.0698,  0.5311,  0.5757,  1.0338, -0.3095,  0.1123,\n",
            "         0.4951], grad_fn=<AddBackward0>) 1.0697849988937378 tensor(1.0031, grad_fn=<SelectBackward>) 1.0231341123580933\n",
            "5 tensor([ 0.0277,  0.1381,  0.9538,  0.4342,  0.6532,  1.1299, -0.3197,  0.0859,\n",
            "         0.6695], grad_fn=<AddBackward0>) 1.1298871040344238 tensor(1.0487, grad_fn=<SelectBackward>) 1.0730715990066528\n",
            "4 tensor([ 0.0106,  0.1317,  0.9163,  0.5006,  0.6559,  1.1515, -0.3231,  0.1063,\n",
            "         0.6302], grad_fn=<AddBackward0>) 1.1515085697174072 tensor(0.6647, grad_fn=<SelectBackward>) 0.8107577562332153\n",
            "1 tensor([ 0.0050,  0.1509,  1.2489,  0.5558,  0.8889,  1.4129, -0.3123,  0.0794,\n",
            "         0.7303], grad_fn=<AddBackward0>) 1.4129102230072021 tensor(0.1376, grad_fn=<SelectBackward>) 0.5201892256736755\n",
            "2 tensor([ 0.0473,  0.1666,  1.2001,  0.5430,  0.8550,  1.3832, -0.3255,  0.1064,\n",
            "         0.7665], grad_fn=<AddBackward0>) 1.3832366466522217 tensor(1.0703, grad_fn=<SelectBackward>) 1.1641772985458374\n",
            "5 tensor([ 0.0664,  0.2350,  1.4167,  0.6018,  1.0899,  1.6883, -0.3683,  0.1195,\n",
            "         1.0194], grad_fn=<AddBackward0>) 1.6883257627487183 tensor(1.4013, grad_fn=<SelectBackward>) 1.4874331951141357\n",
            "2 tensor([ 0.0708,  0.2335,  1.2661,  0.5854,  0.7119,  1.2013, -0.2567,  0.1048,\n",
            "         0.4844], grad_fn=<AddBackward0>) 1.2660794258117676 tensor(1.1244, grad_fn=<SelectBackward>) 1.1669012308120728\n",
            "5 tensor([ 0.0547,  0.3207,  1.5415,  0.7017,  1.0566,  1.6329, -0.2992,  0.1303,\n",
            "         0.7848], grad_fn=<AddBackward0>) 1.6329212188720703 tensor(1.2242, grad_fn=<SelectBackward>) 1.346842885017395\n",
            "2 tensor([ 0.0527,  0.1783,  1.0907,  0.3629,  0.7567,  1.2235, -0.1935,  0.0268,\n",
            "         0.5918], grad_fn=<AddBackward0>) 1.223506212234497 tensor(1.1623, grad_fn=<SelectBackward>) 1.180629014968872\n",
            "5 tensor([ 0.0602,  0.2927,  1.2404,  0.4729,  0.9577,  1.5552, -0.2863,  0.0948,\n",
            "         0.8921], grad_fn=<AddBackward0>) 1.5551648139953613 tensor(1.2312, grad_fn=<SelectBackward>) 1.3283785581588745\n",
            "4 tensor([ 0.0456,  0.3346,  1.3817,  0.5570,  1.1079,  1.7105, -0.2956,  0.1203,\n",
            "         0.9672], grad_fn=<AddBackward0>) 1.7105448246002197 tensor(0.9581, grad_fn=<SelectBackward>) 1.1838619709014893\n",
            "2 tensor([ 0.0556,  0.2358,  1.3740,  0.4302,  1.0246,  1.5143, -0.2260,  0.0851,\n",
            "         0.8236], grad_fn=<AddBackward0>) 1.514296054840088 tensor(1.1639, grad_fn=<SelectBackward>) 1.2689929008483887\n",
            "5 tensor([ 0.0488,  0.3051,  1.5777,  0.4131,  1.3615,  1.9954, -0.2266,  0.0547,\n",
            "         1.1200], grad_fn=<AddBackward0>) 1.9954038858413696 tensor(1.5298, grad_fn=<SelectBackward>) 1.6694990396499634\n",
            "2 tensor([ 0.0430,  0.1909,  1.1529,  0.2517,  0.8824,  1.3689, -0.1382,  0.0107,\n",
            "         0.6306], grad_fn=<AddBackward0>) 1.36891770362854 tensor(1.1924, grad_fn=<SelectBackward>) 1.245388388633728\n",
            "5 tensor([ 0.0185,  0.2358,  1.2594,  0.2929,  0.9897,  1.5184, -0.1523,  0.0333,\n",
            "         0.6972], grad_fn=<AddBackward0>) 1.5184471607208252 tensor(1.3926, grad_fn=<SelectBackward>) 1.430375337600708\n",
            "4 tensor([ 0.0335,  0.3434,  1.4513,  0.5223,  1.0862,  1.6833, -0.1965,  0.1225,\n",
            "         0.7015], grad_fn=<AddBackward0>) 1.6832603216171265 tensor(1.0049, grad_fn=<SelectBackward>) 1.2084217071533203\n",
            "2 tensor([ 0.0450,  0.2104,  1.2528,  0.2339,  0.9845,  1.4898, -0.1166,  0.0072,\n",
            "         0.6422], grad_fn=<AddBackward0>) 1.4898229837417603 tensor(1.2446, grad_fn=<SelectBackward>) 1.3181546926498413\n",
            "5 tensor([ 0.0393,  0.3020,  1.4793,  0.2723,  1.2014,  1.7803, -0.1748,  0.0191,\n",
            "         0.8756], grad_fn=<AddBackward0>) 1.780268907546997 tensor(1.5239, grad_fn=<SelectBackward>) 1.6008235216140747\n",
            "4 tensor([ 0.0431,  0.3888,  1.5942,  0.4802,  1.2499,  1.9090, -0.2212,  0.1153,\n",
            "         0.8602], grad_fn=<AddBackward0>) 1.90900719165802 tensor(1.2378, grad_fn=<SelectBackward>) 1.439144492149353\n",
            "X: 81\n",
            "O: 12\n",
            "D: 7\n",
            "2 tensor([ 0.0545,  0.2798,  1.4612,  0.3225,  1.0464,  1.5707, -0.1758,  0.0368,\n",
            "         0.6740], grad_fn=<AddBackward0>) 1.5707368850708008 tensor(1.3272, grad_fn=<SelectBackward>) 1.4002869129180908\n",
            "5 tensor([ 0.0464,  0.3696,  1.7752,  0.3131,  1.5426,  2.1739, -0.1713,  0.0135,\n",
            "         1.0185], grad_fn=<AddBackward0>) 2.1738955974578857 tensor(1.6080, grad_fn=<SelectBackward>) 1.7778006792068481\n",
            "2 tensor([ 0.0364,  0.2441,  1.4554,  0.2824,  1.2201,  1.7607, -0.1026,  0.0158,\n",
            "         0.7266], grad_fn=<AddBackward0>) 1.7606924772262573 tensor(1.4059, grad_fn=<SelectBackward>) 1.5123435258865356\n",
            "5 tensor([ 0.0452,  0.4125,  1.8132,  0.3884,  1.6321,  2.3154, -0.1868,  0.0595,\n",
            "         1.0749], grad_fn=<AddBackward0>) 2.315420150756836 tensor(1.8007, grad_fn=<SelectBackward>) 1.9551074504852295\n",
            "4 tensor([ 0.0281,  0.4743,  2.0210,  0.5673,  1.7042,  2.4121, -0.2020,  0.1080,\n",
            "         1.0067], grad_fn=<AddBackward0>) 2.412118911743164 tensor(1.6837, grad_fn=<SelectBackward>) 1.9022080898284912\n",
            "2 tensor([ 0.0647,  0.3632,  1.8135,  0.3449,  1.3718,  1.9601, -0.1425,  0.0304,\n",
            "         0.7478], grad_fn=<AddBackward0>) 1.9600831270217896 tensor(1.5409, grad_fn=<SelectBackward>) 1.6666805744171143\n",
            "5 tensor([ 0.0513,  0.4586,  2.1768,  0.3346,  1.8921,  2.5556, -0.1462,  0.0160,\n",
            "         1.0409], grad_fn=<AddBackward0>) 2.5555803775787354 tensor(2.0220, grad_fn=<SelectBackward>) 2.1820836067199707\n",
            "4 tensor([ 0.0529,  0.5320,  2.5342,  0.4354,  2.1793,  2.8798, -0.1038,  0.0397,\n",
            "         1.1112], grad_fn=<AddBackward0>) 2.879835367202759 tensor(1.9772, grad_fn=<SelectBackward>) 2.2479777336120605\n",
            "2 tensor([ 0.0669,  0.4547,  2.2787,  0.4032,  1.9105,  2.5270, -0.1429,  0.0343,\n",
            "         0.9033], grad_fn=<AddBackward0>) 2.5270214080810547 tensor(1.7183, grad_fn=<SelectBackward>) 1.9609043598175049\n",
            "5 tensor([ 5.9346e-02,  5.8499e-01,  2.7521e+00,  3.9040e-01,  2.5159e+00,\n",
            "         3.2275e+00, -1.7392e-01, -2.5124e-03,  1.1365e+00],\n",
            "       grad_fn=<AddBackward0>) 3.2274584770202637 tensor(2.6128, grad_fn=<SelectBackward>) 2.7971839904785156\n",
            "4 tensor([ 0.0552,  0.6414,  3.1119,  0.5020,  2.7217,  3.4649, -0.1135,  0.0253,\n",
            "         1.0979], grad_fn=<AddBackward0>) 3.4649147987365723 tensor(2.6471, grad_fn=<SelectBackward>) 2.8924403190612793\n",
            "2 tensor([ 0.0858,  0.4396,  2.4571,  0.4499,  1.8687,  2.5096, -0.0902,  0.0349,\n",
            "         0.5458], grad_fn=<AddBackward0>) 2.509618043899536 tensor(1.9841, grad_fn=<SelectBackward>) 2.1417713165283203\n",
            "5 tensor([ 0.0665,  0.7038,  3.1316,  0.6849,  2.6537,  3.4009, -0.2261,  0.0995,\n",
            "         0.8558], grad_fn=<AddBackward0>) 3.4009342193603516 tensor(2.6131, grad_fn=<SelectBackward>) 2.849479913711548\n",
            "4 tensor([ 0.0530,  0.7603,  3.5423,  0.8282,  2.9927,  3.7847, -0.1778,  0.1012,\n",
            "         0.7981], grad_fn=<AddBackward0>) 3.784656047821045 tensor(2.8078, grad_fn=<SelectBackward>) 3.100843906402588\n",
            "7 tensor([ 0.0383,  0.7630,  3.7312,  0.8051,  3.4043,  4.1936, -0.1955,  0.1057,\n",
            "         0.8901], grad_fn=<AddBackward0>) 4.193603992462158 tensor(0.0885, grad_fn=<SelectBackward>) 1.3200594186782837\n",
            "2 tensor([ 0.0958,  0.5472,  3.1575,  0.5201,  2.5541,  3.2787, -0.0479,  0.1137,\n",
            "         0.5010], grad_fn=<AddBackward0>) 3.2787282466888428 tensor(2.3884, grad_fn=<SelectBackward>) 2.6555089950561523\n",
            "5 tensor([ 0.0842,  0.8641,  4.0942,  0.8010,  3.6129,  4.5052, -0.1169,  0.2747,\n",
            "         0.8197], grad_fn=<AddBackward0>) 4.5051655769348145 tensor(3.4395, grad_fn=<SelectBackward>) 3.7591848373413086\n",
            "4 tensor([0.1004, 0.9235, 4.6533, 0.9657, 4.0486, 5.0672, 0.0431, 0.3779, 0.7912],\n",
            "       grad_fn=<AddBackward0>) 5.06724739074707 tensor(3.8260, grad_fn=<SelectBackward>) 4.198365688323975\n",
            "7 tensor([0.0879, 1.0497, 5.0403, 1.0814, 4.3386, 5.4530, 0.0450, 0.4878, 0.8044],\n",
            "       grad_fn=<AddBackward0>) 5.4530205726623535 tensor(0.4494, grad_fn=<SelectBackward>) 1.9504854679107666\n",
            "2 tensor([0.0697, 0.6593, 4.0036, 0.5735, 3.6201, 4.5072, 0.1801, 0.3468, 0.6905],\n",
            "       grad_fn=<AddBackward0>) 4.507166385650635 tensor(2.9158, grad_fn=<SelectBackward>) 3.393221855163574\n",
            "5 tensor([0.0498, 1.0474, 5.3648, 0.8688, 5.1092, 6.2381, 0.1616, 0.6343, 1.0610],\n",
            "       grad_fn=<AddBackward0>) 6.23807430267334 tensor(4.7424, grad_fn=<SelectBackward>) 5.191099166870117\n",
            "4 tensor([0.0323, 1.2641, 6.4651, 1.1549, 5.8798, 7.2064, 0.3135, 0.9082, 1.0166],\n",
            "       grad_fn=<AddBackward0>) 7.2064032554626465 tensor(5.4818, grad_fn=<SelectBackward>) 5.999196529388428\n",
            "2 tensor([0.0143, 1.0646, 5.6462, 0.9473, 5.1076, 6.2555, 0.2430, 0.8482, 0.8103],\n",
            "       grad_fn=<AddBackward0>) 6.255528926849365 tensor(3.5469, grad_fn=<SelectBackward>) 4.359500885009766\n",
            "5 tensor([-0.0475,  1.3793,  7.5477,  1.2330,  6.9838,  8.4142,  0.4149,  1.2509,\n",
            "         0.8877], grad_fn=<AddBackward0>) 8.41424560546875 tensor(6.6698, grad_fn=<SelectBackward>) 7.193114280700684\n",
            "4 tensor([-0.0584,  1.5846,  9.0808,  1.5528,  8.2906, 10.0226,  0.6865,  1.5970,\n",
            "         0.8667], grad_fn=<AddBackward0>) 10.022567749023438 tensor(7.5534, grad_fn=<SelectBackward>) 8.294137001037598\n",
            "7 tensor([-0.1179,  1.6562,  9.9060,  1.6098,  9.3127, 11.0645,  0.8006,  1.7578,\n",
            "         0.9628], grad_fn=<AddBackward0>) 11.064502716064453 tensor(1.7909, grad_fn=<SelectBackward>) 4.572952747344971\n",
            "2 tensor([-0.0912,  1.1034,  7.3886,  0.8587,  6.8500,  8.0682,  0.5993,  1.2424,\n",
            "         0.6471], grad_fn=<AddBackward0>) 8.068196296691895 tensor(4.7252, grad_fn=<SelectBackward>) 5.728105068206787\n",
            "5 tensor([-0.2112,  1.5745,  9.8373,  1.1463,  9.3073, 10.8271,  0.7523,  1.8119,\n",
            "         0.8789], grad_fn=<AddBackward0>) 10.827107429504395 tensor(8.5545, grad_fn=<SelectBackward>) 9.236252784729004\n",
            "4 tensor([-0.2453,  2.1518, 12.7931,  1.8482, 11.9633, 13.9965,  1.0520,  2.7196,\n",
            "         0.9717], grad_fn=<AddBackward0>) 13.996513366699219 tensor(10.0086, grad_fn=<SelectBackward>) 11.20495319366455\n",
            "2 tensor([-0.2165,  1.3654,  8.8655,  1.0638,  8.2899,  9.7161,  0.7408,  1.6863,\n",
            "         0.6147], grad_fn=<AddBackward0>) 9.716106414794922 tensor(5.9266, grad_fn=<SelectBackward>) 7.063443660736084\n",
            "5 tensor([-0.3409,  1.9148, 12.6554,  1.5041, 11.9925, 13.8651,  1.1184,  2.3942,\n",
            "         0.6762], grad_fn=<AddBackward0>) 13.865081787109375 tensor(10.1439, grad_fn=<SelectBackward>) 11.260276794433594\n",
            "7 tensor([-0.4262,  2.3827, 15.1538,  1.9780, 14.4528, 16.7777,  1.2844,  2.9067,\n",
            "         0.8333], grad_fn=<AddBackward0>) 16.77765655517578 tensor(2.4238, grad_fn=<SelectBackward>) 6.729990005493164\n",
            "3 tensor([-0.4890,  2.5809, 16.4539,  2.0531, 15.5079, 18.0338,  1.3708,  3.1425,\n",
            "         0.7671], grad_fn=<AddBackward0>) 18.033750534057617 tensor(2.0797, grad_fn=<SelectBackward>) 6.8659210205078125\n",
            "X: 45\n",
            "O: 41\n",
            "D: 14\n",
            "2 tensor([-0.1048,  1.9612, 13.7158,  2.0266, 12.2222, 14.4219,  1.2352,  2.5595,\n",
            "         0.3273], grad_fn=<AddBackward0>) 14.421895027160645 tensor(7.6374, grad_fn=<SelectBackward>) 9.672755241394043\n",
            "5 tensor([-0.0467,  2.5861, 17.7042,  2.7348, 16.1283, 18.8737,  1.5211,  3.3027,\n",
            "         0.5925], grad_fn=<AddBackward0>) 18.87367820739746 tensor(15.1666, grad_fn=<SelectBackward>) 16.278724670410156\n",
            "7 tensor([ 0.1176,  2.9956, 20.8420,  3.4975, 18.9019, 22.3065,  1.8177,  3.9425,\n",
            "         0.6672], grad_fn=<AddBackward0>) 22.30647087097168 tensor(3.5433, grad_fn=<SelectBackward>) 9.172255516052246\n",
            "1 tensor([ 0.3153,  3.3272, 23.6450,  4.0564, 20.9015, 24.8773,  2.0688,  4.5525,\n",
            "         0.5208], grad_fn=<AddBackward0>) 24.877281188964844 tensor(3.2213, grad_fn=<SelectBackward>) 9.718091011047363\n",
            "2 tensor([ 0.6235,  2.4065, 14.8285,  2.6436, 12.6395, 15.3794,  1.1616,  2.9364,\n",
            "         0.4495], grad_fn=<AddBackward0>) 15.379378318786621 tensor(9.9806, grad_fn=<SelectBackward>) 11.600221633911133\n",
            "4 tensor([ 0.9684,  3.0581, 17.6774,  3.3554, 14.5435, 17.7912,  1.3795,  3.5408,\n",
            "         0.3795], grad_fn=<AddBackward0>) 17.791221618652344 tensor(13.2152, grad_fn=<SelectBackward>) 14.588027000427246\n",
            "3 tensor([ 1.3557,  3.8546, 21.5052,  4.2506, 17.7313, 21.5743,  1.7466,  4.5731,\n",
            "         0.2523], grad_fn=<AddBackward0>) 21.57431411743164 tensor(3.6380, grad_fn=<SelectBackward>) 9.01889419555664\n",
            "1 tensor([ 1.7020,  4.4323, 24.7496,  4.9467, 20.5074, 24.6818,  2.1205,  5.2263,\n",
            "         0.2004], grad_fn=<AddBackward0>) 24.74962615966797 tensor(4.3199, grad_fn=<SelectBackward>) 10.448783874511719\n",
            "2 tensor([ 1.9279,  4.8647, 22.8735,  5.0460, 18.8312, 22.6707,  1.3263,  4.9648,\n",
            "         0.4175], grad_fn=<AddBackward0>) 22.873493194580078 tensor(12.9362, grad_fn=<SelectBackward>) 15.917409896850586\n",
            "5 tensor([ 2.7289,  6.7642, 30.6560,  6.8412, 25.5312, 30.4068,  1.5310,  6.7146,\n",
            "         0.6544], grad_fn=<AddBackward0>) 30.656034469604492 tensor(23.7919, grad_fn=<SelectBackward>) 25.85113525390625\n",
            "4 tensor([ 3.7109,  8.8232, 38.7702,  9.2108, 31.5743, 37.9750,  1.7333,  8.7587,\n",
            "         0.4292], grad_fn=<AddBackward0>) 38.77021408081055 tensor(26.8561, grad_fn=<SelectBackward>) 30.43033790588379\n",
            "2 tensor([ 2.7497,  6.2672, 26.8374,  5.9301, 22.1033, 26.3938,  0.8290,  5.9484,\n",
            "         0.4037], grad_fn=<AddBackward0>) 26.83744239807129 tensor(15.7737, grad_fn=<SelectBackward>) 19.092857360839844\n",
            "5 tensor([ 4.0565,  9.3834, 38.4940,  8.4043, 31.9213, 37.9847,  0.8111,  8.7647,\n",
            "         0.6986], grad_fn=<AddBackward0>) 38.49401092529297 tensor(27.3495, grad_fn=<SelectBackward>) 30.692840576171875\n",
            "4 tensor([ 4.9976, 11.2277, 45.8265,  9.6661, 37.6662, 45.0202,  0.9403, 10.4455,\n",
            "         0.5969], grad_fn=<AddBackward0>) 45.82648468017578 tensor(33.3095, grad_fn=<SelectBackward>) 37.06462097167969\n",
            "2 tensor([ 3.8141,  8.4690, 34.1914,  6.5048, 28.0388, 33.4270,  0.3195,  7.1964,\n",
            "         0.3506], grad_fn=<AddBackward0>) 34.1914176940918 tensor(18.6293, grad_fn=<SelectBackward>) 23.29791831970215\n",
            "5 tensor([ 5.4612, 11.9933, 48.3468,  8.8025, 39.9284, 47.2510,  0.3880,  9.8126,\n",
            "         0.3109], grad_fn=<AddBackward0>) 48.34676742553711 tensor(34.6056, grad_fn=<SelectBackward>) 38.72798538208008\n",
            "1 tensor([ 5.8529, 12.7366, 51.7467,  8.9506, 42.2801, 50.1876,  0.3044,  9.8434,\n",
            "         0.0980], grad_fn=<AddBackward0>) 51.74671173095703 tensor(12.5220, grad_fn=<SelectBackward>) 24.289405822753906\n",
            "7 tensor([6.9935e+00, 1.5520e+01, 6.1088e+01, 1.0326e+01, 4.9726e+01, 5.9256e+01,\n",
            "        2.1886e-01, 1.1138e+01, 4.3028e-02], grad_fn=<AddBackward0>) 61.088478088378906 tensor(9.8787, grad_fn=<SelectBackward>) 25.241647720336914\n",
            "2 tensor([ 4.6116, 11.6269, 43.3868,  6.9644, 35.2032, 42.1390, -0.1876,  8.0388,\n",
            "         0.1737], grad_fn=<AddBackward0>) 43.386802673339844 tensor(22.9974, grad_fn=<SelectBackward>) 29.114225387573242\n",
            "5 tensor([ 5.3883, 15.2152, 55.8090,  8.5773, 45.2421, 54.0477, -0.3935, 10.3540,\n",
            "         0.1796], grad_fn=<AddBackward0>) 55.808963775634766 tensor(44.0202, grad_fn=<SelectBackward>) 47.556854248046875\n",
            "1 tensor([ 5.9424, 18.4221, 67.2045, 10.1485, 53.9953, 64.9273, -0.4184, 12.6318,\n",
            "        -0.1778], grad_fn=<AddBackward0>) 67.20449829101562 tensor(16.2111, grad_fn=<SelectBackward>) 31.50910186767578\n",
            "2 tensor([ 3.7102, 14.0700, 48.8158,  7.0241, 38.8726, 47.2978, -0.3951,  8.8632,\n",
            "        -0.0891], grad_fn=<AddBackward0>) 48.815818786621094 tensor(27.2184, grad_fn=<SelectBackward>) 33.697654724121094\n",
            "5 tensor([ 4.7089e+00,  1.9855e+01,  6.6899e+01,  9.5487e+00,  5.3160e+01,\n",
            "         6.4799e+01, -7.8807e-01,  1.1872e+01,  2.9661e-02],\n",
            "       grad_fn=<AddBackward0>) 66.89891052246094 tensor(48.8276, grad_fn=<SelectBackward>) 54.24900817871094\n",
            "4 tensor([ 5.2494, 23.6762, 78.8234, 11.2213, 61.6071, 75.8633, -0.8426, 13.6525,\n",
            "        -0.3813], grad_fn=<AddBackward0>) 78.82341766357422 tensor(54.9988, grad_fn=<SelectBackward>) 62.146202087402344\n",
            "7 tensor([ 5.4133, 26.5520, 87.5332, 12.0868, 68.6729, 84.2956, -0.9856, 14.6233,\n",
            "        -0.4221], grad_fn=<AddBackward0>) 87.53315734863281 tensor(13.8862, grad_fn=<SelectBackward>) 35.980281829833984\n",
            "2 tensor([ 3.5619, 20.1876, 65.4009,  8.6186, 51.0610, 62.7675, -0.3672, 11.2440,\n",
            "        -0.5222], grad_fn=<AddBackward0>) 65.40089416503906 tensor(33.5362, grad_fn=<SelectBackward>) 43.095603942871094\n",
            "5 tensor([ 4.2811e+00,  2.6266e+01,  8.4490e+01,  1.0788e+01,  6.5930e+01,\n",
            "         8.0820e+01,  3.1737e-02,  1.4591e+01, -6.3733e-01],\n",
            "       grad_fn=<AddBackward0>) 84.48959350585938 tensor(65.3778, grad_fn=<SelectBackward>) 71.11134338378906\n",
            "4 tensor([ 4.6394, 29.9051, 96.0489, 12.2018, 74.4800, 91.7337,  0.7925, 16.7647,\n",
            "        -0.9196], grad_fn=<AddBackward0>) 96.04891204833984 tensor(68.9398, grad_fn=<SelectBackward>) 77.07254028320312\n",
            "2 tensor([ 3.0647, 22.0034, 72.8560,  8.8710, 57.1830, 70.0382,  1.3179, 12.8228,\n",
            "        -0.5583], grad_fn=<AddBackward0>) 72.85602569580078 tensor(39.2571, grad_fn=<SelectBackward>) 49.33677291870117\n",
            "5 tensor([ 3.6418, 27.2274, 92.8687, 10.9741, 73.0564, 89.0742,  2.0370, 16.3457,\n",
            "        -0.6471], grad_fn=<AddBackward0>) 92.86869049072266 tensor(71.7132, grad_fn=<SelectBackward>) 78.05986785888672\n",
            "4 tensor([  3.8726,  29.1939, 102.7728,  12.0627,  80.5397,  98.3283,   2.7079,\n",
            "         18.0609,  -0.8371], grad_fn=<AddBackward0>) 102.77284240722656 tensor(75.1091, grad_fn=<SelectBackward>) 83.4082260131836\n",
            "2 tensor([ 2.6090, 20.2478, 76.6286,  8.6800, 60.6544, 73.6953,  2.4687, 13.5141,\n",
            "        -0.5446], grad_fn=<AddBackward0>) 76.62859344482422 tensor(44.0548, grad_fn=<SelectBackward>) 53.826942443847656\n",
            "4 tensor([ 2.7813, 21.3323, 84.3450,  9.5022, 66.5246, 80.5623,  2.9992, 14.7818,\n",
            "        -0.6944], grad_fn=<AddBackward0>) 84.34498596191406 tensor(62.2895, grad_fn=<SelectBackward>) 68.90613555908203\n",
            "1 tensor([ 2.7475, 21.6824, 89.4997,  9.8711, 70.5928, 85.0356,  3.4121, 15.5567,\n",
            "        -0.9359], grad_fn=<AddBackward0>) 89.49968719482422 tensor(20.9741, grad_fn=<SelectBackward>) 41.53175735473633\n",
            "3 tensor([ 2.7907, 22.8603, 96.8201, 10.3391, 77.0711, 92.0822,  3.9909, 16.7717,\n",
            "        -0.9416], grad_fn=<AddBackward0>) 96.8200912475586 tensor(10.0201, grad_fn=<SelectBackward>) 36.060096740722656\n",
            "X: 50\n",
            "O: 43\n",
            "D: 7\n",
            "2 tensor([ 2.4168e+00,  2.0457e+01,  8.9478e+01,  1.0808e+01,  7.1766e+01,\n",
            "         8.5279e+01,  3.8486e+00,  1.5667e+01, -3.1244e-02],\n",
            "       grad_fn=<AddBackward0>) 89.47808837890625 tensor(50.3783, grad_fn=<SelectBackward>) 62.10823059082031\n",
            "4 tensor([  2.7977,  23.4193, 104.0437,  13.4618,  83.0448,  98.4318,   4.5767,\n",
            "         18.3125,   0.6271], grad_fn=<AddBackward0>) 104.04369354248047 tensor(74.1482, grad_fn=<SelectBackward>) 83.11685180664062\n",
            "7 tensor([  3.2317,  27.5388, 124.6038,  16.7661,  99.5763, 117.2610,   5.6650,\n",
            "         21.9713,   1.2875], grad_fn=<AddBackward0>) 124.60383605957031 tensor(18.9072, grad_fn=<SelectBackward>) 50.616172790527344\n",
            "3 tensor([  3.3406,  29.0930, 134.2083,  18.3621, 107.9460, 126.0303,   6.3093,\n",
            "         24.2819,   2.1703], grad_fn=<AddBackward0>) 134.20828247070312 tensor(17.9303, grad_fn=<SelectBackward>) 52.81367492675781\n",
            "2 tensor([  2.6174,  24.0333, 113.2601,  17.2885,  91.3769, 105.7346,   4.3345,\n",
            "         21.4431,   2.9863], grad_fn=<AddBackward0>) 113.26007843017578 tensor(58.5823, grad_fn=<SelectBackward>) 74.98561096191406\n",
            "5 tensor([  3.0463,  28.9795, 139.1059,  21.7260, 112.8026, 129.5368,   4.5596,\n",
            "         26.6715,   4.3701], grad_fn=<AddBackward0>) 139.10592651367188 tensor(108.7858, grad_fn=<SelectBackward>) 117.88184356689453\n",
            "4 tensor([  3.3392,  31.4225, 153.3419,  24.9006, 123.7948, 142.4915,   4.2879,\n",
            "         29.8255,   5.0978], grad_fn=<AddBackward0>) 153.34185791015625 tensor(116.4850, grad_fn=<SelectBackward>) 127.5420913696289\n",
            "7 tensor([  3.9152,  36.7970, 181.6865,  30.5311, 146.6721, 168.4203,   4.1091,\n",
            "         35.8688,   6.3136], grad_fn=<AddBackward0>) 181.68646240234375 tensor(31.4818, grad_fn=<SelectBackward>) 76.54322814941406\n",
            "2 tensor([  2.5455,  23.9251, 120.4621,  21.0261,  96.8830, 110.8991,   1.0239,\n",
            "         25.0160,   4.6657], grad_fn=<AddBackward0>) 120.46214294433594 tensor(69.4222, grad_fn=<SelectBackward>) 84.73417663574219\n",
            "5 tensor([  3.4839,  33.3207, 169.0429,  30.1171, 136.3881, 155.5631,   0.3042,\n",
            "         36.1068,   7.1360], grad_fn=<AddBackward0>) 169.0428924560547 tensor(114.5143, grad_fn=<SelectBackward>) 130.87289428710938\n",
            "4 tensor([  3.8751,  36.5125, 187.1967,  33.9985, 150.4449, 172.0118,  -0.7431,\n",
            "         40.6855,   8.0376], grad_fn=<AddBackward0>) 187.19668579101562 tensor(142.0783, grad_fn=<SelectBackward>) 155.6138153076172\n",
            "2 tensor([  2.8439,  27.0300, 142.6437,  25.0031, 115.6696, 131.5644,  -1.6737,\n",
            "         31.7873,   6.5029], grad_fn=<AddBackward0>) 142.6437225341797 tensor(79.7861, grad_fn=<SelectBackward>) 98.64335632324219\n",
            "5 tensor([  3.9216,  37.7269, 200.3580,  34.2991, 162.8175, 184.7213,  -3.2383,\n",
            "         45.2895,   9.5389], grad_fn=<AddBackward0>) 200.35797119140625 tensor(135.9793, grad_fn=<SelectBackward>) 155.2928924560547\n",
            "4 tensor([  4.5852,  42.9288, 230.7566,  38.6645, 186.9232, 212.6156,  -4.3402,\n",
            "         52.6966,  10.8132], grad_fn=<AddBackward0>) 230.75657653808594 tensor(169.0826, grad_fn=<SelectBackward>) 187.58480834960938\n",
            "7 tensor([  5.0354,  47.2435, 255.7301,  41.9068, 207.4036, 235.4830,  -5.7662,\n",
            "         58.7257,  12.0383], grad_fn=<AddBackward0>) 255.7301025390625 tensor(55.2802, grad_fn=<SelectBackward>) 115.41519165039062\n",
            "2 tensor([  3.2725,  30.7521, 169.3165,  25.5445, 137.9485, 156.1196,  -4.7809,\n",
            "         40.4746,   8.2328], grad_fn=<AddBackward0>) 169.31651306152344 tensor(94.3600, grad_fn=<SelectBackward>) 116.8469467163086\n",
            "5 tensor([  4.5417,  43.1510, 239.2735,  34.3481, 195.4707, 220.6500,  -7.2658,\n",
            "         58.3546,  11.9516], grad_fn=<AddBackward0>) 239.27349853515625 tensor(160.6077, grad_fn=<SelectBackward>) 184.2074432373047\n",
            "4 tensor([  4.9496,  46.2776, 258.9716,  35.5205, 210.8791, 238.6280,  -8.2974,\n",
            "         63.9723,  12.7544], grad_fn=<AddBackward0>) 258.9715576171875 tensor(202.6278, grad_fn=<SelectBackward>) 219.53094482421875\n",
            "2 tensor([  4.1772,  38.7386, 220.2601,  27.0152, 180.3776, 203.5517,  -7.7678,\n",
            "         55.7229,  10.9272], grad_fn=<AddBackward0>) 220.2600860595703 tensor(107.2136, grad_fn=<SelectBackward>) 141.12754821777344\n",
            "5 tensor([  5.0392,  47.3282, 271.8968,  30.9101, 222.8434, 250.8895,  -9.8355,\n",
            "         69.1138,  13.5568], grad_fn=<AddBackward0>) 271.8968200683594 tensor(209.9701, grad_fn=<SelectBackward>) 228.548095703125\n",
            "4 tensor([  5.5501,  51.3139, 297.4744,  31.8435, 243.3296, 274.4145, -11.0129,\n",
            "         75.9167,  14.6751], grad_fn=<AddBackward0>) 297.474365234375 tensor(230.3417, grad_fn=<SelectBackward>) 250.4814910888672\n",
            "2 tensor([  4.0026,  36.7859, 217.1260,  19.8998, 178.2150, 200.3849,  -8.4118,\n",
            "         55.7315,  10.5391], grad_fn=<AddBackward0>) 217.1260223388672 tensor(121.7583, grad_fn=<SelectBackward>) 150.36862182617188\n",
            "5 tensor([  5.6689,  52.4797, 311.8706,  26.2950, 256.6357, 287.8469, -12.3072,\n",
            "         80.3507,  15.3418], grad_fn=<AddBackward0>) 311.8706359863281 tensor(206.5593, grad_fn=<SelectBackward>) 238.15272521972656\n",
            "4 tensor([  6.3592,  57.8857, 347.6274,  26.9402, 285.9372, 321.1340, -13.7133,\n",
            "         89.5469,  16.9145], grad_fn=<AddBackward0>) 347.62744140625 tensor(265.8620, grad_fn=<SelectBackward>) 290.3916015625\n",
            "2 tensor([  4.5421,  41.2541, 251.3088,  16.6367, 207.4833, 232.3806, -10.2666,\n",
            "         62.9496,  12.0592], grad_fn=<AddBackward0>) 251.30877685546875 tensor(137.1586, grad_fn=<SelectBackward>) 171.4036407470703\n",
            "5 tensor([  6.3541,  58.0802, 356.3044,  21.8584, 294.7135, 329.3768, -14.6658,\n",
            "         87.1671,  17.2073], grad_fn=<AddBackward0>) 356.3043518066406 tensor(237.9077, grad_fn=<SelectBackward>) 273.4266662597656\n",
            "4 tensor([  6.8277,  61.5245, 380.6194,  21.7609, 314.1386, 351.7750, -15.6890,\n",
            "         90.8331,  18.0285], grad_fn=<AddBackward0>) 380.61944580078125 tensor(302.8495, grad_fn=<SelectBackward>) 326.18048095703125\n",
            "2 tensor([  5.0063,  45.1085, 283.8640,  13.4603, 235.4249, 263.0188, -11.7264,\n",
            "         64.9370,  13.1724], grad_fn=<AddBackward0>) 283.8640441894531 tensor(152.5217, grad_fn=<SelectBackward>) 191.92440795898438\n",
            "5 tensor([  6.2271,  56.4570, 358.1343,  14.9681, 297.1496, 331.3543, -14.8191,\n",
            "         80.1920,  16.5828], grad_fn=<AddBackward0>) 358.1343078613281 tensor(269.7571, grad_fn=<SelectBackward>) 296.270263671875\n",
            "2 tensor([  5.4783,  48.3213, 310.9285,  10.6949, 253.9933, 287.7764, -12.8981,\n",
            "         67.3083,  13.9966], grad_fn=<AddBackward0>) 310.928466796875 tensor(161.2829, grad_fn=<SelectBackward>) 206.17660522460938\n",
            "5 tensor([  6.5327,  58.0797, 376.7543,  11.4354, 303.8009, 348.3604, -15.5679,\n",
            "         80.0807,  16.9979], grad_fn=<AddBackward0>) 376.7543029785156 tensor(287.8857, grad_fn=<SelectBackward>) 314.5462646484375\n",
            "X: 47\n",
            "O: 43\n",
            "D: 10\n"
          ],
          "name": "stdout"
        }
      ]
    },
    {
      "cell_type": "code",
      "metadata": {
        "id": "OfRpSP1ke2Ps",
        "colab_type": "code",
        "colab": {}
      },
      "source": [
        "    print(output_next, best.item(), output[move], value)"
      ],
      "execution_count": 0,
      "outputs": []
    },
    {
      "cell_type": "code",
      "metadata": {
        "id": "chuWDZi0TLQO",
        "colab_type": "code",
        "outputId": "8c033db5-d67e-46e2-9dc9-d1bc4ebd21bb",
        "colab": {
          "base_uri": "https://localhost:8080/",
          "height": 611
        }
      },
      "source": [
        "fig = plt.figure()\n",
        "plt.plot(time_line_Net_XR, scoreNetXR, color='red')\n",
        "plt.legend(['Score1', \"Score2\", \"Score3\"], loc='upper right')"
      ],
      "execution_count": 0,
      "outputs": [
        {
          "output_type": "execute_result",
          "data": {
            "text/plain": [
              "<matplotlib.legend.Legend at 0x7f6ecadf4a58>"
            ]
          },
          "metadata": {
            "tags": []
          },
          "execution_count": 81
        },
        {
          "output_type": "display_data",
          "data": {
            "image/png": "[encoded data removed]",
            "text/plain": [
              "<Figure size 1152x720 with 1 Axes>"
            ]
          },
          "metadata": {
            "tags": []
          }
        }
      ]
    },
    {
      "cell_type": "code",
      "metadata": {
        "id": "gCpP8sAQTLJ1",
        "colab_type": "code",
        "colab": {}
      },
      "source": [
        ""
      ],
      "execution_count": 0,
      "outputs": []
    },
    {
      "cell_type": "code",
      "metadata": {
        "id": "HGFERUqiTLHU",
        "colab_type": "code",
        "outputId": "dbe8dd99-fefb-40c4-f232-248b4f33131d",
        "colab": {
          "base_uri": "https://localhost:8080/",
          "height": 68
        }
      },
      "source": [
        "X_StratNet(StratNet.BoardToTensor('.........'))"
      ],
      "execution_count": 0,
      "outputs": [
        {
          "output_type": "execute_result",
          "data": {
            "text/plain": [
              "tensor([934261.6250, 104370.1641,  -2164.8325,  -2080.7212, 401052.5938,\n",
              "        866661.1875, 429299.8750,  59625.3672,  -3548.1782],\n",
              "       grad_fn=<AddBackward0>)"
            ]
          },
          "metadata": {
            "tags": []
          },
          "execution_count": 96
        }
      ]
    },
    {
      "cell_type": "code",
      "metadata": {
        "id": "4w7taJ9KZRTO",
        "colab_type": "code",
        "outputId": "768806ef-2963-4179-bd2c-e1147a25e78d",
        "colab": {
          "base_uri": "https://localhost:8080/",
          "height": 68
        }
      },
      "source": [
        "X_StratNet(StratNet.BoardToTensor('.X..O....'))"
      ],
      "execution_count": 0,
      "outputs": [
        {
          "output_type": "execute_result",
          "data": {
            "text/plain": [
              "tensor([ 1.6167e+08,  1.8920e+09,  6.8736e+07,  8.0647e+07, -1.8443e+05,\n",
              "         4.0910e+08,  1.7404e+09,  4.7719e+08, -3.6607e+05],\n",
              "       grad_fn=<AddBackward0>)"
            ]
          },
          "metadata": {
            "tags": []
          },
          "execution_count": 84
        }
      ]
    },
    {
      "cell_type": "code",
      "metadata": {
        "id": "cc-lQ8SnZRZ5",
        "colab_type": "code",
        "outputId": "bdde8a63-6f2b-4378-a174-8dbc4c3eccef",
        "colab": {
          "base_uri": "https://localhost:8080/",
          "height": 102
        }
      },
      "source": [
        "print(X_StratNet(X_StratNet.BoardToTensor(story[-3])))\n",
        "print(moves[-2])\n",
        "X_StratNet.SetQValue(story[-3], moves[-2], -1)\n",
        "print(X_StratNet(X_StratNet.BoardToTensor(story[-3])))\n"
      ],
      "execution_count": 0,
      "outputs": [
        {
          "output_type": "stream",
          "text": [
            "tensor([ 0.0259, -0.0035, -0.1472, -0.1672, -0.0269,  0.2246,  0.0321,  0.1319,\n",
            "        -0.1318], grad_fn=<AddBackward0>)\n",
            "1\n",
            "tensor([ 0.0277, -0.0217, -0.1521, -0.1635, -0.0189,  0.2284,  0.0369,  0.1208,\n",
            "        -0.1307], grad_fn=<AddBackward0>)\n"
          ],
          "name": "stdout"
        }
      ]
    },
    {
      "cell_type": "code",
      "metadata": {
        "id": "l6KpBS08ZRdV",
        "colab_type": "code",
        "colab": {}
      },
      "source": [
        "    print(output_next, best.item(), output[move], value)"
      ],
      "execution_count": 0,
      "outputs": []
    },
    {
      "cell_type": "code",
      "metadata": {
        "id": "5phnFt5gZRYH",
        "colab_type": "code",
        "colab": {}
      },
      "source": [
        ""
      ],
      "execution_count": 0,
      "outputs": []
    },
    {
      "cell_type": "code",
      "metadata": {
        "id": "rdZqGeXtZRXB",
        "colab_type": "code",
        "colab": {}
      },
      "source": [
        ""
      ],
      "execution_count": 0,
      "outputs": []
    },
    {
      "cell_type": "code",
      "metadata": {
        "id": "Xq1hrAlNZRQf",
        "colab_type": "code",
        "colab": {}
      },
      "source": [
        ""
      ],
      "execution_count": 0,
      "outputs": []
    },
    {
      "cell_type": "code",
      "metadata": {
        "id": "eqzCa9xGcFfl",
        "colab_type": "code",
        "colab": {}
      },
      "source": [
        "while stat != \"X win\":\n",
        "  stat, story, moves =  PlayGame(RandomMove, StratNet.Move)"
      ],
      "execution_count": 0,
      "outputs": []
    },
    {
      "cell_type": "code",
      "metadata": {
        "id": "86McmTNKfRN4",
        "colab_type": "code",
        "colab": {}
      },
      "source": [
        "StratNet(StratNet.BoardToTensor('....X....'))"
      ],
      "execution_count": 0,
      "outputs": []
    },
    {
      "cell_type": "code",
      "metadata": {
        "id": "RLxzGM2-fdFG",
        "colab_type": "code",
        "outputId": "5680a089-2556-44b8-8302-f39e54f3d75b",
        "colab": {
          "base_uri": "https://localhost:8080/",
          "height": 425
        }
      },
      "source": [
        "for b in story:\n",
        "  PrintBoard(b)"
      ],
      "execution_count": 0,
      "outputs": [
        {
          "output_type": "stream",
          "text": [
            "...\n",
            "...\n",
            "...\n",
            "\n",
            "X..\n",
            "...\n",
            "...\n",
            "\n",
            "X..\n",
            ".O.\n",
            "...\n",
            "\n",
            "X..\n",
            "XO.\n",
            "...\n",
            "\n",
            "X.O\n",
            "XO.\n",
            "...\n",
            "\n",
            "X.O\n",
            "XO.\n",
            "X..\n",
            "\n"
          ],
          "name": "stdout"
        }
      ]
    },
    {
      "cell_type": "code",
      "metadata": {
        "id": "rhgnYjW3Tj7A",
        "colab_type": "code",
        "outputId": "a887efe7-e632-458b-abd5-3e8d92f9dc59",
        "colab": {
          "base_uri": "https://localhost:8080/",
          "height": 34
        }
      },
      "source": [
        "story"
      ],
      "execution_count": 0,
      "outputs": [
        {
          "output_type": "execute_result",
          "data": {
            "text/plain": [
              "['.........', 'X........', 'X...O....', 'X..XO....', 'X.OXO....', 'X.OXO.X..']"
            ]
          },
          "metadata": {
            "tags": []
          },
          "execution_count": 74
        }
      ]
    },
    {
      "cell_type": "code",
      "metadata": {
        "id": "Nre8Wew5UCvZ",
        "colab_type": "code",
        "outputId": "c70f4f74-ffda-4dab-d756-e7a65aa59ee6",
        "colab": {
          "base_uri": "https://localhost:8080/",
          "height": 51
        }
      },
      "source": [
        "StratNet(StratNet.BoardToTensor(\"X..XO....\"))"
      ],
      "execution_count": 0,
      "outputs": [
        {
          "output_type": "execute_result",
          "data": {
            "text/plain": [
              "tensor([ 1.7601,  0.3661,  2.2031,  0.8849,  3.0974, -0.5062,  1.3472,  0.5934,\n",
              "         0.6719], grad_fn=<AddBackward0>)"
            ]
          },
          "metadata": {
            "tags": []
          },
          "execution_count": 75
        }
      ]
    },
    {
      "cell_type": "code",
      "metadata": {
        "id": "VGL3V5GYUO59",
        "colab_type": "code",
        "colab": {}
      },
      "source": [
        ""
      ],
      "execution_count": 0,
      "outputs": []
    }
  ]
}