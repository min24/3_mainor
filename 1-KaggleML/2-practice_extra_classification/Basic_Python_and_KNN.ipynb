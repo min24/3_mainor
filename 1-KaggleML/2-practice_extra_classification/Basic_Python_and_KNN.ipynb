{
  "nbformat": 4,
  "nbformat_minor": 0,
  "metadata": {
    "colab": {
      "name": "Basic Python and KNN.ipynb",
      "provenance": [],
      "collapsed_sections": []
    },
    "kernelspec": {
      "name": "python3",
      "display_name": "Python 3"
    }
  },
  "cells": [
    {
      "cell_type": "markdown",
      "metadata": {
        "id": "FeNr8OQ-RmK5",
        "colab_type": "text"
      },
      "source": [
        "Мы посмотрели на два метода классификации, теперь перейдем к Python"
      ]
    },
    {
      "cell_type": "code",
      "metadata": {
        "id": "MDYSN9RIRZb0",
        "colab_type": "code",
        "colab": {}
      },
      "source": [
        "x = 3\n"
      ],
      "execution_count": 0,
      "outputs": []
    },
    {
      "cell_type": "code",
      "metadata": {
        "id": "mtNVJhNjRlnn",
        "colab_type": "code",
        "colab": {}
      },
      "source": [
        "print(x)"
      ],
      "execution_count": 0,
      "outputs": []
    },
    {
      "cell_type": "markdown",
      "metadata": {
        "id": "lsf6Q-dUR7-U",
        "colab_type": "text"
      },
      "source": [
        "Важно не путаться в отступах."
      ]
    },
    {
      "cell_type": "code",
      "metadata": {
        "id": "K3AUjCTxRlp7",
        "colab_type": "code",
        "colab": {}
      },
      "source": [
        "if x > 2:\n",
        "    print(x - 2)\n",
        "  print(x - 1)\n",
        "else:\n",
        "    print(x + 3)"
      ],
      "execution_count": 0,
      "outputs": []
    },
    {
      "cell_type": "markdown",
      "metadata": {
        "id": "6K4IzsCNScP5",
        "colab_type": "text"
      },
      "source": [
        "Отступы должны быть одинаковыми внутри блока, рекомендуется делать их равными одной табуляции или четырем пробелам."
      ]
    },
    {
      "cell_type": "code",
      "metadata": {
        "id": "e8a78Wz4Rlwj",
        "colab_type": "code",
        "colab": {}
      },
      "source": [
        "x = 1\n",
        "if x > 2:\n",
        "    print(x - 2)\n",
        "    print(x - 1)\n",
        "else:\n",
        "  print(x + 3)"
      ],
      "execution_count": 0,
      "outputs": []
    },
    {
      "cell_type": "markdown",
      "metadata": {
        "id": "wNs6yxYYSyz9",
        "colab_type": "text"
      },
      "source": [
        "В целом, на Python можно писать примерно то же самое и так же как на R. Давайте воспроизведем историю про KNN и рак. \n",
        "\n",
        "Однако будут свои нюансы.\n",
        "Первый состоит в том, что в Python нет \"встроенной по умолчанию\" работы с таблицами и мы будем использовать пакет Pandas (https://pandas.pydata.org/). \n",
        "\n",
        "Полезный чит-шит (https://pandas.pydata.org/Pandas_Cheat_Sheet.pdf)"
      ]
    },
    {
      "cell_type": "code",
      "metadata": {
        "id": "58x2k78MRl9Q",
        "colab_type": "code",
        "colab": {}
      },
      "source": [
        "import pandas as pd\n",
        "prCancer = pd.read_csv(\"https://github.com/AVSirotkin/data_for_classes/raw/master/Prostate_Cancer.csv\")"
      ],
      "execution_count": 0,
      "outputs": []
    },
    {
      "cell_type": "code",
      "metadata": {
        "id": "-Mj1LGAnV7fo",
        "colab_type": "code",
        "colab": {}
      },
      "source": [
        "prCancer.head()"
      ],
      "execution_count": 0,
      "outputs": []
    },
    {
      "cell_type": "markdown",
      "metadata": {
        "id": "ddbcFSAySy56",
        "colab_type": "text"
      },
      "source": [
        "Создадим тестовую и обучающую выборки."
      ]
    },
    {
      "cell_type": "markdown",
      "metadata": {
        "id": "zz-aK4a2Sy3z",
        "colab_type": "text"
      },
      "source": [
        ""
      ]
    },
    {
      "cell_type": "code",
      "metadata": {
        "id": "UQJzpFJvRlvc",
        "colab_type": "code",
        "colab": {}
      },
      "source": [
        "import random\n",
        "random.seed(3)\n",
        "pc_test_ind = random.sample(range(len(prCancer)), k = int(len(prCancer)*0.3))\n",
        "pc_test = prCancer.iloc[pc_test_ind]\n",
        "pc_main = prCancer.iloc[[x for x in range(len(prCancer)) if not x in pc_test_ind]]"
      ],
      "execution_count": 0,
      "outputs": []
    },
    {
      "cell_type": "code",
      "metadata": {
        "id": "Gfsyh4WBRltk",
        "colab_type": "code",
        "colab": {}
      },
      "source": [
        "from plotnine import *\n",
        "(ggplot(prCancer)\n",
        " + aes(x='perimeter', y = 'symmetry', color = 'diagnosis_result')\n",
        " + geom_point()\n",
        ")"
      ],
      "execution_count": 0,
      "outputs": []
    },
    {
      "cell_type": "code",
      "metadata": {
        "id": "KBdtEZe7Rlky",
        "colab_type": "code",
        "colab": {}
      },
      "source": [
        "data_main = pc_main[[\"diagnosis_result\", \"perimeter\", \"symmetry\"]]\n",
        "data_test = pc_test[[\"diagnosis_result\", \"perimeter\", \"symmetry\"]]"
      ],
      "execution_count": 0,
      "outputs": []
    },
    {
      "cell_type": "code",
      "metadata": {
        "id": "iYKuDj8sge73",
        "colab_type": "code",
        "colab": {}
      },
      "source": [
        "from sklearn.neighbors import KNeighborsClassifier\n",
        "\n",
        "knn = KNeighborsClassifier(n_neighbors=1, metric='euclidean')\n",
        "knn.fit(data_main[[\"perimeter\", \"symmetry\"]], data_main[\"diagnosis_result\"])"
      ],
      "execution_count": 0,
      "outputs": []
    },
    {
      "cell_type": "code",
      "metadata": {
        "id": "4s36UnpPgfA7",
        "colab_type": "code",
        "colab": {}
      },
      "source": [
        "test_predict = knn.predict(data_test[[\"perimeter\", \"symmetry\"]])\n",
        "test_predict\n",
        "data_test[[\"perimeter\", \"symmetry\"]]"
      ],
      "execution_count": 0,
      "outputs": []
    },
    {
      "cell_type": "code",
      "metadata": {
        "id": "IfgIItxFgfFE",
        "colab_type": "code",
        "colab": {}
      },
      "source": [
        "import sklearn\n",
        "sklearn.metrics.confusion_matrix(data_test['diagnosis_result'], test_predict)"
      ],
      "execution_count": 0,
      "outputs": []
    },
    {
      "cell_type": "markdown",
      "metadata": {
        "id": "O-4fkWsVnsBN",
        "colab_type": "text"
      },
      "source": [
        "Попробуем повторить картинку с границами."
      ]
    },
    {
      "cell_type": "code",
      "metadata": {
        "id": "N_7FIPWCnsRW",
        "colab_type": "code",
        "colab": {}
      },
      "source": [
        "import numpy as np\n",
        "import matplotlib.pyplot as plt\n",
        "\n",
        "def plot_boundaries(model, X, y):\n",
        "    x_min, x_max = X.iloc[:, 0].min() - .1, X.iloc[:, 0].max() + .1\n",
        "    y_min, y_max = X.iloc[:, 1].min() - .1, X.iloc[:, 1].max() + .1\n",
        "    xx, yy = np.meshgrid(np.arange(x_min, x_max, 0.1),\n",
        "                        np.arange(y_min, y_max, 0.1))\n",
        "\n",
        "    plt.figure()\n",
        "#    print(xx.ravel())\n",
        "    Z = model.predict(np.c_[xx.ravel(), yy.ravel()])\n",
        "    Z = Z.reshape(xx.shape)\n",
        "#    print(Z)\n",
        "    plt.contourf(xx, yy, Z == \"B\", [0, 0.5, 1], alpha=0.4)\n",
        "    plt.scatter(X.iloc[:, 0], X.iloc[:, 1], c=y, s=20, edgecolor='k')\n",
        "#    plt.set_title(tt)\n",
        "\n",
        "    plt.show()\n",
        "\n",
        "plot_boundaries(knn, prCancer[[\"perimeter\", \"symmetry\"]], prCancer[\"diagnosis_result\"])"
      ],
      "execution_count": 0,
      "outputs": []
    },
    {
      "cell_type": "code",
      "metadata": {
        "id": "dtQZdgdGuYJM",
        "colab_type": "code",
        "colab": {}
      },
      "source": [
        "knn.predict([[1, 1]])"
      ],
      "execution_count": 0,
      "outputs": []
    },
    {
      "cell_type": "code",
      "metadata": {
        "id": "TEWI7hXtgfJo",
        "colab_type": "code",
        "colab": {}
      },
      "source": [
        "sklearn.metrics.accuracy_score(data_test['diagnosis_result'], test_predict)"
      ],
      "execution_count": 0,
      "outputs": []
    },
    {
      "cell_type": "code",
      "metadata": {
        "id": "-erCBaRDgfNQ",
        "colab_type": "code",
        "colab": {}
      },
      "source": [
        "knn3 = KNeighborsClassifier(n_neighbors=3, metric='euclidean')\n",
        "knn3.fit(data_main[[\"perimeter\", \"symmetry\"]], data_main[\"diagnosis_result\"])\n",
        "plot_boundaries(knn3, prCancer[[\"perimeter\", \"symmetry\"]], prCancer[\"diagnosis_result\"])"
      ],
      "execution_count": 0,
      "outputs": []
    },
    {
      "cell_type": "code",
      "metadata": {
        "id": "aP2xd-6ige-_",
        "colab_type": "code",
        "colab": {}
      },
      "source": [
        "test_predict = knn3.predict(data_test[[\"perimeter\", \"symmetry\"]])\n",
        "sklearn.metrics.confusion_matrix(data_test['diagnosis_result'], test_predict)"
      ],
      "execution_count": 0,
      "outputs": []
    },
    {
      "cell_type": "code",
      "metadata": {
        "id": "Snr0rMflge51",
        "colab_type": "code",
        "colab": {}
      },
      "source": [
        "sklearn.metrics.accuracy_score(data_test['diagnosis_result'], test_predict)"
      ],
      "execution_count": 0,
      "outputs": []
    },
    {
      "cell_type": "markdown",
      "metadata": {
        "id": "PRjduFqxkChQ",
        "colab_type": "text"
      },
      "source": [
        "Пока мы смогли повторить все что было в R. Поговорим о нормализации."
      ]
    },
    {
      "cell_type": "code",
      "metadata": {
        "id": "XTeDb_4Uge2C",
        "colab_type": "code",
        "colab": {}
      },
      "source": [
        "Пока мы смогли повторить все что было в R. Поговорим о нормализации."
      ],
      "execution_count": 0,
      "outputs": []
    },
    {
      "cell_type": "code",
      "metadata": {
        "id": "yssgX4BwkRVL",
        "colab_type": "code",
        "colab": {}
      },
      "source": [
        "print(prCancer.perimeter.describe())\n",
        " "
      ],
      "execution_count": 0,
      "outputs": []
    },
    {
      "cell_type": "code",
      "metadata": {
        "id": "znWztEz-kRbi",
        "colab_type": "code",
        "colab": {}
      },
      "source": [
        "print(prCancer.symmetry.describe())"
      ],
      "execution_count": 0,
      "outputs": []
    },
    {
      "cell_type": "code",
      "metadata": {
        "id": "f7DkCNCekRhT",
        "colab_type": "code",
        "colab": {}
      },
      "source": [
        "smin = min(prCancer.symmetry)\n",
        "pmin = min(prCancer.perimeter)\n",
        "smax = max(prCancer.symmetry)\n",
        "pmax = max(prCancer.perimeter)\n",
        "prCancer.symmetry = (prCancer.symmetry - smin)/(smax-smin)\n",
        "prCancer.perimeter = (prCancer.perimeter - pmin)/(pmax-pmin)"
      ],
      "execution_count": 0,
      "outputs": []
    },
    {
      "cell_type": "code",
      "metadata": {
        "id": "gFVBKQt3kRka",
        "colab_type": "code",
        "colab": {}
      },
      "source": [
        "pc_test = prCancer.iloc[pc_test_ind]\n",
        "pc_main = prCancer.iloc[[x for x in range(len(prCancer)) if not x in pc_test_ind]]\n",
        "data_main = pc_main[[\"diagnosis_result\", \"perimeter\", \"symmetry\"]]\n",
        "data_test = pc_test[[\"diagnosis_result\", \"perimeter\", \"symmetry\"]]"
      ],
      "execution_count": 0,
      "outputs": []
    },
    {
      "cell_type": "code",
      "metadata": {
        "id": "77VHy1F7kRn7",
        "colab_type": "code",
        "colab": {}
      },
      "source": [
        "ggplot(prCancer) + aes(color = 'diagnosis_result') + geom_point(aes(x='perimeter', y = 'symmetry'))"
      ],
      "execution_count": 0,
      "outputs": []
    },
    {
      "cell_type": "code",
      "metadata": {
        "id": "LE-sXN_mwgrP",
        "colab_type": "code",
        "colab": {}
      },
      "source": [
        "knn3_norm = KNeighborsClassifier(n_neighbors=3, metric='euclidean')\n",
        "knn3_norm.fit(data_main[[\"perimeter\", \"symmetry\"]], data_main[\"diagnosis_result\"])\n",
        "plot_boundaries(knn3_norm, prCancer[[\"perimeter\", \"symmetry\"]], prCancer[\"diagnosis_result\"])"
      ],
      "execution_count": 0,
      "outputs": []
    },
    {
      "cell_type": "code",
      "metadata": {
        "id": "9FriyG59wgvP",
        "colab_type": "code",
        "colab": {}
      },
      "source": [
        "knn3_norm.predict([[0,0], [1, 1]])"
      ],
      "execution_count": 0,
      "outputs": []
    },
    {
      "cell_type": "code",
      "metadata": {
        "id": "BN8G7CtXyNiH",
        "colab_type": "code",
        "colab": {}
      },
      "source": [
        ""
      ],
      "execution_count": 0,
      "outputs": []
    }
  ]
}